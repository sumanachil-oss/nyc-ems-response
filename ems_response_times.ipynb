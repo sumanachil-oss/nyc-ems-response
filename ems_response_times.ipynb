{
 "cells": [
  {
   "cell_type": "markdown",
   "metadata": {
    "id": "GJ4Xt1uf1LT7"
   },
   "source": [
    "# Final Project Phase 3 Summary\n",
    "This Jupyter Notebook (.ipynb) will serve as the skeleton file for your submission for Phase 3 of the Final Project. Complete all sections below as specified in the instructions for the project, covering all necessary details. We will use this to grade your individual code (Do this whether you are in a group or not). Good luck! <br><br>\n",
    "\n",
    "Note: To edit a Markdown cell, double-click on its text."
   ]
  },
  {
   "cell_type": "markdown",
   "metadata": {
    "id": "JEtNzYHagmon"
   },
   "source": []
  },
  {
   "cell_type": "markdown",
   "metadata": {
    "id": "tjB_SbWY1LUB"
   },
   "source": [
    "## Jupyter Notebook Quick Tips\n",
    "Here are some quick formatting tips to get you started with Jupyter Notebooks. This is by no means exhaustive, and there are plenty of articles to highlight other things that can be done. We recommend using HTML syntax for Markdown but there is also Markdown syntax that is more streamlined and might be preferable. \n",
    "<a href = \"https://towardsdatascience.com/markdown-cells-jupyter-notebook-d3bea8416671\">Here's an article</a> that goes into more detail. (Double-click on cell to see syntax)\n",
    "\n",
    "# Heading 1\n",
    "## Heading 2\n",
    "### Heading 3\n",
    "#### Heading 4\n",
    "<br>\n",
    "<b>BoldText</b> or <i>ItalicText</i>\n",
    "<br> <br>\n",
    "Math Formulas: $x^2 + y^2 = 1$\n",
    "<br> <br>\n",
    "Line Breaks are done using br enclosed in < >.\n",
    "<br><br>\n",
    "Hyperlinks are done with: <a> https://www.google.com </a> or \n",
    "<a href=\"http://www.google.com\">Google</a><br>"
   ]
  },
  {
   "cell_type": "markdown",
   "metadata": {
    "id": "tb9oVjpRDswQ"
   },
   "source": [
    "# Data Collection and Cleaning\n",
    "\n",
    "\n",
    "Transfer/update the data collection and cleaning you created for Phase II below. You may include additional cleaning functions if you have extra datasets. If no changes are necessary, simply copy and paste your phase II parsing/cleaning functions.\n"
   ]
  },
  {
   "cell_type": "markdown",
   "metadata": {
    "id": "9mRjxZDbE1tj"
   },
   "source": [
    "## Downloaded Dataset Requirement\n",
    "\n"
   ]
  },
  {
   "cell_type": "code",
   "execution_count": 88,
   "metadata": {},
   "outputs": [],
   "source": [
    "import json\n",
    "import pandas as pd\n",
    "import numpy as np\n",
    "import requests, re\n",
    "from bs4 import BeautifulSoup\n",
    "import matplotlib.pyplot as plt\n",
    "from sklearn.linear_model import LinearRegression"
   ]
  },
  {
   "cell_type": "code",
   "execution_count": null,
   "metadata": {},
   "outputs": [],
   "source": []
  },
  {
   "cell_type": "code",
   "execution_count": 89,
   "metadata": {
    "id": "0p5xxmqzFGrO"
   },
   "outputs": [
    {
     "data": {
      "text/html": [
       "<div>\n",
       "<style scoped>\n",
       "    .dataframe tbody tr th:only-of-type {\n",
       "        vertical-align: middle;\n",
       "    }\n",
       "\n",
       "    .dataframe tbody tr th {\n",
       "        vertical-align: top;\n",
       "    }\n",
       "\n",
       "    .dataframe thead th {\n",
       "        text-align: right;\n",
       "    }\n",
       "</style>\n",
       "<table border=\"1\" class=\"dataframe\">\n",
       "  <thead>\n",
       "    <tr style=\"text-align: right;\">\n",
       "      <th></th>\n",
       "      <th>Date</th>\n",
       "      <th>Dispatch Response Time</th>\n",
       "      <th>Incident Response Time</th>\n",
       "      <th>Disposition Code</th>\n",
       "      <th>Borough</th>\n",
       "    </tr>\n",
       "  </thead>\n",
       "  <tbody>\n",
       "    <tr>\n",
       "      <th>0</th>\n",
       "      <td>01/01/2021 09:22:11 PM</td>\n",
       "      <td>NaN</td>\n",
       "      <td>NaN</td>\n",
       "      <td>91.0</td>\n",
       "      <td>Bronx</td>\n",
       "    </tr>\n",
       "    <tr>\n",
       "      <th>1</th>\n",
       "      <td>01/02/2021 06:15:14 AM</td>\n",
       "      <td>13.0</td>\n",
       "      <td>881.0</td>\n",
       "      <td>82.0</td>\n",
       "      <td>Bronx</td>\n",
       "    </tr>\n",
       "    <tr>\n",
       "      <th>2</th>\n",
       "      <td>01/06/2021 04:12:00 AM</td>\n",
       "      <td>23.0</td>\n",
       "      <td>439.0</td>\n",
       "      <td>91.0</td>\n",
       "      <td>Bronx</td>\n",
       "    </tr>\n",
       "    <tr>\n",
       "      <th>3</th>\n",
       "      <td>01/06/2021 12:38:00 AM</td>\n",
       "      <td>12.0</td>\n",
       "      <td>652.0</td>\n",
       "      <td>91.0</td>\n",
       "      <td>Bronx</td>\n",
       "    </tr>\n",
       "    <tr>\n",
       "      <th>4</th>\n",
       "      <td>01/07/2021 05:01:00 PM</td>\n",
       "      <td>16.0</td>\n",
       "      <td>238.0</td>\n",
       "      <td>91.0</td>\n",
       "      <td>Bronx</td>\n",
       "    </tr>\n",
       "    <tr>\n",
       "      <th>...</th>\n",
       "      <td>...</td>\n",
       "      <td>...</td>\n",
       "      <td>...</td>\n",
       "      <td>...</td>\n",
       "      <td>...</td>\n",
       "    </tr>\n",
       "    <tr>\n",
       "      <th>1794</th>\n",
       "      <td>12/06/2021 08:28:53 PM</td>\n",
       "      <td>15.0</td>\n",
       "      <td>405.0</td>\n",
       "      <td>91.0</td>\n",
       "      <td>Staten Island</td>\n",
       "    </tr>\n",
       "    <tr>\n",
       "      <th>1795</th>\n",
       "      <td>12/10/2021 10:19:34 AM</td>\n",
       "      <td>NaN</td>\n",
       "      <td>NaN</td>\n",
       "      <td>91.0</td>\n",
       "      <td>Staten Island</td>\n",
       "    </tr>\n",
       "    <tr>\n",
       "      <th>1796</th>\n",
       "      <td>12/11/2021 12:07:14 AM</td>\n",
       "      <td>22781.0</td>\n",
       "      <td>26133.0</td>\n",
       "      <td>91.0</td>\n",
       "      <td>Staten Island</td>\n",
       "    </tr>\n",
       "    <tr>\n",
       "      <th>1797</th>\n",
       "      <td>12/12/2021 09:16:11 AM</td>\n",
       "      <td>2972.0</td>\n",
       "      <td>8371.0</td>\n",
       "      <td>91.0</td>\n",
       "      <td>Staten Island</td>\n",
       "    </tr>\n",
       "    <tr>\n",
       "      <th>1798</th>\n",
       "      <td>12/30/2021 08:07:36 AM</td>\n",
       "      <td>21.0</td>\n",
       "      <td>1006.0</td>\n",
       "      <td>82.0</td>\n",
       "      <td>Staten Island</td>\n",
       "    </tr>\n",
       "  </tbody>\n",
       "</table>\n",
       "<p>1799 rows × 5 columns</p>\n",
       "</div>"
      ],
      "text/plain": [
       "                        Date  Dispatch Response Time  Incident Response Time  \\\n",
       "0     01/01/2021 09:22:11 PM                     NaN                     NaN   \n",
       "1     01/02/2021 06:15:14 AM                    13.0                   881.0   \n",
       "2     01/06/2021 04:12:00 AM                    23.0                   439.0   \n",
       "3     01/06/2021 12:38:00 AM                    12.0                   652.0   \n",
       "4     01/07/2021 05:01:00 PM                    16.0                   238.0   \n",
       "...                      ...                     ...                     ...   \n",
       "1794  12/06/2021 08:28:53 PM                    15.0                   405.0   \n",
       "1795  12/10/2021 10:19:34 AM                     NaN                     NaN   \n",
       "1796  12/11/2021 12:07:14 AM                 22781.0                 26133.0   \n",
       "1797  12/12/2021 09:16:11 AM                  2972.0                  8371.0   \n",
       "1798  12/30/2021 08:07:36 AM                    21.0                  1006.0   \n",
       "\n",
       "      Disposition Code        Borough  \n",
       "0                 91.0          Bronx  \n",
       "1                 82.0          Bronx  \n",
       "2                 91.0          Bronx  \n",
       "3                 91.0          Bronx  \n",
       "4                 91.0          Bronx  \n",
       "...                ...            ...  \n",
       "1794              91.0  Staten Island  \n",
       "1795              91.0  Staten Island  \n",
       "1796              91.0  Staten Island  \n",
       "1797              91.0  Staten Island  \n",
       "1798              82.0  Staten Island  \n",
       "\n",
       "[1799 rows x 5 columns]"
      ]
     },
     "execution_count": 89,
     "metadata": {},
     "output_type": "execute_result"
    }
   ],
   "source": [
    "# Here's where we found this data:\n",
    "# https://data.cityofnewyork.us/Public-Safety/EMS-Incident-Dispatch-Data/76xm-jjuj\n",
    "\n",
    "def ems_data():\n",
    "    for i,chunk in enumerate(pd.read_csv(\"incident_dispatch_data.csv\", chunksize=1000000, dtype=object)):\n",
    "        chunk.to_csv(\"C:/Users/diyam/Desktop/CS 2316/Final Project/chunk{}.csv\".format(i), index=True)\n",
    "    return chunk\n",
    "\n",
    "# Because our file was originally 5.22GB with 23.5M rows, we began by splitting up the file into 23 smaller files, with\n",
    "# ~1M rows in each \"chunk\". \n",
    "\n",
    "# We referenced this website for the above code:\n",
    "# https://mungingdata.com/python/split-csv-write-chunk-pandas/\n",
    "\n",
    "def chunked_ems_data():\n",
    "    df = pd.read_csv(\"chunk21.csv\")\n",
    "    df1 = pd.read_csv(\"chunk22.csv\")\n",
    "\n",
    "# We only wanted to work with data from the year of 2021, which lied within two of our smaller files, hence why we \n",
    "# created two dataframes for the data in both files.  \n",
    "    \n",
    "    df = df.iloc[309675:,:]\n",
    "    df1 = df1.iloc[:803927,:]\n",
    "    data = pd.concat([df, df1], axis=0)\n",
    "    data = data.replace(0, np.nan) # FIXING INCONSISTENCY #1\n",
    "    data = data.replace(1, np.nan) # FIXING INCONSISTENCY #1\n",
    "    \n",
    "# There was some 2020 data and 2022 data before and after the 2021 data, so we extracted the 2021 data from both \n",
    "# files and concatenated the two dataframes together. \n",
    "\n",
    "# We also handled extremely small outliers by replacing cells where\n",
    "# both \"DISPATCH_RESPONSE_SECONDS_QY\" and \"INCIDENT_RESPONSE_SECONDS_QY\" are equal to 0 or 1 by replacing those cells with\n",
    "# NaN so that those values don't pull down any averages we may decide to calculate with those columns in the future. \n",
    "\n",
    "    data = data.drop([\"Unnamed: 0\", \"CAD_INCIDENT_ID\", \"INITIAL_CALL_TYPE\", \"FINAL_CALL_TYPE\", \"FINAL_SEVERITY_LEVEL_CODE\", \"FIRST_ASSIGNMENT_DATETIME\"], axis = 1)\n",
    "    data = data.drop([\"FIRST_ACTIVATION_DATETIME\", \"FIRST_ON_SCENE_DATETIME\", \"INCIDENT_TRAVEL_TM_SECONDS_QY\", \"FIRST_TO_HOSP_DATETIME\", \"FIRST_HOSP_ARRIVAL_DATETIME\"], axis = 1)\n",
    "    data = data.drop([\"INCIDENT_CLOSE_DATETIME\", \"HELD_INDICATOR\", \"INCIDENT_DISPATCH_AREA\", \"ZIPCODE\", \"POLICEPRECINCT\", \"CITYCOUNCILDISTRICT\", \"COMMUNITYDISTRICT\", \"COMMUNITYSCHOOLDISTRICT\", \"CONGRESSIONALDISTRICT\", \"REOPEN_INDICATOR\", \"SPECIAL_EVENT_INDICATOR\", \"STANDBY_INDICATOR\", \"TRANSFER_INDICATOR\"], axis = 1)\n",
    "    \n",
    "# We dropped columns we don't need as well as all the holes in the dataset.\n",
    "\n",
    "    data[\"VALID_DISPATCH_RSPNS_TIME_INDC\"] = np.where(data[\"VALID_DISPATCH_RSPNS_TIME_INDC\"].astype(str)==\"Y\", True, False)\n",
    "    data[\"VALID_INCIDENT_RSPNS_TIME_INDC\"] = np.where(data[\"VALID_INCIDENT_RSPNS_TIME_INDC\"].astype(str)==\"Y\", True, False)\n",
    "    data = data[(data[\"VALID_DISPATCH_RSPNS_TIME_INDC\"]==True) & (data[\"VALID_INCIDENT_RSPNS_TIME_INDC\"]==True)]\n",
    "    data = data.drop([\"VALID_DISPATCH_RSPNS_TIME_INDC\", \"VALID_INCIDENT_RSPNS_TIME_INDC\"], axis=1)\n",
    "    data = data[data[\"INITIAL_SEVERITY_LEVEL_CODE\"] >= 8]\n",
    "    data = data[(data[\"INCIDENT_DISPOSITION_CODE\"] == 82) | (data[\"INCIDENT_DISPOSITION_CODE\"] == 83) | (data[\"INCIDENT_DISPOSITION_CODE\"] == 91) | (data[\"INCIDENT_DISPOSITION_CODE\"] == 92) | (data[\"INCIDENT_DISPOSITION_CODE\"] == 94) | (data[\"INCIDENT_DISPOSITION_CODE\"] == 95) |(data[\"INCIDENT_DISPOSITION_CODE\"] == 96)]\n",
    "    data.rename(columns = {\"INCIDENT_DATETIME\" : \"Date\", \"INITIAL_SEVERITY_LEVEL_CODE\" : \"Severity Level\", \"DISPATCH_RESPONSE_SECONDS_QY\" : \"Dispatch Response Time\", \"INCIDENT_RESPONSE_SECONDS_QY\" : \"Incident Response Time\", \"INCIDENT_DISPOSITION_CODE\" : \"Disposition Code\", \"BOROUGH\" : \"Borough\"}, inplace = True)\n",
    "    data = data.drop([\"Severity Level\"], axis=1)\n",
    "\n",
    "# We used masking to reduce rows from ~2M Rows to ~1776 rows based on various criteria (all the dispatch and response\n",
    "# data had to be valid and categorized as \"Y\", the case's initial severity code had to be at least 8 on a scale of 1-10, \n",
    "# irrelevent dispositions or statuses of the patient such as \"cancelled\" or \"unfounded\". We then renamed some columns to be \n",
    "# more readable.\n",
    "\n",
    "    data = data.sort_values([ \"Borough\", \"Date\"], ascending=[True, True], inplace=False)\n",
    "    data = data.reset_index(drop=True)\n",
    "    \n",
    "# We sorted data based on borough first and then by date, so the dataframe was structured in a way where every case in 2021 was\n",
    "# listed for the Bronx, and below that every case in 2021 was listed for Brooklyn, so on and so forth.\n",
    "\n",
    "# FIXING INCONSISTENCY #2\n",
    "    data = data.replace(\"BRONX\", \"Bronx\")\n",
    "    data = data.replace(\"BROOKLYN\", \"Brooklyn\")\n",
    "    data = data.replace(\"MANHATTAN\", \"Manhattan\")\n",
    "    data = data.replace(\"QUEENS\", \"Queens\")\n",
    "    data = data.replace(\"RICHMOND / STATEN ISLAND\", \"Staten Island\")\n",
    "    \n",
    "# In order to improve our ability to cross-reference borough data with other datasets' borough data, we renamed values in the \n",
    "# 'Borough' column to be consistent with the other datasets. \n",
    "\n",
    "    bronx = data[data[\"Borough\"]==\"Bronx\"]\n",
    "    brooklyn = data[data[\"Borough\"] ==\"Brooklyn\"]\n",
    "    manhattan = data[data[\"Borough\"] ==\"Manhattan\"]\n",
    "    queens = data[data[\"Borough\"]==\"Queens\"]\n",
    "    staten_island = data[data[\"Borough\"] == \"Staten Island\"]\n",
    "    \n",
    "    data.to_csv(\"2021_ems_data.csv\")\n",
    "    \n",
    "#     data.to_excel(summary_file, sheet_name = \"Cleaned CSV\")\n",
    "#     summary_file.save()\n",
    "\n",
    "    return data\n",
    "\n",
    "\n",
    "\n",
    "############ Function Call ############\n",
    "\n",
    "\n",
    "# ems_data()\n",
    "chunked_ems_data()"
   ]
  },
  {
   "cell_type": "markdown",
   "metadata": {
    "id": "794L4vGXFdYw"
   },
   "source": [
    "## Web Collection Requirement \\#1\n"
   ]
  },
  {
   "cell_type": "code",
   "execution_count": 90,
   "metadata": {
    "id": "vXwpJObDFiWM"
   },
   "outputs": [
    {
     "data": {
      "text/plain": [
       "[     New York City: Median Household Income Poverty Rate\n",
       " 2000                                $60,180        21.2%\n",
       " 2006                                $58,580        19.2%\n",
       " 2010                                $56,290        20.1%\n",
       " 2018                                $64,850        17.3%,\n",
       "      The Bronx: Median Household Income Poverty Rate\n",
       " 2000                            $43,390        30.7%\n",
       " 2006                            $39,690        29.1%\n",
       " 2010                            $37,610        30.2%\n",
       " 2018                            $39,100        27.4%,\n",
       "      Brooklyn: Median Household Income Poverty Rate\n",
       " 2000                           $50,500        25.1%\n",
       " 2006                           $50,910        22.6%\n",
       " 2010                           $48,670        23.0%\n",
       " 2018                           $62,230        19.0%,\n",
       "      Manhattan: Median Household Income Poverty Rate\n",
       " 2000                            $73,910        19.9%\n",
       " 2006                            $75,640        18.3%\n",
       " 2010                            $73,720        16.4%\n",
       " 2018                            $86,470        15.5%,\n",
       "      Queens: Median Household Income Poverty Rate\n",
       " 2000                         $66,690        14.6%\n",
       " 2006                         $64,520        12.2%\n",
       " 2010                         $61,270        15.0%\n",
       " 2018                         $70,470        11.5%,\n",
       "      Staten Island: Median Household Income Poverty Rate\n",
       " 2000                                $86,500        10.0%\n",
       " 2006                                $86,490         9.2%\n",
       " 2010                                $81,490        11.8%\n",
       " 2018                                $83,520        11.4%]"
      ]
     },
     "execution_count": 90,
     "metadata": {},
     "output_type": "execute_result"
    }
   ],
   "source": [
    "def borough_data():\n",
    "    r = requests.get(\"https://furmancenter.org/stateofthecity/view/citywide-and-borough-data\").text\n",
    "    a_list = []\n",
    "    soup = BeautifulSoup(r, \"html.parser\")\n",
    "    tables = soup.find_all(\"table\")\n",
    "    \n",
    "# There were multiple tables per borough on the webpage, so we had to iterate through each table tag.\n",
    "    \n",
    "    for table in tables:        \n",
    "        trs = table.find_all(\"tr\")[10:12]\n",
    "\n",
    "# Rows 10 and 11 were the two demographics that we wanted to extract data from for every borough -- median household \n",
    "# income and poverty rate across several years.\n",
    "        \n",
    "        for tr in trs:\n",
    "            final = {}\n",
    "            rows = tr.find_all(\"td\")\n",
    "            demographic = str(rows[0].text.strip()) # This step extracted the name of the demographic being measured \n",
    "                                                    # (e.g Median household income, Poverty rate)\n",
    "\n",
    "                \n",
    "# We iterated through each data value in rows 10 and 11 and created a dictionary mapping the name of the borough to a list\n",
    "# containing two additional dictionaries. The first dictionary mapped the title \"median household income\" to a list of median household\n",
    "# incomes across the years 2000, 2006, 2010, and 2018, while the second dictionary mapped the title \"poverty rate\" to a list of poverty \n",
    "# rates for the same years.\n",
    "            \n",
    "            one = rows[1].text.strip()\n",
    "            two = rows[2].text.strip()\n",
    "            three = rows[3].text.strip()\n",
    "            four = rows[4].text.strip()\n",
    "\n",
    "# We stripped the values in each row in order to obtain the median household income and poverty rate values for every year. Because \n",
    "# this segment is within a nested loop iterating through row tags within table tags, it did this for every borough.\n",
    "    \n",
    "            final[demographic] = [one, two, three, four]\n",
    "            a_list.append(final)\n",
    "            \n",
    "# We created a list of the four data values (one, two three, four) and mapped it to the corresponding demographic in respective distionaries,\n",
    "# which we defined in a variable called final that was referenced within the loop. We appended all the dictionaries for every\n",
    "# borough to a list referenced by the variable a_list.\n",
    "\n",
    "    data = {}\n",
    "    data[\"New York City\"] = [a_list[0], a_list[1]]\n",
    "    data[\"The Bronx\"] = [a_list[4], a_list[5]]\n",
    "    data[\"Brooklyn\"] = [a_list[6], a_list[7]]\n",
    "    data[\"Manhattan\"] = [a_list[8], a_list[9]]\n",
    "    data[\"Queens\"] = [a_list[10], a_list[11]]\n",
    "    data[\"Staten Island\"] = [a_list[12], a_list[13]]\n",
    "    \n",
    "# We created another dictionary that mapped the borough name to the value in the list using values from a_list. \n",
    "# At this point, the data is structured as such:\n",
    "# {'Brooklyn': [{'Median household income (2019$)': ['$50,500', '$50,910','$48,670','$62,230']}, {'Poverty rate': ['25.1%', '22.6%', '23.0%', '19.0%']}],\n",
    "# 'Manhattan': [{'Median household income (2019$)': ['$73,910', '$75,640','$73,720','$86,470']}, {'Poverty rate': ['19.9%', '18.3%', '16.4%', '15.5%']}], ...}\n",
    "    \n",
    "    dfs = []\n",
    "    for key, value in list(data.items()):\n",
    "        med = value[0]\n",
    "        pov = value[1]\n",
    "        median = med[\"Median household income (2019$)\"]\n",
    "        poverty = pov[\"Poverty rate\"]\n",
    "        nyc = pd.DataFrame(median, index = [\"2000\", \"2006\", \"2010\", \"2018\"], columns = [\"Median Household Income\"])\n",
    "        nyc[\"Poverty Rate\"] = poverty\n",
    "        nyc = nyc.rename(columns = {\"Median Household Income\": (str(key) + \": Median Household Income\")})\n",
    "        dfs.append(nyc)\n",
    "\n",
    "# In order to make the data more readable, we made the data into pandas DataFrames, but iterating through our complex dictionary\n",
    "# was challenging, so we appended the Dataframes corresponding to every borough into a list referenced in the variable dfs. \n",
    "\n",
    "    writer = pd.ExcelWriter(\"borough_demographics.xlsx\", engine = \"xlsxwriter\")\n",
    "\n",
    "    nyc_data = dfs[0]\n",
    "    nyc_data.to_excel(writer, sheet_name = \"NYC Demographics\")\n",
    "\n",
    "    bronx = dfs[1]\n",
    "    bronx.to_excel(writer, sheet_name = \"Bronx Demographics\")\n",
    "\n",
    "    brooklyn = dfs[2]\n",
    "    brooklyn.to_excel(writer, sheet_name = \"Brooklyn Demographics\")\n",
    "\n",
    "    manhattan = dfs[3]\n",
    "    manhattan.to_excel(writer, sheet_name = \"Manhattan Demographics\")\n",
    "\n",
    "    queens = dfs[4]\n",
    "    queens.to_excel(writer, sheet_name = \"Queens Demographics\")\n",
    "\n",
    "    statenisland = dfs[5]\n",
    "    statenisland.to_excel(writer, sheet_name = \"Staten Island Demographics\")\n",
    "\n",
    "#     writer.save()\n",
    "    \n",
    "#     bronx.to_excel(summary_file, sheet_name = \"Cleaned API\")\n",
    "#     brooklyn.to_excel(summary_file, sheet_name = \"Cleaned API\")\n",
    "#     manhattan.to_excel(summary_file, sheet_name = \"Cleaned API\")\n",
    "#     queens.to_excel(summary_file, sheet_name = \"Cleaned API\")\n",
    "#     statenisland.to_excel(summary_file, sheet_name = \"Cleaned API\")\n",
    "#     summary_file.save()\n",
    "\n",
    "# We saved each dataframe to a different sheet corresponding to the borough in the same Excel file.\n",
    "    writer.save()\n",
    "\n",
    "    return dfs\n",
    "\n",
    "\n",
    "############ Function Call ############\n",
    "borough_data()"
   ]
  },
  {
   "cell_type": "markdown",
   "metadata": {
    "id": "OTRqdBG6sSvu"
   },
   "source": [
    "## Web Collection Requirement #2"
   ]
  },
  {
   "cell_type": "code",
   "execution_count": 91,
   "metadata": {
    "id": "YtV_MYeusYDd"
   },
   "outputs": [
    {
     "data": {
      "text/html": [
       "<div>\n",
       "<style scoped>\n",
       "    .dataframe tbody tr th:only-of-type {\n",
       "        vertical-align: middle;\n",
       "    }\n",
       "\n",
       "    .dataframe tbody tr th {\n",
       "        vertical-align: top;\n",
       "    }\n",
       "\n",
       "    .dataframe thead th {\n",
       "        text-align: right;\n",
       "    }\n",
       "</style>\n",
       "<table border=\"1\" class=\"dataframe\">\n",
       "  <thead>\n",
       "    <tr style=\"text-align: right;\">\n",
       "      <th></th>\n",
       "      <th></th>\n",
       "      <th>Incident Response Time</th>\n",
       "      <th># of Incidents</th>\n",
       "    </tr>\n",
       "    <tr>\n",
       "      <th>Month Name</th>\n",
       "      <th>Borough</th>\n",
       "      <th></th>\n",
       "      <th></th>\n",
       "    </tr>\n",
       "  </thead>\n",
       "  <tbody>\n",
       "    <tr>\n",
       "      <th rowspan=\"5\" valign=\"top\">2021 / 01</th>\n",
       "      <th>Bronx</th>\n",
       "      <td>565.021531</td>\n",
       "      <td>9828.5</td>\n",
       "    </tr>\n",
       "    <tr>\n",
       "      <th>Brooklyn</th>\n",
       "      <td>534.380453</td>\n",
       "      <td>11056.5</td>\n",
       "    </tr>\n",
       "    <tr>\n",
       "      <th>Manhattan</th>\n",
       "      <td>548.760145</td>\n",
       "      <td>8646.0</td>\n",
       "    </tr>\n",
       "    <tr>\n",
       "      <th>Queens</th>\n",
       "      <td>559.172599</td>\n",
       "      <td>8402.5</td>\n",
       "    </tr>\n",
       "    <tr>\n",
       "      <th>Staten Island</th>\n",
       "      <td>547.206999</td>\n",
       "      <td>2086.0</td>\n",
       "    </tr>\n",
       "    <tr>\n",
       "      <th rowspan=\"5\" valign=\"top\">2021 / 02</th>\n",
       "      <th>Bronx</th>\n",
       "      <td>601.845926</td>\n",
       "      <td>9241.5</td>\n",
       "    </tr>\n",
       "    <tr>\n",
       "      <th>Brooklyn</th>\n",
       "      <td>563.873652</td>\n",
       "      <td>10193.5</td>\n",
       "    </tr>\n",
       "    <tr>\n",
       "      <th>Manhattan</th>\n",
       "      <td>564.127419</td>\n",
       "      <td>8244.0</td>\n",
       "    </tr>\n",
       "    <tr>\n",
       "      <th>Queens</th>\n",
       "      <td>601.199767</td>\n",
       "      <td>7824.0</td>\n",
       "    </tr>\n",
       "    <tr>\n",
       "      <th>Staten Island</th>\n",
       "      <td>568.095534</td>\n",
       "      <td>1863.0</td>\n",
       "    </tr>\n",
       "    <tr>\n",
       "      <th rowspan=\"5\" valign=\"top\">2021 / 03</th>\n",
       "      <th>Bronx</th>\n",
       "      <td>578.259099</td>\n",
       "      <td>9911.5</td>\n",
       "    </tr>\n",
       "    <tr>\n",
       "      <th>Brooklyn</th>\n",
       "      <td>536.981045</td>\n",
       "      <td>11576.5</td>\n",
       "    </tr>\n",
       "    <tr>\n",
       "      <th>Manhattan</th>\n",
       "      <td>543.618296</td>\n",
       "      <td>9434.5</td>\n",
       "    </tr>\n",
       "    <tr>\n",
       "      <th>Queens</th>\n",
       "      <td>575.567826</td>\n",
       "      <td>8821.5</td>\n",
       "    </tr>\n",
       "    <tr>\n",
       "      <th>Staten Island</th>\n",
       "      <td>566.445252</td>\n",
       "      <td>2102.0</td>\n",
       "    </tr>\n",
       "    <tr>\n",
       "      <th rowspan=\"5\" valign=\"top\">2021 / 04</th>\n",
       "      <th>Bronx</th>\n",
       "      <td>573.192347</td>\n",
       "      <td>10084.5</td>\n",
       "    </tr>\n",
       "    <tr>\n",
       "      <th>Brooklyn</th>\n",
       "      <td>537.680360</td>\n",
       "      <td>11499.0</td>\n",
       "    </tr>\n",
       "    <tr>\n",
       "      <th>Manhattan</th>\n",
       "      <td>551.129183</td>\n",
       "      <td>9813.5</td>\n",
       "    </tr>\n",
       "    <tr>\n",
       "      <th>Queens</th>\n",
       "      <td>568.178527</td>\n",
       "      <td>8524.0</td>\n",
       "    </tr>\n",
       "    <tr>\n",
       "      <th>Staten Island</th>\n",
       "      <td>560.428036</td>\n",
       "      <td>2030.5</td>\n",
       "    </tr>\n",
       "    <tr>\n",
       "      <th rowspan=\"5\" valign=\"top\">2021 / 05</th>\n",
       "      <th>Bronx</th>\n",
       "      <td>588.660982</td>\n",
       "      <td>10286.0</td>\n",
       "    </tr>\n",
       "    <tr>\n",
       "      <th>Brooklyn</th>\n",
       "      <td>557.586797</td>\n",
       "      <td>11884.0</td>\n",
       "    </tr>\n",
       "    <tr>\n",
       "      <th>Manhattan</th>\n",
       "      <td>554.083040</td>\n",
       "      <td>10228.0</td>\n",
       "    </tr>\n",
       "    <tr>\n",
       "      <th>Queens</th>\n",
       "      <td>576.230024</td>\n",
       "      <td>8687.5</td>\n",
       "    </tr>\n",
       "    <tr>\n",
       "      <th>Staten Island</th>\n",
       "      <td>557.663895</td>\n",
       "      <td>2025.5</td>\n",
       "    </tr>\n",
       "    <tr>\n",
       "      <th rowspan=\"5\" valign=\"top\">2021 / 06</th>\n",
       "      <th>Bronx</th>\n",
       "      <td>607.783206</td>\n",
       "      <td>10436.5</td>\n",
       "    </tr>\n",
       "    <tr>\n",
       "      <th>Brooklyn</th>\n",
       "      <td>566.152603</td>\n",
       "      <td>11920.5</td>\n",
       "    </tr>\n",
       "    <tr>\n",
       "      <th>Manhattan</th>\n",
       "      <td>577.013785</td>\n",
       "      <td>11213.5</td>\n",
       "    </tr>\n",
       "    <tr>\n",
       "      <th>Queens</th>\n",
       "      <td>584.934305</td>\n",
       "      <td>8864.5</td>\n",
       "    </tr>\n",
       "    <tr>\n",
       "      <th>Staten Island</th>\n",
       "      <td>568.242382</td>\n",
       "      <td>1979.0</td>\n",
       "    </tr>\n",
       "    <tr>\n",
       "      <th rowspan=\"5\" valign=\"top\">2021 / 07</th>\n",
       "      <th>Bronx</th>\n",
       "      <td>605.654994</td>\n",
       "      <td>10281.0</td>\n",
       "    </tr>\n",
       "    <tr>\n",
       "      <th>Brooklyn</th>\n",
       "      <td>568.380535</td>\n",
       "      <td>12458.5</td>\n",
       "    </tr>\n",
       "    <tr>\n",
       "      <th>Manhattan</th>\n",
       "      <td>562.532338</td>\n",
       "      <td>10896.0</td>\n",
       "    </tr>\n",
       "    <tr>\n",
       "      <th>Queens</th>\n",
       "      <td>581.354606</td>\n",
       "      <td>9007.0</td>\n",
       "    </tr>\n",
       "    <tr>\n",
       "      <th>Staten Island</th>\n",
       "      <td>556.406333</td>\n",
       "      <td>2141.5</td>\n",
       "    </tr>\n",
       "    <tr>\n",
       "      <th rowspan=\"5\" valign=\"top\">2021 / 08</th>\n",
       "      <th>Bronx</th>\n",
       "      <td>661.038258</td>\n",
       "      <td>7350.5</td>\n",
       "    </tr>\n",
       "    <tr>\n",
       "      <th>Brooklyn</th>\n",
       "      <td>612.076541</td>\n",
       "      <td>8863.0</td>\n",
       "    </tr>\n",
       "    <tr>\n",
       "      <th>Manhattan</th>\n",
       "      <td>595.410949</td>\n",
       "      <td>7510.0</td>\n",
       "    </tr>\n",
       "    <tr>\n",
       "      <th>Queens</th>\n",
       "      <td>618.500043</td>\n",
       "      <td>6593.5</td>\n",
       "    </tr>\n",
       "    <tr>\n",
       "      <th>Staten Island</th>\n",
       "      <td>613.692984</td>\n",
       "      <td>1457.5</td>\n",
       "    </tr>\n",
       "    <tr>\n",
       "      <th rowspan=\"5\" valign=\"top\">2021 / 09</th>\n",
       "      <th>Bronx</th>\n",
       "      <td>642.899070</td>\n",
       "      <td>8277.0</td>\n",
       "    </tr>\n",
       "    <tr>\n",
       "      <th>Brooklyn</th>\n",
       "      <td>595.054144</td>\n",
       "      <td>10198.0</td>\n",
       "    </tr>\n",
       "    <tr>\n",
       "      <th>Manhattan</th>\n",
       "      <td>597.011098</td>\n",
       "      <td>8677.0</td>\n",
       "    </tr>\n",
       "    <tr>\n",
       "      <th>Queens</th>\n",
       "      <td>640.371018</td>\n",
       "      <td>7554.0</td>\n",
       "    </tr>\n",
       "    <tr>\n",
       "      <th>Staten Island</th>\n",
       "      <td>611.358401</td>\n",
       "      <td>1760.5</td>\n",
       "    </tr>\n",
       "    <tr>\n",
       "      <th rowspan=\"5\" valign=\"top\">2021 / 10</th>\n",
       "      <th>Bronx</th>\n",
       "      <td>597.244133</td>\n",
       "      <td>9955.0</td>\n",
       "    </tr>\n",
       "    <tr>\n",
       "      <th>Brooklyn</th>\n",
       "      <td>581.288224</td>\n",
       "      <td>12316.0</td>\n",
       "    </tr>\n",
       "    <tr>\n",
       "      <th>Manhattan</th>\n",
       "      <td>575.291818</td>\n",
       "      <td>10586.5</td>\n",
       "    </tr>\n",
       "    <tr>\n",
       "      <th>Queens</th>\n",
       "      <td>595.775050</td>\n",
       "      <td>8587.5</td>\n",
       "    </tr>\n",
       "    <tr>\n",
       "      <th>Staten Island</th>\n",
       "      <td>575.992446</td>\n",
       "      <td>2109.5</td>\n",
       "    </tr>\n",
       "    <tr>\n",
       "      <th rowspan=\"5\" valign=\"top\">2021 / 11</th>\n",
       "      <th>Bronx</th>\n",
       "      <td>605.212516</td>\n",
       "      <td>9374.5</td>\n",
       "    </tr>\n",
       "    <tr>\n",
       "      <th>Brooklyn</th>\n",
       "      <td>572.248901</td>\n",
       "      <td>11410.5</td>\n",
       "    </tr>\n",
       "    <tr>\n",
       "      <th>Manhattan</th>\n",
       "      <td>575.481834</td>\n",
       "      <td>9599.0</td>\n",
       "    </tr>\n",
       "    <tr>\n",
       "      <th>Queens</th>\n",
       "      <td>599.759129</td>\n",
       "      <td>8260.0</td>\n",
       "    </tr>\n",
       "    <tr>\n",
       "      <th>Staten Island</th>\n",
       "      <td>583.084397</td>\n",
       "      <td>2024.5</td>\n",
       "    </tr>\n",
       "    <tr>\n",
       "      <th rowspan=\"5\" valign=\"top\">2021 / 12</th>\n",
       "      <th>Bronx</th>\n",
       "      <td>662.784251</td>\n",
       "      <td>10636.0</td>\n",
       "    </tr>\n",
       "    <tr>\n",
       "      <th>Brooklyn</th>\n",
       "      <td>629.028300</td>\n",
       "      <td>12946.0</td>\n",
       "    </tr>\n",
       "    <tr>\n",
       "      <th>Manhattan</th>\n",
       "      <td>591.632088</td>\n",
       "      <td>10284.5</td>\n",
       "    </tr>\n",
       "    <tr>\n",
       "      <th>Queens</th>\n",
       "      <td>626.568250</td>\n",
       "      <td>9207.5</td>\n",
       "    </tr>\n",
       "    <tr>\n",
       "      <th>Staten Island</th>\n",
       "      <td>617.715414</td>\n",
       "      <td>2246.0</td>\n",
       "    </tr>\n",
       "  </tbody>\n",
       "</table>\n",
       "</div>"
      ],
      "text/plain": [
       "                          Incident Response Time  # of Incidents\n",
       "Month Name Borough                                              \n",
       "2021 / 01  Bronx                      565.021531          9828.5\n",
       "           Brooklyn                   534.380453         11056.5\n",
       "           Manhattan                  548.760145          8646.0\n",
       "           Queens                     559.172599          8402.5\n",
       "           Staten Island              547.206999          2086.0\n",
       "2021 / 02  Bronx                      601.845926          9241.5\n",
       "           Brooklyn                   563.873652         10193.5\n",
       "           Manhattan                  564.127419          8244.0\n",
       "           Queens                     601.199767          7824.0\n",
       "           Staten Island              568.095534          1863.0\n",
       "2021 / 03  Bronx                      578.259099          9911.5\n",
       "           Brooklyn                   536.981045         11576.5\n",
       "           Manhattan                  543.618296          9434.5\n",
       "           Queens                     575.567826          8821.5\n",
       "           Staten Island              566.445252          2102.0\n",
       "2021 / 04  Bronx                      573.192347         10084.5\n",
       "           Brooklyn                   537.680360         11499.0\n",
       "           Manhattan                  551.129183          9813.5\n",
       "           Queens                     568.178527          8524.0\n",
       "           Staten Island              560.428036          2030.5\n",
       "2021 / 05  Bronx                      588.660982         10286.0\n",
       "           Brooklyn                   557.586797         11884.0\n",
       "           Manhattan                  554.083040         10228.0\n",
       "           Queens                     576.230024          8687.5\n",
       "           Staten Island              557.663895          2025.5\n",
       "2021 / 06  Bronx                      607.783206         10436.5\n",
       "           Brooklyn                   566.152603         11920.5\n",
       "           Manhattan                  577.013785         11213.5\n",
       "           Queens                     584.934305          8864.5\n",
       "           Staten Island              568.242382          1979.0\n",
       "2021 / 07  Bronx                      605.654994         10281.0\n",
       "           Brooklyn                   568.380535         12458.5\n",
       "           Manhattan                  562.532338         10896.0\n",
       "           Queens                     581.354606          9007.0\n",
       "           Staten Island              556.406333          2141.5\n",
       "2021 / 08  Bronx                      661.038258          7350.5\n",
       "           Brooklyn                   612.076541          8863.0\n",
       "           Manhattan                  595.410949          7510.0\n",
       "           Queens                     618.500043          6593.5\n",
       "           Staten Island              613.692984          1457.5\n",
       "2021 / 09  Bronx                      642.899070          8277.0\n",
       "           Brooklyn                   595.054144         10198.0\n",
       "           Manhattan                  597.011098          8677.0\n",
       "           Queens                     640.371018          7554.0\n",
       "           Staten Island              611.358401          1760.5\n",
       "2021 / 10  Bronx                      597.244133          9955.0\n",
       "           Brooklyn                   581.288224         12316.0\n",
       "           Manhattan                  575.291818         10586.5\n",
       "           Queens                     595.775050          8587.5\n",
       "           Staten Island              575.992446          2109.5\n",
       "2021 / 11  Bronx                      605.212516          9374.5\n",
       "           Brooklyn                   572.248901         11410.5\n",
       "           Manhattan                  575.481834          9599.0\n",
       "           Queens                     599.759129          8260.0\n",
       "           Staten Island              583.084397          2024.5\n",
       "2021 / 12  Bronx                      662.784251         10636.0\n",
       "           Brooklyn                   629.028300         12946.0\n",
       "           Manhattan                  591.632088         10284.5\n",
       "           Queens                     626.568250          9207.5\n",
       "           Staten Island              617.715414          2246.0"
      ]
     },
     "execution_count": 91,
     "metadata": {},
     "output_type": "execute_result"
    }
   ],
   "source": [
    "# Here's where we found this data\n",
    "# https://catalog.data.gov/dataset/911-open-data-local-law-119\n",
    "\n",
    "def response_times():\n",
    "    with open('nyc_data.json', 'r') as f:\n",
    "        final_data = []\n",
    "        jsondict = json.load(f)\n",
    "        list_of_lists = jsondict[\"data\"]\n",
    "        \n",
    "# We took a json file and loaded it into a python dictionary to parse through.\n",
    "        \n",
    "        for a_list in list_of_lists:\n",
    "            final_data.append(a_list[8:14])\n",
    "\n",
    "# We only wanted the 8th to 13th indeces within the list of dictionaries, because those were the values that were relevant to us, \n",
    "# and the surrounding entries in the dictionary were all just metadata. We appended those values to a dictionary called final_data\n",
    "# for further use.\n",
    "    \n",
    "        df = pd.DataFrame(final_data)\n",
    "        df.columns = [\"Month Name\", \"Agency\", \"Description\", \"Borough\", \"# of Incidents\", \"Response Times\"]\n",
    "\n",
    "# We wrote the data to a pandas DataFrame and named the columns according to the data.\n",
    "       \n",
    "        df = df[(df[\"Month Name\"] == \"2021 / 12\") | (df[\"Month Name\"] == \"2021 / 11\") | (df[\"Month Name\"] == \"2021 / 10\") | (df[\"Month Name\"] == \"2021 / 09\") | (df[\"Month Name\"] == \"2021 / 08\") | (df[\"Month Name\"] == \"2021 / 07\") | (df[\"Month Name\"] == \"2021 / 06\") | (df[\"Month Name\"] == \"2021 / 05\") | (df[\"Month Name\"] == \"2021 / 04\") | (df[\"Month Name\"] == \"2021 / 03\") | (df[\"Month Name\"] == \"2021 / 02\") | (df[\"Month Name\"] == \"2021 / 01\")]\n",
    "        df = df[(df[\"Agency\"] == \"EMS\") | (df[\"Agency\"] == \"Aggregate\")]\n",
    "        df = df[(df[\"Borough\"] != \"Unspecified\")]\n",
    "        df = df[(df[\"Description\"] == \"Average response time to life threatening medical emergencies by ambulance units\") | (df[\"Description\"] == \"Combined average response time to life threatening medical emergencies by ambulance and fire units\")]\n",
    "        df[\"# of Incidents\"] = df[\"# of Incidents\"].astype(float)\n",
    "        df[\"Response Times\"] = df[\"Response Times\"].astype(float)\n",
    "        \n",
    "        df = df.rename(columns = {\"Response Times\": \"Incident Response Time\"}) # FIXING INCONSISTENCY #3\n",
    "        \n",
    "# We used masking to cut down ~7600 rows to 120 rows by limiting the data to 2021 and looking at EMS and Aggregate medical data that disregardes\n",
    "# FDNY cases. We also got rid of unspecified boroughs and only included average response time to severe, life threatening medical emergencies\n",
    "\n",
    "        df = df.groupby([\"Month Name\", \"Borough\"]).agg({\"Incident Response Time\":\"mean\", \"# of Incidents\":\"mean\"})\n",
    "        \n",
    "        df.to_csv(\"cleaned_response_times.csv\", index=True)\n",
    "        \n",
    "# We took the average of the response times and number of incedents per month for each borough. We then wrote the \n",
    "# cleaned dataframe to a csv file. \n",
    "\n",
    "#     df.to_excel(summary_file, sheet_name = \"Cleaned JSON\")\n",
    "#     summary_file.save()\n",
    "\n",
    "    return(df)\n",
    "\n",
    "############ Function Call ############\n",
    "response_times()\n"
   ]
  },
  {
   "cell_type": "markdown",
   "metadata": {
    "id": "E5IgIeLI9Kw2"
   },
   "source": [
    "#Inconsistency Revisions\n",
    " **If you were requested to revise your inconsistency section from Phase II, enter your responses here. Otherwise, ignore this section.**\n",
    "\n",
    "For each inconsistency (NaN, null, duplicate values, empty strings, etc.) you discover in your datasets, write at least 2 sentences stating the significance, how you identified it, and how you handled it.\n",
    "\n",
    "1. \n",
    "\n",
    "2. \n",
    "\n",
    "3. \n",
    "\n",
    "4. (if applicable)\n",
    "\n",
    "5. (if applicable)\n"
   ]
  },
  {
   "cell_type": "markdown",
   "metadata": {
    "id": "8SQxJGDUs1gw"
   },
   "source": [
    "## Data Sources\n",
    "\n",
    "Include sources (as links) to your datasets. If any of these are different from your sources used in Phase II, please <b>clearly</b> specify.\n",
    "\n",
    "*   Downloaded Dataset Source:\n",
    "*   Web Collection #1 Source:\n",
    "*   Web Collection #2 Source:\n",
    "\n"
   ]
  },
  {
   "cell_type": "markdown",
   "metadata": {
    "id": "A-CWo6kwvFvS"
   },
   "source": [
    "# Data Analysis\n",
    "For the Data Analysis section, you are required to utilize your data to complete the following:\n",
    "\n",
    "*   Create at least 5 insights\n",
    "*   Generate at least 3 data visualizations\n",
    "*   Export aggregated data to at least 1 summary file \n",
    "\n",
    "Create a function for each of the following sections mentioned above. Do not forget to fill out the explanation section for each function. \n",
    "\n",
    "Make sure your data analysis is not too simple. Performing complex aggregation and using modules not taught in class shows effort, which will increase the chance of receiving full credit. "
   ]
  },
  {
   "cell_type": "markdown",
   "metadata": {
    "id": "7GzggCBoxwGA"
   },
   "source": [
    "# Graphical User Interface (GUI) Implementation\n",
    "If you decide to create a GUI for Phase II, please create a separate Python file (.py) to build your GUI. You must submit both the completed PhaseII.ipynb and your Python GUI file."
   ]
  },
  {
   "cell_type": "code",
   "execution_count": 92,
   "metadata": {},
   "outputs": [],
   "source": [
    "import statsmodels.api as sm\n",
    "import warnings\n",
    "with warnings.catch_warnings():\n",
    "    warnings.simplefilter(action='ignore', category=FutureWarning)"
   ]
  },
  {
   "cell_type": "markdown",
   "metadata": {
    "id": "VWv36q-Owkbi"
   },
   "source": [
    "## Insights"
   ]
  },
  {
   "cell_type": "code",
   "execution_count": 93,
   "metadata": {
    "id": "0J5Z3M84wmaY"
   },
   "outputs": [
    {
     "name": "stderr",
     "output_type": "stream",
     "text": [
      "C:\\Users\\diyam\\AppData\\Local\\Temp\\ipykernel_25844\\1911405007.py:12: FutureWarning:\n",
      "\n",
      "The default value of regex will change from True to False in a future version.\n",
      "\n",
      "C:\\Users\\diyam\\AppData\\Local\\Temp\\ipykernel_25844\\1911405007.py:14: FutureWarning:\n",
      "\n",
      "The default value of regex will change from True to False in a future version.\n",
      "\n",
      "C:\\Users\\diyam\\AppData\\Local\\Temp\\ipykernel_25844\\1911405007.py:43: FutureWarning:\n",
      "\n",
      "The default value of regex will change from True to False in a future version.\n",
      "\n",
      "C:\\Users\\diyam\\AppData\\Local\\Temp\\ipykernel_25844\\1911405007.py:45: FutureWarning:\n",
      "\n",
      "The default value of regex will change from True to False in a future version.\n",
      "\n",
      "C:\\Users\\diyam\\AppData\\Local\\Temp\\ipykernel_25844\\1911405007.py:74: FutureWarning:\n",
      "\n",
      "The default value of regex will change from True to False in a future version.\n",
      "\n",
      "C:\\Users\\diyam\\AppData\\Local\\Temp\\ipykernel_25844\\1911405007.py:76: FutureWarning:\n",
      "\n",
      "The default value of regex will change from True to False in a future version.\n",
      "\n",
      "C:\\Users\\diyam\\AppData\\Local\\Temp\\ipykernel_25844\\1911405007.py:106: FutureWarning:\n",
      "\n",
      "The default value of regex will change from True to False in a future version.\n",
      "\n",
      "C:\\Users\\diyam\\AppData\\Local\\Temp\\ipykernel_25844\\1911405007.py:108: FutureWarning:\n",
      "\n",
      "The default value of regex will change from True to False in a future version.\n",
      "\n",
      "C:\\Users\\diyam\\AppData\\Local\\Temp\\ipykernel_25844\\1911405007.py:138: FutureWarning:\n",
      "\n",
      "The default value of regex will change from True to False in a future version.\n",
      "\n",
      "C:\\Users\\diyam\\AppData\\Local\\Temp\\ipykernel_25844\\1911405007.py:140: FutureWarning:\n",
      "\n",
      "The default value of regex will change from True to False in a future version.\n",
      "\n"
     ]
    },
    {
     "data": {
      "text/html": [
       "<div>\n",
       "<style scoped>\n",
       "    .dataframe tbody tr th:only-of-type {\n",
       "        vertical-align: middle;\n",
       "    }\n",
       "\n",
       "    .dataframe tbody tr th {\n",
       "        vertical-align: top;\n",
       "    }\n",
       "\n",
       "    .dataframe thead th {\n",
       "        text-align: right;\n",
       "    }\n",
       "</style>\n",
       "<table border=\"1\" class=\"dataframe\">\n",
       "  <thead>\n",
       "    <tr style=\"text-align: right;\">\n",
       "      <th></th>\n",
       "      <th>2021: Median Household Income</th>\n",
       "      <th>Poverty Rate</th>\n",
       "    </tr>\n",
       "  </thead>\n",
       "  <tbody>\n",
       "    <tr>\n",
       "      <th>Bronx</th>\n",
       "      <td>39947.499924</td>\n",
       "      <td>29.350021</td>\n",
       "    </tr>\n",
       "    <tr>\n",
       "      <th>Brooklyn</th>\n",
       "      <td>53077.500109</td>\n",
       "      <td>22.425041</td>\n",
       "    </tr>\n",
       "    <tr>\n",
       "      <th>Queens</th>\n",
       "      <td>65737.500021</td>\n",
       "      <td>13.325019</td>\n",
       "    </tr>\n",
       "    <tr>\n",
       "      <th>Manhattan</th>\n",
       "      <td>77435.000055</td>\n",
       "      <td>17.525031</td>\n",
       "    </tr>\n",
       "    <tr>\n",
       "      <th>Staten Island</th>\n",
       "      <td>84499.999987</td>\n",
       "      <td>10.599989</td>\n",
       "    </tr>\n",
       "  </tbody>\n",
       "</table>\n",
       "</div>"
      ],
      "text/plain": [
       "               2021: Median Household Income  Poverty Rate\n",
       "Bronx                           39947.499924     29.350021\n",
       "Brooklyn                        53077.500109     22.425041\n",
       "Queens                          65737.500021     13.325019\n",
       "Manhattan                       77435.000055     17.525031\n",
       "Staten Island                   84499.999987     10.599989"
      ]
     },
     "execution_count": 93,
     "metadata": {},
     "output_type": "execute_result"
    }
   ],
   "source": [
    "def insight1():\n",
    "    bronx = pd.read_excel(\"borough_demographics.xlsx\", sheet_name = \"Bronx Demographics\")\n",
    "    brooklyn = pd.read_excel(\"borough_demographics.xlsx\", sheet_name = \"Brooklyn Demographics\")\n",
    "    manhattan = pd.read_excel(\"borough_demographics.xlsx\", sheet_name = \"Manhattan Demographics\")\n",
    "    queens = pd.read_excel(\"borough_demographics.xlsx\", sheet_name = \"Queens Demographics\")\n",
    "    staten_island = pd.read_excel(\"borough_demographics.xlsx\", sheet_name = \"Staten Island Demographics\")\n",
    "    \n",
    "    final_demographic = pd.DataFrame()\n",
    "    years = np.array([2000, 2008, 2010, 2018])\n",
    "\n",
    "    bronx_med = bronx['The Bronx: Median Household Income'].str[1:]\n",
    "    bronx_med = bronx_med.str.replace(r\"\\,\",\"\")   \n",
    "    bronx_pov = bronx['Poverty Rate'].str[0:]\n",
    "    bronx_pov = bronx_pov.str.replace(r\"\\%\",\"\")\n",
    "    bronx_med = pd.to_numeric(bronx_med)\n",
    "    bronx_pov = pd.to_numeric(bronx_pov)\n",
    "    \n",
    "    # bronx median prediction\n",
    "    x = bronx_med.to_numpy()\n",
    "    y = years\n",
    "    n = np.size(years)\n",
    "    m_x = np.mean(years)\n",
    "    m_y = np.mean(bronx_med)\n",
    "    SS_xy = np.sum(y*x) - n*m_y*m_x\n",
    "    SS_xx = np.sum(x*x) - n*m_x*m_x\n",
    "    b_1 = SS_xy / SS_xx\n",
    "    b_0 = m_y - b_1*m_x\n",
    "    bronx_med_2021 = b_1 * 2021 + b_0\n",
    "\n",
    "  # bronx pov predictor\n",
    "    x = bronx_pov.to_numpy()\n",
    "    y = years\n",
    "    n = np.size(years)\n",
    "    m_x = np.mean(years)\n",
    "    m_y = np.mean(bronx_pov)\n",
    "    SS_xy = np.sum(y*x) - n*m_y*m_x\n",
    "    SS_xx = np.sum(x*x) - n*m_x*m_x\n",
    "    b_1 = SS_xy / SS_xx\n",
    "    b_0 = m_y - b_1*m_x\n",
    "    bronx_pov_2021 = b_1 * 2021 + b_0\n",
    "    \n",
    "    brooklyn_med = brooklyn['Brooklyn: Median Household Income'].str[1:]\n",
    "    brooklyn_med = brooklyn_med.str.replace(r\"\\,\",\"\") \n",
    "    brooklyn_pov = brooklyn['Poverty Rate'].str[0:]\n",
    "    brooklyn_pov = brooklyn_pov.str.replace(r\"\\%\",\"\")\n",
    "    brooklyn_med = pd.to_numeric(brooklyn_med)\n",
    "    brooklyn_pov = pd.to_numeric(brooklyn_pov)\n",
    "    \n",
    "    # brooklyn median prediction\n",
    "    x = brooklyn_med.to_numpy()\n",
    "    y = years\n",
    "    n = np.size(years)\n",
    "    m_x = np.mean(years)\n",
    "    m_y = np.mean(brooklyn_med)\n",
    "    SS_xy = np.sum(y*x) - n*m_y*m_x\n",
    "    SS_xx = np.sum(x*x) - n*m_x*m_x\n",
    "    b_1 = SS_xy / SS_xx\n",
    "    b_0 = m_y - b_1*m_x\n",
    "    brooklyn_med_2021 = b_1 * 2021 + b_0\n",
    "\n",
    "    # brooklyn pov predictor\n",
    "    x = brooklyn_pov.to_numpy()\n",
    "    y = years\n",
    "    n = np.size(years)\n",
    "    m_x = np.mean(years)\n",
    "    m_y = np.mean(brooklyn_pov)\n",
    "    SS_xy = np.sum(y*x) - n*m_y*m_x\n",
    "    SS_xx = np.sum(x*x) - n*m_x*m_x\n",
    "    b_1 = SS_xy / SS_xx\n",
    "    b_0 = m_y - b_1*m_x\n",
    "    brooklyn_pov_2021 = b_1 * 2021 + b_0\n",
    "    \n",
    "    manhattan_med = manhattan['Manhattan: Median Household Income'].str[1:]\n",
    "    manhattan_med = manhattan_med.str.replace(r\"\\,\",\"\")   \n",
    "    manhattan_pov = manhattan['Poverty Rate'].str[0:]\n",
    "    manhattan_pov = manhattan_pov.str.replace(r\"\\%\",\"\")\n",
    "    manhattan_med = pd.to_numeric(manhattan_med)\n",
    "    manhattan_pov = pd.to_numeric(manhattan_pov)\n",
    "    \n",
    "  \n",
    "    # manhattan median prediction\n",
    "    x = manhattan_med.to_numpy()\n",
    "    y = years\n",
    "    n = np.size(years)\n",
    "    m_x = np.mean(years)\n",
    "    m_y = np.mean(manhattan_med)\n",
    "    SS_xy = np.sum(y*x) - n*m_y*m_x\n",
    "    SS_xx = np.sum(x*x) - n*m_x*m_x\n",
    "    b_1 = SS_xy / SS_xx\n",
    "    b_0 = m_y - b_1*m_x\n",
    "    manhattan_med_2021 = b_1 * 2021 + b_0\n",
    "\n",
    "    # manhattan pov predictor\n",
    "    x = manhattan_pov.to_numpy()\n",
    "    y = years\n",
    "    n = np.size(years)\n",
    "    m_x = np.mean(years)\n",
    "    m_y = np.mean(manhattan_pov)\n",
    "    SS_xy = np.sum(y*x) - n*m_y*m_x\n",
    "    SS_xx = np.sum(x*x) - n*m_x*m_x\n",
    "    b_1 = SS_xy / SS_xx\n",
    "    b_0 = m_y - b_1*m_x\n",
    "    manhattan_pov_2021 = b_1 * 2021 + b_0\n",
    "    \n",
    "    queens_med = queens['Queens: Median Household Income'].str[1:]\n",
    "    queens_med = queens_med.str.replace(r\"\\,\",\"\")   \n",
    "    queens_pov = queens['Poverty Rate'].str[0:]\n",
    "    queens_pov = queens_pov.str.replace(r\"\\%\",\"\")\n",
    "    queens_med = pd.to_numeric(queens_med)\n",
    "    queens_pov = pd.to_numeric(queens_pov)\n",
    "    \n",
    "    \n",
    "    # queens median prediction\n",
    "    x = queens_med.to_numpy()\n",
    "    y = years\n",
    "    n = np.size(years)\n",
    "    m_x = np.mean(years)\n",
    "    m_y = np.mean(queens_med)\n",
    "    SS_xy = np.sum(y*x) - n*m_y*m_x\n",
    "    SS_xx = np.sum(x*x) - n*m_x*m_x\n",
    "    b_1 = SS_xy / SS_xx\n",
    "    b_0 = m_y - b_1*m_x\n",
    "    queens_med_2021 = b_1 * 2021 + b_0\n",
    "\n",
    "    # queens pov predictor\n",
    "    x = queens_pov.to_numpy()\n",
    "    y = years\n",
    "    n = np.size(years)\n",
    "    m_x = np.mean(years)\n",
    "    m_y = np.mean(queens_pov)\n",
    "    SS_xy = np.sum(y*x) - n*m_y*m_x\n",
    "    SS_xx = np.sum(x*x) - n*m_x*m_x\n",
    "    b_1 = SS_xy / SS_xx\n",
    "    b_0 = m_y - b_1*m_x\n",
    "    queens_pov_2021 = b_1 * 2021 + b_0\n",
    "    \n",
    "    staten_med = staten_island['Staten Island: Median Household Income'].str[1:]\n",
    "    staten_med = staten_med.str.replace(r\"\\,\",\"\")   \n",
    "    staten_pov = staten_island['Poverty Rate'].str[0:]\n",
    "    staten_pov = staten_pov.str.replace(r\"\\%\",\"\")\n",
    "    staten_med = pd.to_numeric(staten_med)\n",
    "    staten_pov = pd.to_numeric(staten_pov)\n",
    "    \n",
    "    \n",
    "    # staten median prediction\n",
    "    x = staten_med.to_numpy()\n",
    "    y = years\n",
    "    n = np.size(years)\n",
    "    m_x = np.mean(years)\n",
    "    m_y = np.mean(staten_med)\n",
    "    SS_xy = np.sum(y*x) - n*m_y*m_x\n",
    "    SS_xx = np.sum(x*x) - n*m_x*m_x\n",
    "    b_1 = SS_xy / SS_xx\n",
    "    b_0 = m_y - b_1*m_x\n",
    "    staten_med_2021 = b_1 * 2021 + b_0\n",
    "\n",
    "    # staten pov predictor\n",
    "    x = staten_pov.to_numpy()\n",
    "    y = years\n",
    "    n = np.size(years)\n",
    "    m_x = np.mean(years)\n",
    "    m_y = np.mean(staten_pov)\n",
    "    SS_xy = np.sum(y*x) - n*m_y*m_x\n",
    "    SS_xx = np.sum(x*x) - n*m_x*m_x\n",
    "    b_1 = SS_xy / SS_xx\n",
    "    b_0 = m_y - b_1*m_x\n",
    "    staten_pov_2021 = b_1 * 2021 + b_0\n",
    "    \n",
    "    \n",
    "    final_demographic[\"Bronx\"] = bronx_med_2021, bronx_pov_2021\n",
    "    final_demographic[\"Brooklyn\"] = brooklyn_med_2021, brooklyn_pov_2021\n",
    "    final_demographic[\"Queens\"] = queens_med_2021, queens_pov_2021\n",
    "    final_demographic[\"Manhattan\"] = manhattan_med_2021, manhattan_pov_2021\n",
    "    final_demographic[\"Staten Island\"] = staten_med_2021, staten_pov_2021\n",
    "    final_demographic = final_demographic.transpose()\n",
    "    final_demographic = final_demographic.rename(columns = {0: \"2021: Median Household Income\", 1: \"Poverty Rate\"})\n",
    "    \n",
    "#     final_demographic.to_excel(summary_file, sheet_name = \"Insight 1\")\n",
    "#     summary_file.save()\n",
    "    \n",
    "    \n",
    "    \n",
    "    return final_demographic\n",
    "   \n",
    "    \n",
    "############ Function Call ############\n",
    "insight1()"
   ]
  },
  {
   "cell_type": "code",
   "execution_count": 94,
   "metadata": {
    "id": "54oggrpbw6TX"
   },
   "outputs": [],
   "source": [
    "### Insight 1 Explanation\n",
    "\n",
    "# The years 2000, 2006, 2010, and 2018 had demographic data for each NYC borough on multiple web sources, however we could \n",
    "# not find 2021 borough demographic data. Therefore, we used simple linear regression modeling in order to predict median \n",
    "# household income and poverty rate per borough in 2021. We used this to order the boroughs by socioeconomic wealth, which \n",
    "# fuels our hypothesis that lower income boroughs (Brooklyn & Bronx) have access to less emergency medical resources than \n",
    "# higher income boroughs (Staten Island). Also, Queens has a lower poverty rate than Manhattan does but Later \n",
    "# on, our grouping of boroughs based on median household income and poverty rate are used to substantiate differences in\n",
    "# EMS dispatch and response times."
   ]
  },
  {
   "cell_type": "code",
   "execution_count": 95,
   "metadata": {
    "id": "mJe4pMRgwuC5"
   },
   "outputs": [
    {
     "data": {
      "text/html": [
       "<div>\n",
       "<style scoped>\n",
       "    .dataframe tbody tr th:only-of-type {\n",
       "        vertical-align: middle;\n",
       "    }\n",
       "\n",
       "    .dataframe tbody tr th {\n",
       "        vertical-align: top;\n",
       "    }\n",
       "\n",
       "    .dataframe thead th {\n",
       "        text-align: right;\n",
       "    }\n",
       "</style>\n",
       "<table border=\"1\" class=\"dataframe\">\n",
       "  <thead>\n",
       "    <tr style=\"text-align: right;\">\n",
       "      <th></th>\n",
       "      <th>Count of cases Treated/Transported</th>\n",
       "      <th>Count of Cases Dead</th>\n",
       "      <th>Total</th>\n",
       "      <th>% Treated/Transported</th>\n",
       "    </tr>\n",
       "    <tr>\n",
       "      <th>Borough</th>\n",
       "      <th></th>\n",
       "      <th></th>\n",
       "      <th></th>\n",
       "      <th></th>\n",
       "    </tr>\n",
       "  </thead>\n",
       "  <tbody>\n",
       "    <tr>\n",
       "      <th>Bronx</th>\n",
       "      <td>240</td>\n",
       "      <td>9</td>\n",
       "      <td>249</td>\n",
       "      <td>96.385542</td>\n",
       "    </tr>\n",
       "    <tr>\n",
       "      <th>Brooklyn</th>\n",
       "      <td>434</td>\n",
       "      <td>9</td>\n",
       "      <td>443</td>\n",
       "      <td>97.968397</td>\n",
       "    </tr>\n",
       "    <tr>\n",
       "      <th>Manhattan</th>\n",
       "      <td>451</td>\n",
       "      <td>4</td>\n",
       "      <td>455</td>\n",
       "      <td>99.120879</td>\n",
       "    </tr>\n",
       "    <tr>\n",
       "      <th>Queens</th>\n",
       "      <td>576</td>\n",
       "      <td>5</td>\n",
       "      <td>581</td>\n",
       "      <td>99.139415</td>\n",
       "    </tr>\n",
       "    <tr>\n",
       "      <th>Staten Island</th>\n",
       "      <td>98</td>\n",
       "      <td>2</td>\n",
       "      <td>100</td>\n",
       "      <td>98.000000</td>\n",
       "    </tr>\n",
       "  </tbody>\n",
       "</table>\n",
       "</div>"
      ],
      "text/plain": [
       "               Count of cases Treated/Transported  Count of Cases Dead  Total  \\\n",
       "Borough                                                                         \n",
       "Bronx                                         240                    9    249   \n",
       "Brooklyn                                      434                    9    443   \n",
       "Manhattan                                     451                    4    455   \n",
       "Queens                                        576                    5    581   \n",
       "Staten Island                                  98                    2    100   \n",
       "\n",
       "               % Treated/Transported  \n",
       "Borough                               \n",
       "Bronx                      96.385542  \n",
       "Brooklyn                   97.968397  \n",
       "Manhattan                  99.120879  \n",
       "Queens                     99.139415  \n",
       "Staten Island              98.000000  "
      ]
     },
     "execution_count": 95,
     "metadata": {},
     "output_type": "execute_result"
    }
   ],
   "source": [
    "def insight2():\n",
    "    df = pd.read_csv(\"2021_ems_data.csv\")\n",
    "    data = pd.DataFrame()\n",
    "    data[\"Borough\"] = df[\"Borough\"]\n",
    "    data[\"Disposition Code\"] = df[\"Disposition Code\"]\n",
    "    \n",
    "    good = data[(data[\"Disposition Code\"] == 91) | (data[\"Disposition Code\"] == 92) | (data[\"Disposition Code\"] == 82) | (data[\"Disposition Code\"] == 94) | (data[\"Disposition Code\"] == 95)]\n",
    "    good = df.groupby(\"Borough\")[\"Disposition Code\"].count()\n",
    "    good = pd.DataFrame(good)\n",
    "    good.rename(columns = {\"Disposition Code\" : \"Count of cases Treated/Transported\"}, inplace = True)\n",
    "\n",
    "    \n",
    "    bad = data[(data[\"Disposition Code\"] == 83) | (data[\"Disposition Code\"] == 96)]\n",
    "    bad = bad.groupby(\"Borough\")[\"Disposition Code\"].count()\n",
    "    bad = pd.DataFrame(bad)\n",
    "    bad.rename(columns = {\"Disposition Code\" : \"Count of Cases Dead\"}, inplace = True)\n",
    "\n",
    "\n",
    "    dfs = [good, bad]\n",
    "    in2 = pd.concat(dfs, axis = 1)\n",
    "    in2[\"Total\"] = in2[\"Count of cases Treated/Transported\"] + in2[\"Count of Cases Dead\"]\n",
    "    in2[\"% Treated/Transported\"] = (in2[\"Count of cases Treated/Transported\"] / in2[\"Total\"]) * 100\n",
    "    \n",
    "#     final.to_excel(summary_file, sheet_name = \"Insight 2\")\n",
    "#     summary_file.save()\n",
    "    \n",
    "    return in2\n",
    "\n",
    "############ Function Call ############\n",
    "insight2()"
   ]
  },
  {
   "cell_type": "code",
   "execution_count": 96,
   "metadata": {
    "id": "P08Se47bxG5d"
   },
   "outputs": [],
   "source": [
    "### Insight 2 Explanation\n",
    "\n",
    "# Within our cleaned dataset titled \"2021_ems_data.csv\", there were several disposition codes indicating whether or not the \n",
    "# case recieved medical attention on time, or whether they died without getting access to EMS services. We grouped the\n",
    "# dispostion codes into cases treated and trasported and cases dead, and found a count of each per borough. Since the total \n",
    "# number of cased greatly differed accross boroughs, we then found the percentage of cases that were treated and transported\n",
    "# per borough.\n",
    "\n",
    "# As you can see, the lowest percentage of cases treated/transported were from the Bronx, closely followed by Brooklyn, which \n",
    "# substantiates our claim that lower income boroughs recieve less medical attention. The highest percentage of cases \n",
    "# treated/transported, however, was between Queens and Manhattan. We classified Queens as a middle income borough, but\n",
    "# Queens is home to more middle class families than any other borough in NYC from our research on the borough, hence why they\n",
    "# might have the best EMS treated/transported percentage or access to emergency medical resources. Manhattan might have such\n",
    "# a high EMS treated/transported percentage due to the fact that they have the largest population density.\n",
    "\n",
    "##### Grouped dispatch codes for cases treated/transported #####\n",
    "# 82 => transporting patient \n",
    "# 91 => condition corrected\n",
    "# 92 => treated not transported\n",
    "# 94 => treated and transported\n",
    "# 95 => triaged at scene no transport\n",
    "\n",
    "##### Grouped dispatch codes for cases dead #####\n",
    "# 83 => patient pronounced dead\n",
    "# 96 => patient gone on arrival"
   ]
  },
  {
   "cell_type": "code",
   "execution_count": 97,
   "metadata": {
    "id": "00EurEXJwvxf"
   },
   "outputs": [
    {
     "data": {
      "text/html": [
       "<div>\n",
       "<style scoped>\n",
       "    .dataframe tbody tr th:only-of-type {\n",
       "        vertical-align: middle;\n",
       "    }\n",
       "\n",
       "    .dataframe tbody tr th {\n",
       "        vertical-align: top;\n",
       "    }\n",
       "\n",
       "    .dataframe thead th {\n",
       "        text-align: right;\n",
       "    }\n",
       "</style>\n",
       "<table border=\"1\" class=\"dataframe\">\n",
       "  <thead>\n",
       "    <tr style=\"text-align: right;\">\n",
       "      <th></th>\n",
       "      <th>actual response time &lt; predicted response time</th>\n",
       "      <th>actual response time &gt; predicted response time</th>\n",
       "      <th>Total</th>\n",
       "      <th>Percentage actual response time &lt; predicted response time</th>\n",
       "    </tr>\n",
       "    <tr>\n",
       "      <th>Borough</th>\n",
       "      <th></th>\n",
       "      <th></th>\n",
       "      <th></th>\n",
       "      <th></th>\n",
       "    </tr>\n",
       "  </thead>\n",
       "  <tbody>\n",
       "    <tr>\n",
       "      <th>Bronx</th>\n",
       "      <td>166</td>\n",
       "      <td>30</td>\n",
       "      <td>196</td>\n",
       "      <td>84.693878</td>\n",
       "    </tr>\n",
       "    <tr>\n",
       "      <th>Manhattan</th>\n",
       "      <td>210</td>\n",
       "      <td>130</td>\n",
       "      <td>340</td>\n",
       "      <td>61.764706</td>\n",
       "    </tr>\n",
       "    <tr>\n",
       "      <th>Staten Island</th>\n",
       "      <td>41</td>\n",
       "      <td>30</td>\n",
       "      <td>71</td>\n",
       "      <td>57.746479</td>\n",
       "    </tr>\n",
       "  </tbody>\n",
       "</table>\n",
       "</div>"
      ],
      "text/plain": [
       "               actual response time < predicted response time  \\\n",
       "Borough                                                         \n",
       "Bronx                                                     166   \n",
       "Manhattan                                                 210   \n",
       "Staten Island                                              41   \n",
       "\n",
       "               actual response time > predicted response time  Total  \\\n",
       "Borough                                                                \n",
       "Bronx                                                      30    196   \n",
       "Manhattan                                                 130    340   \n",
       "Staten Island                                              30     71   \n",
       "\n",
       "               Percentage actual response time < predicted response time  \n",
       "Borough                                                                   \n",
       "Bronx                                                  84.693878          \n",
       "Manhattan                                              61.764706          \n",
       "Staten Island                                          57.746479          "
      ]
     },
     "execution_count": 97,
     "metadata": {},
     "output_type": "execute_result"
    }
   ],
   "source": [
    "def insight3():\n",
    "    data = pd.read_csv(\"2021_ems_data.csv\")\n",
    "    data = data.dropna()\n",
    "    X = data['Dispatch Response Time'].values.reshape(-1,1)\n",
    "    Y = data['Incident Response Time'].values.reshape(-1,1)\n",
    "    times = np.array([X, Y])\n",
    "    \n",
    "    linear_regressor = LinearRegression()\n",
    "    linear_regressor.fit(X, Y) \n",
    "    Y_pred = linear_regressor.predict(X)\n",
    "    \n",
    "\n",
    "    data[\"Predicted\"] = Y_pred\n",
    "    \n",
    "    data = data[(data[\"Borough\"] == \"Bronx\") | (data[\"Borough\"] == \"Staten Island\") | (data[\"Borough\"] == \"Manhattan\")]\n",
    "    \n",
    "    data[\"Residual\"] = data[\"Incident Response Time\"] - data[\"Predicted\"]\n",
    "    \n",
    "\n",
    "    greater = data[data['Residual'] > 0]\n",
    "    greater = greater.groupby(\"Borough\")[\"Residual\"].count()\n",
    "    greater = pd.DataFrame(greater)\n",
    "    greater.rename(columns = {\"Residual\" : \"actual response time > predicted response time\"}, inplace = True)\n",
    "\n",
    "    \n",
    "    less = data[data['Residual'] <= 0]\n",
    "    less = less.groupby(\"Borough\")[\"Residual\"].count()\n",
    "    less = pd.DataFrame(less)\n",
    "    less.rename(columns = {\"Residual\" : \"actual response time < predicted response time\"}, inplace = True)\n",
    "    \n",
    "    \n",
    "    dfs = [less, greater]\n",
    "    final = pd.concat(dfs, axis = 1)\n",
    "    \n",
    "    final[\"Total\"] = final[\"actual response time < predicted response time\"] + final[\"actual response time > predicted response time\"]\n",
    "    final[\"Percentage actual response time < predicted response time\"] = (final[\"actual response time < predicted response time\"] / final[\"Total\"]) * 100\n",
    "\n",
    "    return final\n",
    "\n",
    "\n",
    "############ Function Call ############\n",
    "insight3()"
   ]
  },
  {
   "cell_type": "code",
   "execution_count": 98,
   "metadata": {
    "id": "6QNP4yx2xHkT"
   },
   "outputs": [],
   "source": [
    "### Insight 3 Explanation\n",
    "\n",
    "# Within our cleaned dataset titled \"2021_ems_data.csv\", there were two columns relating to dispatch response time and \n",
    "# incident response time for each case in 2021. The two are different because the former is defined by how long it took for\n",
    "# EMS services to respond to an emergency call, while the latter is defined by how long it took for EMS services to \n",
    "# arrive and provide their services.\n",
    "\n",
    "# We hypothesized that there is a positive linear correlation between dispatch response times and incident response times, \n",
    "# so we ran an ordinary linear regression between the two variables. We then found the RESIDUALS for incident response times,\n",
    "# which is defined as the actual incident response time minus the predicted incident response time based on our linear\n",
    "# regression. For each borough, we counted the positive residuals and the negetive residuals. \n",
    "\n",
    "# Because the total number of cases differed by borough, we found the percentage of cases for each borough where the \n",
    "# actual response time was less than predicted. \n",
    "\n",
    "# Conclusion: As you can tell, the Bronx, a lower income borough, had the greatest percentage of their cases where  actual response \n",
    "# time was less than predicted, as opposed to Manhattan and Staten Island. This actually disproves our hypothesis, since we \n",
    "# would expect a lower percentage of cases where actual response time is less than predicted response time for \n",
    "# lower income neighborhoods, based on our hypothesis.\n"
   ]
  },
  {
   "cell_type": "code",
   "execution_count": 99,
   "metadata": {
    "id": "LUWgj50BwwKN"
   },
   "outputs": [
    {
     "data": {
      "text/html": [
       "<div>\n",
       "<style scoped>\n",
       "    .dataframe tbody tr th:only-of-type {\n",
       "        vertical-align: middle;\n",
       "    }\n",
       "\n",
       "    .dataframe tbody tr th {\n",
       "        vertical-align: top;\n",
       "    }\n",
       "\n",
       "    .dataframe thead th {\n",
       "        text-align: right;\n",
       "    }\n",
       "</style>\n",
       "<table border=\"1\" class=\"dataframe\">\n",
       "  <thead>\n",
       "    <tr style=\"text-align: right;\">\n",
       "      <th>Borough</th>\n",
       "      <th>Bronx</th>\n",
       "      <th>Queens</th>\n",
       "      <th>Staten Island</th>\n",
       "      <th>Brooklyn</th>\n",
       "      <th>Manhattan</th>\n",
       "    </tr>\n",
       "  </thead>\n",
       "  <tbody>\n",
       "    <tr>\n",
       "      <th>Mean</th>\n",
       "      <td>607.466359</td>\n",
       "      <td>593.967595</td>\n",
       "      <td>577.194339</td>\n",
       "      <td>571.227630</td>\n",
       "      <td>569.674333</td>\n",
       "    </tr>\n",
       "    <tr>\n",
       "      <th>Median</th>\n",
       "      <td>603.529221</td>\n",
       "      <td>590.354677</td>\n",
       "      <td>568.168958</td>\n",
       "      <td>567.266569</td>\n",
       "      <td>569.709618</td>\n",
       "    </tr>\n",
       "  </tbody>\n",
       "</table>\n",
       "</div>"
      ],
      "text/plain": [
       "Borough       Bronx      Queens  Staten Island    Brooklyn   Manhattan\n",
       "Mean     607.466359  593.967595     577.194339  571.227630  569.674333\n",
       "Median   603.529221  590.354677     568.168958  567.266569  569.709618"
      ]
     },
     "execution_count": 99,
     "metadata": {},
     "output_type": "execute_result"
    }
   ],
   "source": [
    "def insight4():\n",
    "    df = pd.read_csv(\"cleaned_response_times.csv\")\n",
    "    in4=pd.DataFrame()\n",
    "    in4[\"Mean\"] = df.groupby(\"Borough\")[\"Incident Response Time\"].mean()\n",
    "    in4[\"Median\"] = df.groupby(\"Borough\")[\"Incident Response Time\"].median()\n",
    "    in4=in4.sort_values(by=\"Mean\", ascending = False)\n",
    "    in4=in4.transpose()\n",
    "\n",
    "    return in4\n",
    "\n",
    "############ Function Call ############\n",
    "insight4()"
   ]
  },
  {
   "cell_type": "code",
   "execution_count": 100,
   "metadata": {
    "id": "4Tv4xPG8xIIh"
   },
   "outputs": [],
   "source": [
    "### Insight 4 Explanation\n",
    "\n",
    "# Conclusion: Lower income boroughs such as the Bronx have a higher mean and median incident response time as compared to \n",
    "# higher income boroughs such as Manhattan. \n",
    "\n",
    "# We used aggregate methods within our pandas Data Frame in order to group each borough by its mean and median Incident Response \n",
    "# Times. We then sorted the values to compare the average response time in each borough. We found that the Bronx had the \n",
    "# highest mean and median incident response time and that Manhattan had the lowest. However, some boroughs such as Brooklyn, \n",
    "# which have a lower median income/poverty rate, had a lower average and median response time.\n"
   ]
  },
  {
   "cell_type": "code",
   "execution_count": 101,
   "metadata": {
    "id": "-2YUtUESwwgv"
   },
   "outputs": [
    {
     "data": {
      "text/html": [
       "<div>\n",
       "<style scoped>\n",
       "    .dataframe tbody tr th:only-of-type {\n",
       "        vertical-align: middle;\n",
       "    }\n",
       "\n",
       "    .dataframe tbody tr th {\n",
       "        vertical-align: top;\n",
       "    }\n",
       "\n",
       "    .dataframe thead th {\n",
       "        text-align: right;\n",
       "    }\n",
       "</style>\n",
       "<table border=\"1\" class=\"dataframe\">\n",
       "  <thead>\n",
       "    <tr style=\"text-align: right;\">\n",
       "      <th>Borough</th>\n",
       "      <th>Bronx</th>\n",
       "      <th>Brooklyn</th>\n",
       "      <th>Queens</th>\n",
       "      <th>Staten Island</th>\n",
       "      <th>Manhattan</th>\n",
       "    </tr>\n",
       "  </thead>\n",
       "  <tbody>\n",
       "    <tr>\n",
       "      <th>Standard Deviation</th>\n",
       "      <td>32.351783</td>\n",
       "      <td>29.556556</td>\n",
       "      <td>24.636748</td>\n",
       "      <td>24.214621</td>\n",
       "      <td>18.576803</td>\n",
       "    </tr>\n",
       "    <tr>\n",
       "      <th>Max</th>\n",
       "      <td>662.784251</td>\n",
       "      <td>629.028300</td>\n",
       "      <td>640.371018</td>\n",
       "      <td>617.715414</td>\n",
       "      <td>597.011098</td>\n",
       "    </tr>\n",
       "    <tr>\n",
       "      <th>Min</th>\n",
       "      <td>565.021531</td>\n",
       "      <td>534.380453</td>\n",
       "      <td>559.172599</td>\n",
       "      <td>547.206999</td>\n",
       "      <td>543.618296</td>\n",
       "    </tr>\n",
       "  </tbody>\n",
       "</table>\n",
       "</div>"
      ],
      "text/plain": [
       "Borough                  Bronx    Brooklyn      Queens  Staten Island  \\\n",
       "Standard Deviation   32.351783   29.556556   24.636748      24.214621   \n",
       "Max                 662.784251  629.028300  640.371018     617.715414   \n",
       "Min                 565.021531  534.380453  559.172599     547.206999   \n",
       "\n",
       "Borough              Manhattan  \n",
       "Standard Deviation   18.576803  \n",
       "Max                 597.011098  \n",
       "Min                 543.618296  "
      ]
     },
     "execution_count": 101,
     "metadata": {},
     "output_type": "execute_result"
    }
   ],
   "source": [
    "def insight5():\n",
    "    df = pd.read_csv(\"cleaned_response_times.csv\")\n",
    "    response_stats=pd.DataFrame()\n",
    "    response_stats[\"Standard Deviation\"] = df.groupby(\"Borough\")[\"Incident Response Time\"].std()\n",
    "    response_stats[\"Max\"] = df.groupby(\"Borough\")[\"Incident Response Time\"].max()\n",
    "    response_stats[\"Min\"] = df.groupby(\"Borough\")[\"Incident Response Time\"].min()\n",
    "    response_stats=response_stats.sort_values(by=\"Standard Deviation\", ascending = False)\n",
    "    response_stats=response_stats.transpose()\n",
    "\n",
    "    return response_stats\n",
    " \n",
    "############ Function Call ############\n",
    "\n",
    "insight5()"
   ]
  },
  {
   "cell_type": "code",
   "execution_count": 102,
   "metadata": {
    "id": "JabcFGP9xIyn"
   },
   "outputs": [],
   "source": [
    "### Insight 5 Explanation\n",
    "\n",
    "# Conclusion: Lower income boroughs, including the Bronx and Brooklyn, have a greater spread of incident response times\n",
    "# than higher income boroughs, including Manhattan.\n",
    "\n",
    "# The spread of the data varies significantly from borough to borough; the Bronx has a greater range of incident response \n",
    "# times as compared to Manhattan. \n",
    "# This spread could be due to a variety of factors including population density, the \n",
    "# proximity of EMS services, etc. Lower income boroughs (Bronx and Brooklyn) have a greater standard deviation than higher \n",
    "# income boroughs (Staten Island and Manhattan), further supporting our initial hypothesis."
   ]
  },
  {
   "cell_type": "markdown",
   "metadata": {
    "id": "xN58r5MNxN4m"
   },
   "source": [
    "## Data Visualizations"
   ]
  },
  {
   "cell_type": "code",
   "execution_count": 103,
   "metadata": {},
   "outputs": [],
   "source": [
    "## Import Modules: Do not Change this cell###\n",
    "import plotly.express as px\n",
    "import plotly.graph_objects as go\n",
    "import numpy as np\n",
    "import pandas as pd\n",
    "import matplotlib.pyplot as plt"
   ]
  },
  {
   "cell_type": "code",
   "execution_count": 104,
   "metadata": {
    "id": "stKXZGSnxS0f"
   },
   "outputs": [
    {
     "data": {
      "application/vnd.plotly.v1+json": {
       "config": {
        "plotlyServerURL": "https://plot.ly"
       },
       "data": [
        {
         "alignmentgroup": "True",
         "hovertemplate": "Borough=%{x}<br>% Treated/Transported=%{y}<extra></extra>",
         "legendgroup": "",
         "marker": {
          "color": "#636efa",
          "pattern": {
           "shape": ""
          }
         },
         "name": "",
         "offsetgroup": "",
         "orientation": "v",
         "showlegend": false,
         "textposition": "auto",
         "type": "bar",
         "x": [
          "Bronx",
          "Brooklyn",
          "Manhattan",
          "Queens",
          "Staten Island"
         ],
         "xaxis": "x",
         "y": [
          96.3855421686747,
          97.96839729119638,
          99.12087912087912,
          99.1394148020654,
          98
         ],
         "yaxis": "y"
        }
       ],
       "layout": {
        "barmode": "relative",
        "legend": {
         "tracegroupgap": 0
        },
        "margin": {
         "t": 60
        },
        "template": {
         "data": {
          "bar": [
           {
            "error_x": {
             "color": "#2a3f5f"
            },
            "error_y": {
             "color": "#2a3f5f"
            },
            "marker": {
             "line": {
              "color": "#E5ECF6",
              "width": 0.5
             },
             "pattern": {
              "fillmode": "overlay",
              "size": 10,
              "solidity": 0.2
             }
            },
            "type": "bar"
           }
          ],
          "barpolar": [
           {
            "marker": {
             "line": {
              "color": "#E5ECF6",
              "width": 0.5
             },
             "pattern": {
              "fillmode": "overlay",
              "size": 10,
              "solidity": 0.2
             }
            },
            "type": "barpolar"
           }
          ],
          "carpet": [
           {
            "aaxis": {
             "endlinecolor": "#2a3f5f",
             "gridcolor": "white",
             "linecolor": "white",
             "minorgridcolor": "white",
             "startlinecolor": "#2a3f5f"
            },
            "baxis": {
             "endlinecolor": "#2a3f5f",
             "gridcolor": "white",
             "linecolor": "white",
             "minorgridcolor": "white",
             "startlinecolor": "#2a3f5f"
            },
            "type": "carpet"
           }
          ],
          "choropleth": [
           {
            "colorbar": {
             "outlinewidth": 0,
             "ticks": ""
            },
            "type": "choropleth"
           }
          ],
          "contour": [
           {
            "colorbar": {
             "outlinewidth": 0,
             "ticks": ""
            },
            "colorscale": [
             [
              0,
              "#0d0887"
             ],
             [
              0.1111111111111111,
              "#46039f"
             ],
             [
              0.2222222222222222,
              "#7201a8"
             ],
             [
              0.3333333333333333,
              "#9c179e"
             ],
             [
              0.4444444444444444,
              "#bd3786"
             ],
             [
              0.5555555555555556,
              "#d8576b"
             ],
             [
              0.6666666666666666,
              "#ed7953"
             ],
             [
              0.7777777777777778,
              "#fb9f3a"
             ],
             [
              0.8888888888888888,
              "#fdca26"
             ],
             [
              1,
              "#f0f921"
             ]
            ],
            "type": "contour"
           }
          ],
          "contourcarpet": [
           {
            "colorbar": {
             "outlinewidth": 0,
             "ticks": ""
            },
            "type": "contourcarpet"
           }
          ],
          "heatmap": [
           {
            "colorbar": {
             "outlinewidth": 0,
             "ticks": ""
            },
            "colorscale": [
             [
              0,
              "#0d0887"
             ],
             [
              0.1111111111111111,
              "#46039f"
             ],
             [
              0.2222222222222222,
              "#7201a8"
             ],
             [
              0.3333333333333333,
              "#9c179e"
             ],
             [
              0.4444444444444444,
              "#bd3786"
             ],
             [
              0.5555555555555556,
              "#d8576b"
             ],
             [
              0.6666666666666666,
              "#ed7953"
             ],
             [
              0.7777777777777778,
              "#fb9f3a"
             ],
             [
              0.8888888888888888,
              "#fdca26"
             ],
             [
              1,
              "#f0f921"
             ]
            ],
            "type": "heatmap"
           }
          ],
          "heatmapgl": [
           {
            "colorbar": {
             "outlinewidth": 0,
             "ticks": ""
            },
            "colorscale": [
             [
              0,
              "#0d0887"
             ],
             [
              0.1111111111111111,
              "#46039f"
             ],
             [
              0.2222222222222222,
              "#7201a8"
             ],
             [
              0.3333333333333333,
              "#9c179e"
             ],
             [
              0.4444444444444444,
              "#bd3786"
             ],
             [
              0.5555555555555556,
              "#d8576b"
             ],
             [
              0.6666666666666666,
              "#ed7953"
             ],
             [
              0.7777777777777778,
              "#fb9f3a"
             ],
             [
              0.8888888888888888,
              "#fdca26"
             ],
             [
              1,
              "#f0f921"
             ]
            ],
            "type": "heatmapgl"
           }
          ],
          "histogram": [
           {
            "marker": {
             "pattern": {
              "fillmode": "overlay",
              "size": 10,
              "solidity": 0.2
             }
            },
            "type": "histogram"
           }
          ],
          "histogram2d": [
           {
            "colorbar": {
             "outlinewidth": 0,
             "ticks": ""
            },
            "colorscale": [
             [
              0,
              "#0d0887"
             ],
             [
              0.1111111111111111,
              "#46039f"
             ],
             [
              0.2222222222222222,
              "#7201a8"
             ],
             [
              0.3333333333333333,
              "#9c179e"
             ],
             [
              0.4444444444444444,
              "#bd3786"
             ],
             [
              0.5555555555555556,
              "#d8576b"
             ],
             [
              0.6666666666666666,
              "#ed7953"
             ],
             [
              0.7777777777777778,
              "#fb9f3a"
             ],
             [
              0.8888888888888888,
              "#fdca26"
             ],
             [
              1,
              "#f0f921"
             ]
            ],
            "type": "histogram2d"
           }
          ],
          "histogram2dcontour": [
           {
            "colorbar": {
             "outlinewidth": 0,
             "ticks": ""
            },
            "colorscale": [
             [
              0,
              "#0d0887"
             ],
             [
              0.1111111111111111,
              "#46039f"
             ],
             [
              0.2222222222222222,
              "#7201a8"
             ],
             [
              0.3333333333333333,
              "#9c179e"
             ],
             [
              0.4444444444444444,
              "#bd3786"
             ],
             [
              0.5555555555555556,
              "#d8576b"
             ],
             [
              0.6666666666666666,
              "#ed7953"
             ],
             [
              0.7777777777777778,
              "#fb9f3a"
             ],
             [
              0.8888888888888888,
              "#fdca26"
             ],
             [
              1,
              "#f0f921"
             ]
            ],
            "type": "histogram2dcontour"
           }
          ],
          "mesh3d": [
           {
            "colorbar": {
             "outlinewidth": 0,
             "ticks": ""
            },
            "type": "mesh3d"
           }
          ],
          "parcoords": [
           {
            "line": {
             "colorbar": {
              "outlinewidth": 0,
              "ticks": ""
             }
            },
            "type": "parcoords"
           }
          ],
          "pie": [
           {
            "automargin": true,
            "type": "pie"
           }
          ],
          "scatter": [
           {
            "fillpattern": {
             "fillmode": "overlay",
             "size": 10,
             "solidity": 0.2
            },
            "type": "scatter"
           }
          ],
          "scatter3d": [
           {
            "line": {
             "colorbar": {
              "outlinewidth": 0,
              "ticks": ""
             }
            },
            "marker": {
             "colorbar": {
              "outlinewidth": 0,
              "ticks": ""
             }
            },
            "type": "scatter3d"
           }
          ],
          "scattercarpet": [
           {
            "marker": {
             "colorbar": {
              "outlinewidth": 0,
              "ticks": ""
             }
            },
            "type": "scattercarpet"
           }
          ],
          "scattergeo": [
           {
            "marker": {
             "colorbar": {
              "outlinewidth": 0,
              "ticks": ""
             }
            },
            "type": "scattergeo"
           }
          ],
          "scattergl": [
           {
            "marker": {
             "colorbar": {
              "outlinewidth": 0,
              "ticks": ""
             }
            },
            "type": "scattergl"
           }
          ],
          "scattermapbox": [
           {
            "marker": {
             "colorbar": {
              "outlinewidth": 0,
              "ticks": ""
             }
            },
            "type": "scattermapbox"
           }
          ],
          "scatterpolar": [
           {
            "marker": {
             "colorbar": {
              "outlinewidth": 0,
              "ticks": ""
             }
            },
            "type": "scatterpolar"
           }
          ],
          "scatterpolargl": [
           {
            "marker": {
             "colorbar": {
              "outlinewidth": 0,
              "ticks": ""
             }
            },
            "type": "scatterpolargl"
           }
          ],
          "scatterternary": [
           {
            "marker": {
             "colorbar": {
              "outlinewidth": 0,
              "ticks": ""
             }
            },
            "type": "scatterternary"
           }
          ],
          "surface": [
           {
            "colorbar": {
             "outlinewidth": 0,
             "ticks": ""
            },
            "colorscale": [
             [
              0,
              "#0d0887"
             ],
             [
              0.1111111111111111,
              "#46039f"
             ],
             [
              0.2222222222222222,
              "#7201a8"
             ],
             [
              0.3333333333333333,
              "#9c179e"
             ],
             [
              0.4444444444444444,
              "#bd3786"
             ],
             [
              0.5555555555555556,
              "#d8576b"
             ],
             [
              0.6666666666666666,
              "#ed7953"
             ],
             [
              0.7777777777777778,
              "#fb9f3a"
             ],
             [
              0.8888888888888888,
              "#fdca26"
             ],
             [
              1,
              "#f0f921"
             ]
            ],
            "type": "surface"
           }
          ],
          "table": [
           {
            "cells": {
             "fill": {
              "color": "#EBF0F8"
             },
             "line": {
              "color": "white"
             }
            },
            "header": {
             "fill": {
              "color": "#C8D4E3"
             },
             "line": {
              "color": "white"
             }
            },
            "type": "table"
           }
          ]
         },
         "layout": {
          "annotationdefaults": {
           "arrowcolor": "#2a3f5f",
           "arrowhead": 0,
           "arrowwidth": 1
          },
          "autotypenumbers": "strict",
          "coloraxis": {
           "colorbar": {
            "outlinewidth": 0,
            "ticks": ""
           }
          },
          "colorscale": {
           "diverging": [
            [
             0,
             "#8e0152"
            ],
            [
             0.1,
             "#c51b7d"
            ],
            [
             0.2,
             "#de77ae"
            ],
            [
             0.3,
             "#f1b6da"
            ],
            [
             0.4,
             "#fde0ef"
            ],
            [
             0.5,
             "#f7f7f7"
            ],
            [
             0.6,
             "#e6f5d0"
            ],
            [
             0.7,
             "#b8e186"
            ],
            [
             0.8,
             "#7fbc41"
            ],
            [
             0.9,
             "#4d9221"
            ],
            [
             1,
             "#276419"
            ]
           ],
           "sequential": [
            [
             0,
             "#0d0887"
            ],
            [
             0.1111111111111111,
             "#46039f"
            ],
            [
             0.2222222222222222,
             "#7201a8"
            ],
            [
             0.3333333333333333,
             "#9c179e"
            ],
            [
             0.4444444444444444,
             "#bd3786"
            ],
            [
             0.5555555555555556,
             "#d8576b"
            ],
            [
             0.6666666666666666,
             "#ed7953"
            ],
            [
             0.7777777777777778,
             "#fb9f3a"
            ],
            [
             0.8888888888888888,
             "#fdca26"
            ],
            [
             1,
             "#f0f921"
            ]
           ],
           "sequentialminus": [
            [
             0,
             "#0d0887"
            ],
            [
             0.1111111111111111,
             "#46039f"
            ],
            [
             0.2222222222222222,
             "#7201a8"
            ],
            [
             0.3333333333333333,
             "#9c179e"
            ],
            [
             0.4444444444444444,
             "#bd3786"
            ],
            [
             0.5555555555555556,
             "#d8576b"
            ],
            [
             0.6666666666666666,
             "#ed7953"
            ],
            [
             0.7777777777777778,
             "#fb9f3a"
            ],
            [
             0.8888888888888888,
             "#fdca26"
            ],
            [
             1,
             "#f0f921"
            ]
           ]
          },
          "colorway": [
           "#636efa",
           "#EF553B",
           "#00cc96",
           "#ab63fa",
           "#FFA15A",
           "#19d3f3",
           "#FF6692",
           "#B6E880",
           "#FF97FF",
           "#FECB52"
          ],
          "font": {
           "color": "#2a3f5f"
          },
          "geo": {
           "bgcolor": "white",
           "lakecolor": "white",
           "landcolor": "#E5ECF6",
           "showlakes": true,
           "showland": true,
           "subunitcolor": "white"
          },
          "hoverlabel": {
           "align": "left"
          },
          "hovermode": "closest",
          "mapbox": {
           "style": "light"
          },
          "paper_bgcolor": "white",
          "plot_bgcolor": "#E5ECF6",
          "polar": {
           "angularaxis": {
            "gridcolor": "white",
            "linecolor": "white",
            "ticks": ""
           },
           "bgcolor": "#E5ECF6",
           "radialaxis": {
            "gridcolor": "white",
            "linecolor": "white",
            "ticks": ""
           }
          },
          "scene": {
           "xaxis": {
            "backgroundcolor": "#E5ECF6",
            "gridcolor": "white",
            "gridwidth": 2,
            "linecolor": "white",
            "showbackground": true,
            "ticks": "",
            "zerolinecolor": "white"
           },
           "yaxis": {
            "backgroundcolor": "#E5ECF6",
            "gridcolor": "white",
            "gridwidth": 2,
            "linecolor": "white",
            "showbackground": true,
            "ticks": "",
            "zerolinecolor": "white"
           },
           "zaxis": {
            "backgroundcolor": "#E5ECF6",
            "gridcolor": "white",
            "gridwidth": 2,
            "linecolor": "white",
            "showbackground": true,
            "ticks": "",
            "zerolinecolor": "white"
           }
          },
          "shapedefaults": {
           "line": {
            "color": "#2a3f5f"
           }
          },
          "ternary": {
           "aaxis": {
            "gridcolor": "white",
            "linecolor": "white",
            "ticks": ""
           },
           "baxis": {
            "gridcolor": "white",
            "linecolor": "white",
            "ticks": ""
           },
           "bgcolor": "#E5ECF6",
           "caxis": {
            "gridcolor": "white",
            "linecolor": "white",
            "ticks": ""
           }
          },
          "title": {
           "x": 0.05
          },
          "xaxis": {
           "automargin": true,
           "gridcolor": "white",
           "linecolor": "white",
           "ticks": "",
           "title": {
            "standoff": 15
           },
           "zerolinecolor": "white",
           "zerolinewidth": 2
          },
          "yaxis": {
           "automargin": true,
           "gridcolor": "white",
           "linecolor": "white",
           "ticks": "",
           "title": {
            "standoff": 15
           },
           "zerolinecolor": "white",
           "zerolinewidth": 2
          }
         }
        },
        "xaxis": {
         "anchor": "y",
         "domain": [
          0,
          1
         ],
         "title": {
          "text": "Borough"
         }
        },
        "yaxis": {
         "anchor": "x",
         "domain": [
          0,
          1
         ],
         "title": {
          "text": "% Treated/Transported"
         }
        }
       }
      },
      "text/html": [
       "<div>                            <div id=\"9a22a01b-1cd3-488b-9a2f-756e67f3ee32\" class=\"plotly-graph-div\" style=\"height:525px; width:100%;\"></div>            <script type=\"text/javascript\">                require([\"plotly\"], function(Plotly) {                    window.PLOTLYENV=window.PLOTLYENV || {};                                    if (document.getElementById(\"9a22a01b-1cd3-488b-9a2f-756e67f3ee32\")) {                    Plotly.newPlot(                        \"9a22a01b-1cd3-488b-9a2f-756e67f3ee32\",                        [{\"alignmentgroup\":\"True\",\"hovertemplate\":\"Borough=%{x}<br>% Treated/Transported=%{y}<extra></extra>\",\"legendgroup\":\"\",\"marker\":{\"color\":\"#636efa\",\"pattern\":{\"shape\":\"\"}},\"name\":\"\",\"offsetgroup\":\"\",\"orientation\":\"v\",\"showlegend\":false,\"textposition\":\"auto\",\"x\":[\"Bronx\",\"Brooklyn\",\"Manhattan\",\"Queens\",\"Staten Island\"],\"xaxis\":\"x\",\"y\":[96.3855421686747,97.96839729119638,99.12087912087912,99.1394148020654,98.0],\"yaxis\":\"y\",\"type\":\"bar\"}],                        {\"template\":{\"data\":{\"histogram2dcontour\":[{\"type\":\"histogram2dcontour\",\"colorbar\":{\"outlinewidth\":0,\"ticks\":\"\"},\"colorscale\":[[0.0,\"#0d0887\"],[0.1111111111111111,\"#46039f\"],[0.2222222222222222,\"#7201a8\"],[0.3333333333333333,\"#9c179e\"],[0.4444444444444444,\"#bd3786\"],[0.5555555555555556,\"#d8576b\"],[0.6666666666666666,\"#ed7953\"],[0.7777777777777778,\"#fb9f3a\"],[0.8888888888888888,\"#fdca26\"],[1.0,\"#f0f921\"]]}],\"choropleth\":[{\"type\":\"choropleth\",\"colorbar\":{\"outlinewidth\":0,\"ticks\":\"\"}}],\"histogram2d\":[{\"type\":\"histogram2d\",\"colorbar\":{\"outlinewidth\":0,\"ticks\":\"\"},\"colorscale\":[[0.0,\"#0d0887\"],[0.1111111111111111,\"#46039f\"],[0.2222222222222222,\"#7201a8\"],[0.3333333333333333,\"#9c179e\"],[0.4444444444444444,\"#bd3786\"],[0.5555555555555556,\"#d8576b\"],[0.6666666666666666,\"#ed7953\"],[0.7777777777777778,\"#fb9f3a\"],[0.8888888888888888,\"#fdca26\"],[1.0,\"#f0f921\"]]}],\"heatmap\":[{\"type\":\"heatmap\",\"colorbar\":{\"outlinewidth\":0,\"ticks\":\"\"},\"colorscale\":[[0.0,\"#0d0887\"],[0.1111111111111111,\"#46039f\"],[0.2222222222222222,\"#7201a8\"],[0.3333333333333333,\"#9c179e\"],[0.4444444444444444,\"#bd3786\"],[0.5555555555555556,\"#d8576b\"],[0.6666666666666666,\"#ed7953\"],[0.7777777777777778,\"#fb9f3a\"],[0.8888888888888888,\"#fdca26\"],[1.0,\"#f0f921\"]]}],\"heatmapgl\":[{\"type\":\"heatmapgl\",\"colorbar\":{\"outlinewidth\":0,\"ticks\":\"\"},\"colorscale\":[[0.0,\"#0d0887\"],[0.1111111111111111,\"#46039f\"],[0.2222222222222222,\"#7201a8\"],[0.3333333333333333,\"#9c179e\"],[0.4444444444444444,\"#bd3786\"],[0.5555555555555556,\"#d8576b\"],[0.6666666666666666,\"#ed7953\"],[0.7777777777777778,\"#fb9f3a\"],[0.8888888888888888,\"#fdca26\"],[1.0,\"#f0f921\"]]}],\"contourcarpet\":[{\"type\":\"contourcarpet\",\"colorbar\":{\"outlinewidth\":0,\"ticks\":\"\"}}],\"contour\":[{\"type\":\"contour\",\"colorbar\":{\"outlinewidth\":0,\"ticks\":\"\"},\"colorscale\":[[0.0,\"#0d0887\"],[0.1111111111111111,\"#46039f\"],[0.2222222222222222,\"#7201a8\"],[0.3333333333333333,\"#9c179e\"],[0.4444444444444444,\"#bd3786\"],[0.5555555555555556,\"#d8576b\"],[0.6666666666666666,\"#ed7953\"],[0.7777777777777778,\"#fb9f3a\"],[0.8888888888888888,\"#fdca26\"],[1.0,\"#f0f921\"]]}],\"surface\":[{\"type\":\"surface\",\"colorbar\":{\"outlinewidth\":0,\"ticks\":\"\"},\"colorscale\":[[0.0,\"#0d0887\"],[0.1111111111111111,\"#46039f\"],[0.2222222222222222,\"#7201a8\"],[0.3333333333333333,\"#9c179e\"],[0.4444444444444444,\"#bd3786\"],[0.5555555555555556,\"#d8576b\"],[0.6666666666666666,\"#ed7953\"],[0.7777777777777778,\"#fb9f3a\"],[0.8888888888888888,\"#fdca26\"],[1.0,\"#f0f921\"]]}],\"mesh3d\":[{\"type\":\"mesh3d\",\"colorbar\":{\"outlinewidth\":0,\"ticks\":\"\"}}],\"scatter\":[{\"fillpattern\":{\"fillmode\":\"overlay\",\"size\":10,\"solidity\":0.2},\"type\":\"scatter\"}],\"parcoords\":[{\"type\":\"parcoords\",\"line\":{\"colorbar\":{\"outlinewidth\":0,\"ticks\":\"\"}}}],\"scatterpolargl\":[{\"type\":\"scatterpolargl\",\"marker\":{\"colorbar\":{\"outlinewidth\":0,\"ticks\":\"\"}}}],\"bar\":[{\"error_x\":{\"color\":\"#2a3f5f\"},\"error_y\":{\"color\":\"#2a3f5f\"},\"marker\":{\"line\":{\"color\":\"#E5ECF6\",\"width\":0.5},\"pattern\":{\"fillmode\":\"overlay\",\"size\":10,\"solidity\":0.2}},\"type\":\"bar\"}],\"scattergeo\":[{\"type\":\"scattergeo\",\"marker\":{\"colorbar\":{\"outlinewidth\":0,\"ticks\":\"\"}}}],\"scatterpolar\":[{\"type\":\"scatterpolar\",\"marker\":{\"colorbar\":{\"outlinewidth\":0,\"ticks\":\"\"}}}],\"histogram\":[{\"marker\":{\"pattern\":{\"fillmode\":\"overlay\",\"size\":10,\"solidity\":0.2}},\"type\":\"histogram\"}],\"scattergl\":[{\"type\":\"scattergl\",\"marker\":{\"colorbar\":{\"outlinewidth\":0,\"ticks\":\"\"}}}],\"scatter3d\":[{\"type\":\"scatter3d\",\"line\":{\"colorbar\":{\"outlinewidth\":0,\"ticks\":\"\"}},\"marker\":{\"colorbar\":{\"outlinewidth\":0,\"ticks\":\"\"}}}],\"scattermapbox\":[{\"type\":\"scattermapbox\",\"marker\":{\"colorbar\":{\"outlinewidth\":0,\"ticks\":\"\"}}}],\"scatterternary\":[{\"type\":\"scatterternary\",\"marker\":{\"colorbar\":{\"outlinewidth\":0,\"ticks\":\"\"}}}],\"scattercarpet\":[{\"type\":\"scattercarpet\",\"marker\":{\"colorbar\":{\"outlinewidth\":0,\"ticks\":\"\"}}}],\"carpet\":[{\"aaxis\":{\"endlinecolor\":\"#2a3f5f\",\"gridcolor\":\"white\",\"linecolor\":\"white\",\"minorgridcolor\":\"white\",\"startlinecolor\":\"#2a3f5f\"},\"baxis\":{\"endlinecolor\":\"#2a3f5f\",\"gridcolor\":\"white\",\"linecolor\":\"white\",\"minorgridcolor\":\"white\",\"startlinecolor\":\"#2a3f5f\"},\"type\":\"carpet\"}],\"table\":[{\"cells\":{\"fill\":{\"color\":\"#EBF0F8\"},\"line\":{\"color\":\"white\"}},\"header\":{\"fill\":{\"color\":\"#C8D4E3\"},\"line\":{\"color\":\"white\"}},\"type\":\"table\"}],\"barpolar\":[{\"marker\":{\"line\":{\"color\":\"#E5ECF6\",\"width\":0.5},\"pattern\":{\"fillmode\":\"overlay\",\"size\":10,\"solidity\":0.2}},\"type\":\"barpolar\"}],\"pie\":[{\"automargin\":true,\"type\":\"pie\"}]},\"layout\":{\"autotypenumbers\":\"strict\",\"colorway\":[\"#636efa\",\"#EF553B\",\"#00cc96\",\"#ab63fa\",\"#FFA15A\",\"#19d3f3\",\"#FF6692\",\"#B6E880\",\"#FF97FF\",\"#FECB52\"],\"font\":{\"color\":\"#2a3f5f\"},\"hovermode\":\"closest\",\"hoverlabel\":{\"align\":\"left\"},\"paper_bgcolor\":\"white\",\"plot_bgcolor\":\"#E5ECF6\",\"polar\":{\"bgcolor\":\"#E5ECF6\",\"angularaxis\":{\"gridcolor\":\"white\",\"linecolor\":\"white\",\"ticks\":\"\"},\"radialaxis\":{\"gridcolor\":\"white\",\"linecolor\":\"white\",\"ticks\":\"\"}},\"ternary\":{\"bgcolor\":\"#E5ECF6\",\"aaxis\":{\"gridcolor\":\"white\",\"linecolor\":\"white\",\"ticks\":\"\"},\"baxis\":{\"gridcolor\":\"white\",\"linecolor\":\"white\",\"ticks\":\"\"},\"caxis\":{\"gridcolor\":\"white\",\"linecolor\":\"white\",\"ticks\":\"\"}},\"coloraxis\":{\"colorbar\":{\"outlinewidth\":0,\"ticks\":\"\"}},\"colorscale\":{\"sequential\":[[0.0,\"#0d0887\"],[0.1111111111111111,\"#46039f\"],[0.2222222222222222,\"#7201a8\"],[0.3333333333333333,\"#9c179e\"],[0.4444444444444444,\"#bd3786\"],[0.5555555555555556,\"#d8576b\"],[0.6666666666666666,\"#ed7953\"],[0.7777777777777778,\"#fb9f3a\"],[0.8888888888888888,\"#fdca26\"],[1.0,\"#f0f921\"]],\"sequentialminus\":[[0.0,\"#0d0887\"],[0.1111111111111111,\"#46039f\"],[0.2222222222222222,\"#7201a8\"],[0.3333333333333333,\"#9c179e\"],[0.4444444444444444,\"#bd3786\"],[0.5555555555555556,\"#d8576b\"],[0.6666666666666666,\"#ed7953\"],[0.7777777777777778,\"#fb9f3a\"],[0.8888888888888888,\"#fdca26\"],[1.0,\"#f0f921\"]],\"diverging\":[[0,\"#8e0152\"],[0.1,\"#c51b7d\"],[0.2,\"#de77ae\"],[0.3,\"#f1b6da\"],[0.4,\"#fde0ef\"],[0.5,\"#f7f7f7\"],[0.6,\"#e6f5d0\"],[0.7,\"#b8e186\"],[0.8,\"#7fbc41\"],[0.9,\"#4d9221\"],[1,\"#276419\"]]},\"xaxis\":{\"gridcolor\":\"white\",\"linecolor\":\"white\",\"ticks\":\"\",\"title\":{\"standoff\":15},\"zerolinecolor\":\"white\",\"automargin\":true,\"zerolinewidth\":2},\"yaxis\":{\"gridcolor\":\"white\",\"linecolor\":\"white\",\"ticks\":\"\",\"title\":{\"standoff\":15},\"zerolinecolor\":\"white\",\"automargin\":true,\"zerolinewidth\":2},\"scene\":{\"xaxis\":{\"backgroundcolor\":\"#E5ECF6\",\"gridcolor\":\"white\",\"linecolor\":\"white\",\"showbackground\":true,\"ticks\":\"\",\"zerolinecolor\":\"white\",\"gridwidth\":2},\"yaxis\":{\"backgroundcolor\":\"#E5ECF6\",\"gridcolor\":\"white\",\"linecolor\":\"white\",\"showbackground\":true,\"ticks\":\"\",\"zerolinecolor\":\"white\",\"gridwidth\":2},\"zaxis\":{\"backgroundcolor\":\"#E5ECF6\",\"gridcolor\":\"white\",\"linecolor\":\"white\",\"showbackground\":true,\"ticks\":\"\",\"zerolinecolor\":\"white\",\"gridwidth\":2}},\"shapedefaults\":{\"line\":{\"color\":\"#2a3f5f\"}},\"annotationdefaults\":{\"arrowcolor\":\"#2a3f5f\",\"arrowhead\":0,\"arrowwidth\":1},\"geo\":{\"bgcolor\":\"white\",\"landcolor\":\"#E5ECF6\",\"subunitcolor\":\"white\",\"showland\":true,\"showlakes\":true,\"lakecolor\":\"white\"},\"title\":{\"x\":0.05},\"mapbox\":{\"style\":\"light\"}}},\"xaxis\":{\"anchor\":\"y\",\"domain\":[0.0,1.0],\"title\":{\"text\":\"Borough\"}},\"yaxis\":{\"anchor\":\"x\",\"domain\":[0.0,1.0],\"title\":{\"text\":\"% Treated/Transported\"}},\"legend\":{\"tracegroupgap\":0},\"margin\":{\"t\":60},\"barmode\":\"relative\"},                        {\"responsive\": true}                    ).then(function(){\n",
       "                            \n",
       "var gd = document.getElementById('9a22a01b-1cd3-488b-9a2f-756e67f3ee32');\n",
       "var x = new MutationObserver(function (mutations, observer) {{\n",
       "        var display = window.getComputedStyle(gd).display;\n",
       "        if (!display || display === 'none') {{\n",
       "            console.log([gd, 'removed!']);\n",
       "            Plotly.purge(gd);\n",
       "            observer.disconnect();\n",
       "        }}\n",
       "}});\n",
       "\n",
       "// Listen for the removal of the full notebook cells\n",
       "var notebookContainer = gd.closest('#notebook-container');\n",
       "if (notebookContainer) {{\n",
       "    x.observe(notebookContainer, {childList: true});\n",
       "}}\n",
       "\n",
       "// Listen for the clearing of the current output cell\n",
       "var outputEl = gd.closest('.output');\n",
       "if (outputEl) {{\n",
       "    x.observe(outputEl, {childList: true});\n",
       "}}\n",
       "\n",
       "                        })                };                });            </script>        </div>"
      ]
     },
     "metadata": {},
     "output_type": "display_data"
    }
   ],
   "source": [
    "def visual1(final):\n",
    "    final = final.reset_index()\n",
    "#     return final\n",
    "#     df = pd.read_csv(\"2021_ems_data.csv\")\n",
    "#     data = pd.DataFrame()\n",
    "#     data[\"Borough\"] = df[\"Borough\"]\n",
    "#     data[\"Disposition Code\"] = df[\"Disposition Code\"]\n",
    "#     data[\"Incident Status\"] = (data[\"Disposition Code\"] == \"Bad\").where((data[\"Disposition Code\"] == 83) | (data[\"Disposition Code\"] == 96), \"Alive\")\n",
    "   \n",
    "\n",
    "    fig = px.bar(final, x=\"Borough\", y=\"% Treated/Transported\")\n",
    "    fig.show()\n",
    "############ Function Call ############\n",
    "x = insight2()\n",
    "visual1(x)\n",
    "\n"
   ]
  },
  {
   "cell_type": "code",
   "execution_count": 105,
   "metadata": {
    "id": "-CDB8hXwxgSB"
   },
   "outputs": [],
   "source": [
    "### Visualization 1 Explanation\n",
    "\n",
    "# This visualization substantiates insight #2. The % treated/transported for lower income boroughs (Bronx & Brooklyn) is\n",
    "# lower than the percentage treated/transported for higher income boroughs (Manhattan & Staten Island). Although Queens has \n",
    "# a lower median household income and poverty rate than Staten Island does, it has a higher percentage of treated/transported \n",
    "# cases. We provided a potential explanation for why this may be in insight #2.\n"
   ]
  },
  {
   "cell_type": "code",
   "execution_count": 106,
   "metadata": {
    "id": "vACib_mBxW0E"
   },
   "outputs": [
    {
     "data": {
      "application/vnd.plotly.v1+json": {
       "config": {
        "plotlyServerURL": "https://plot.ly"
       },
       "data": [
        {
         "hovertemplate": "Borough=Bronx<br>Dispatch Response Time=%{x}<br>Incident Response Time=%{y}<extra></extra>",
         "legendgroup": "Bronx",
         "marker": {
          "color": "#636efa",
          "symbol": "circle"
         },
         "mode": "markers",
         "name": "Bronx",
         "orientation": "v",
         "showlegend": true,
         "type": "scatter",
         "x": [
          null,
          13,
          23,
          12,
          16,
          null,
          null,
          45,
          10538,
          19521,
          null,
          11,
          23,
          26954,
          24318,
          20154,
          8,
          null,
          null,
          14,
          null,
          null,
          null,
          139,
          36,
          null,
          47,
          156,
          6,
          52,
          60,
          null,
          19,
          23,
          11,
          77,
          null,
          10,
          null,
          24,
          6,
          203,
          11,
          47,
          15,
          101,
          20,
          25,
          85,
          55,
          23,
          null,
          5,
          null,
          78,
          25,
          20,
          34,
          13,
          5,
          null,
          null,
          19,
          11,
          null,
          74,
          26,
          null,
          59,
          207,
          34,
          null,
          8548,
          13,
          null,
          null,
          15,
          15,
          128,
          34,
          null,
          22,
          12,
          10,
          7,
          32,
          57,
          6,
          29,
          43,
          31,
          18,
          66,
          null,
          17,
          106,
          77,
          null,
          76,
          10,
          15,
          8,
          405,
          88,
          13,
          44,
          null,
          13,
          47,
          23,
          36,
          12,
          7,
          12,
          null,
          null,
          11,
          36,
          47,
          8,
          23,
          12,
          null,
          12,
          109,
          35,
          4,
          287,
          20,
          5,
          7,
          14,
          null,
          5,
          110,
          7,
          19,
          48,
          7,
          null,
          25,
          12,
          14,
          20,
          57,
          7,
          16,
          13,
          9,
          40,
          7,
          15,
          14,
          21,
          18,
          82,
          21,
          29182,
          75,
          29,
          150,
          5,
          20,
          null,
          null,
          null,
          19,
          17,
          null,
          null,
          76,
          35,
          32,
          null,
          23,
          null,
          41,
          19,
          9,
          18,
          15,
          14,
          89,
          18,
          76,
          42,
          32,
          20953,
          27,
          11,
          31,
          185,
          15,
          10010,
          37,
          32,
          25,
          125,
          125,
          52,
          9,
          120,
          25,
          9,
          29,
          52,
          24,
          26,
          81,
          14497,
          25,
          187,
          null,
          26,
          null,
          34,
          108,
          74,
          29,
          null,
          22,
          32,
          37,
          63,
          9,
          38,
          10,
          13,
          15,
          46,
          24,
          null,
          70,
          null,
          28,
          13,
          null,
          29,
          16,
          184
         ],
         "xaxis": "x",
         "y": [
          null,
          881,
          439,
          652,
          238,
          null,
          null,
          393,
          12092,
          22104,
          null,
          397,
          280,
          32230,
          26962,
          21480,
          61,
          null,
          null,
          592,
          null,
          null,
          null,
          641,
          371,
          null,
          765,
          656,
          262,
          428,
          493,
          null,
          263,
          287,
          289,
          461,
          null,
          847,
          null,
          24,
          370,
          468,
          923,
          267,
          181,
          2294,
          489,
          541,
          480,
          321,
          689,
          null,
          132,
          null,
          239,
          25,
          511,
          332,
          595,
          171,
          null,
          null,
          308,
          11,
          null,
          811,
          261,
          null,
          380,
          679,
          325,
          null,
          8923,
          391,
          null,
          null,
          472,
          535,
          531,
          212,
          null,
          304,
          302,
          637,
          133,
          209,
          243,
          580,
          781,
          607,
          192,
          423,
          511,
          null,
          443,
          344,
          478,
          null,
          255,
          653,
          108,
          152,
          713,
          350,
          1130,
          613,
          null,
          73,
          402,
          270,
          642,
          270,
          207,
          42,
          null,
          null,
          500,
          224,
          488,
          375,
          347,
          492,
          null,
          479,
          459,
          374,
          668,
          896,
          496,
          39,
          326,
          542,
          null,
          875,
          1048,
          586,
          422,
          432,
          172,
          null,
          335,
          424,
          120,
          708,
          767,
          403,
          432,
          741,
          239,
          494,
          1511,
          246,
          502,
          804,
          542,
          337,
          455,
          30581,
          678,
          700,
          1287,
          422,
          677,
          null,
          null,
          null,
          730,
          149,
          null,
          null,
          561,
          128,
          180,
          null,
          785,
          null,
          60,
          282,
          1448,
          116,
          845,
          199,
          405,
          441,
          451,
          307,
          704,
          22707,
          1008,
          512,
          671,
          562,
          124,
          10585,
          617,
          1038,
          1379,
          608,
          1009,
          380,
          300,
          566,
          529,
          713,
          1119,
          1267,
          348,
          582,
          337,
          14497,
          89,
          1505,
          null,
          203,
          null,
          349,
          337,
          451,
          328,
          null,
          767,
          924,
          381,
          463,
          554,
          104,
          511,
          123,
          388,
          862,
          701,
          null,
          298,
          null,
          322,
          873,
          null,
          771,
          3169,
          497
         ],
         "yaxis": "y"
        },
        {
         "hovertemplate": "Borough=Manhattan<br>Dispatch Response Time=%{x}<br>Incident Response Time=%{y}<extra></extra>",
         "legendgroup": "Manhattan",
         "marker": {
          "color": "#EF553B",
          "symbol": "circle"
         },
         "mode": "markers",
         "name": "Manhattan",
         "orientation": "v",
         "showlegend": true,
         "type": "scatter",
         "x": [
          56,
          3325,
          null,
          96,
          25,
          11,
          19,
          22,
          25,
          108,
          null,
          32022,
          30,
          null,
          38,
          11,
          9,
          9873,
          143,
          25,
          null,
          24,
          231,
          null,
          30,
          null,
          9,
          23,
          17,
          21,
          null,
          11,
          6,
          22,
          7,
          8,
          23,
          31,
          null,
          38,
          64,
          23,
          34,
          18327,
          10,
          21,
          null,
          26,
          6,
          null,
          null,
          null,
          16082,
          null,
          null,
          91,
          null,
          null,
          null,
          193,
          30341,
          86,
          35,
          null,
          24052,
          null,
          16254,
          21782,
          35,
          5830,
          18,
          10,
          11,
          null,
          11,
          null,
          19,
          139,
          52,
          null,
          null,
          23,
          21,
          20,
          21104,
          5094,
          29,
          43,
          null,
          28,
          32,
          19812,
          36,
          null,
          37,
          32,
          34,
          20086,
          24907,
          22,
          50,
          20,
          44,
          45,
          23,
          7,
          34,
          23,
          null,
          15,
          544,
          24179,
          47,
          404,
          6,
          24760,
          23,
          52,
          8,
          6,
          34,
          17,
          38,
          20,
          39,
          21271,
          19583,
          20,
          39,
          18252,
          23,
          37,
          null,
          22,
          59,
          18152,
          25197,
          16591,
          24,
          null,
          22055,
          null,
          null,
          41,
          22456,
          13,
          16,
          11,
          11783,
          15357,
          19,
          18,
          22856,
          null,
          22896,
          null,
          null,
          null,
          46,
          null,
          null,
          46,
          21934,
          10,
          20523,
          20045,
          25113,
          15,
          12,
          null,
          21,
          null,
          26087,
          null,
          null,
          149,
          null,
          51,
          229,
          15,
          21485,
          17636,
          null,
          22453,
          25724,
          19,
          15,
          15,
          54,
          63,
          49,
          null,
          34,
          32,
          null,
          89,
          26,
          22069,
          null,
          6044,
          19712,
          12430,
          22021,
          19785,
          19860,
          19368,
          20553,
          null,
          23207,
          22661,
          20,
          141,
          19,
          21999,
          19536,
          33,
          28,
          49,
          17,
          38,
          2775,
          12,
          65,
          10,
          28,
          null,
          null,
          22548,
          18908,
          24,
          null,
          null,
          20944,
          64,
          18393,
          null,
          21,
          9,
          25,
          24,
          68,
          25991,
          null,
          22,
          null,
          null,
          27640,
          20984,
          18,
          36,
          22790,
          21998,
          null,
          27,
          12,
          32,
          22198,
          7,
          19,
          null,
          16,
          11,
          11,
          98,
          9,
          null,
          25,
          26,
          20723,
          10,
          null,
          23116,
          19,
          17,
          27166,
          30,
          null,
          19109,
          110,
          31,
          21,
          39,
          83,
          19734,
          57,
          34,
          26,
          32,
          45,
          null,
          13,
          null,
          null,
          null,
          null,
          46,
          null,
          null,
          null,
          null,
          25,
          20,
          null,
          null,
          null,
          null,
          null,
          null,
          42,
          null,
          null,
          null,
          19940,
          117,
          null,
          8655,
          23,
          null,
          83,
          73,
          22401,
          51,
          null,
          154,
          58,
          25517,
          45,
          26,
          27965,
          43,
          19517,
          19,
          null,
          18871,
          null,
          24449,
          23670,
          29,
          null,
          null,
          17444,
          76,
          null,
          29282,
          14,
          20405,
          71,
          21,
          8,
          null,
          22460,
          22424,
          5254,
          8,
          null,
          16,
          10,
          59,
          18571,
          9,
          8,
          427,
          7,
          11,
          47,
          null,
          20,
          7,
          null,
          null,
          22244,
          null,
          13944,
          16758,
          61,
          null,
          28,
          null,
          null,
          13,
          195,
          15,
          18785,
          28491,
          33,
          11,
          26,
          79,
          38,
          15270,
          null,
          24,
          39,
          56,
          64,
          22006,
          27,
          20041,
          null,
          null,
          18,
          27486,
          23816,
          null,
          20462,
          17441,
          19531,
          10,
          21134,
          22,
          18,
          26,
          14,
          63,
          21603,
          null,
          null,
          22603,
          null,
          13,
          21396,
          2,
          6,
          null,
          null,
          27,
          16,
          24792,
          null,
          22593,
          30716,
          22964,
          30,
          null,
          null,
          55,
          null,
          29,
          30,
          23425,
          null,
          null,
          17074,
          null,
          29,
          22368,
          90,
          19993,
          25,
          28,
          null
         ],
         "xaxis": "x",
         "y": [
          56,
          4247,
          null,
          606,
          541,
          1824,
          168,
          2831,
          389,
          309,
          null,
          32022,
          1551,
          null,
          586,
          1019,
          441,
          10912,
          564,
          1509,
          null,
          971,
          674,
          null,
          49,
          null,
          259,
          97,
          1118,
          21,
          null,
          3781,
          816,
          200,
          1012,
          115,
          531,
          2012,
          null,
          469,
          353,
          62,
          1734,
          18327,
          1796,
          926,
          null,
          950,
          927,
          null,
          null,
          null,
          17099,
          null,
          null,
          548,
          null,
          null,
          null,
          1271,
          32373,
          567,
          239,
          null,
          24052,
          null,
          17844,
          22285,
          137,
          7552,
          466,
          924,
          934,
          null,
          804,
          null,
          455,
          297,
          1827,
          null,
          null,
          189,
          2397,
          100,
          22105,
          6378,
          107,
          427,
          null,
          369,
          4026,
          21499,
          5677,
          null,
          2441,
          728,
          606,
          21328,
          27573,
          1631,
          4224,
          89,
          728,
          579,
          23,
          1596,
          343,
          23,
          null,
          623,
          1691,
          26322,
          332,
          2577,
          284,
          24779,
          1233,
          2283,
          461,
          4688,
          674,
          203,
          618,
          315,
          103,
          22565,
          20010,
          471,
          1239,
          19978,
          305,
          136,
          null,
          1105,
          3112,
          18165,
          25197,
          18690,
          592,
          null,
          22982,
          null,
          null,
          2241,
          22456,
          369,
          290,
          1293,
          12514,
          15811,
          413,
          1097,
          23862,
          null,
          22907,
          null,
          null,
          null,
          413,
          null,
          null,
          781,
          22845,
          320,
          20523,
          22945,
          25393,
          1920,
          1678,
          null,
          115,
          null,
          26087,
          null,
          null,
          281,
          null,
          313,
          569,
          442,
          23148,
          18599,
          null,
          22453,
          29062,
          2475,
          1910,
          1297,
          521,
          355,
          153,
          null,
          879,
          2355,
          null,
          517,
          509,
          23424,
          null,
          8752,
          23795,
          14404,
          22479,
          21013,
          21313,
          21542,
          22369,
          null,
          23445,
          23072,
          441,
          550,
          404,
          22203,
          19817,
          240,
          408,
          569,
          1026,
          5327,
          3266,
          413,
          303,
          353,
          800,
          null,
          null,
          24262,
          20119,
          732,
          null,
          null,
          22661,
          1055,
          20513,
          null,
          115,
          383,
          982,
          1329,
          936,
          26954,
          null,
          1281,
          null,
          null,
          28487,
          21943,
          1795,
          403,
          23831,
          23147,
          null,
          401,
          298,
          383,
          22612,
          172,
          1021,
          null,
          520,
          1977,
          26,
          1039,
          980,
          null,
          447,
          972,
          24636,
          1030,
          null,
          23768,
          229,
          109,
          27551,
          254,
          null,
          22223,
          686,
          592,
          1071,
          459,
          296,
          21542,
          1013,
          468,
          3610,
          32,
          1068,
          null,
          520,
          null,
          null,
          null,
          null,
          2555,
          null,
          null,
          null,
          null,
          2239,
          1018,
          null,
          null,
          null,
          null,
          null,
          null,
          447,
          null,
          null,
          null,
          21305,
          600,
          null,
          9696,
          269,
          null,
          251,
          365,
          22943,
          3136,
          null,
          1056,
          280,
          27891,
          970,
          589,
          28895,
          381,
          23257,
          442,
          null,
          19991,
          null,
          26204,
          23983,
          740,
          null,
          null,
          17920,
          501,
          null,
          29282,
          486,
          20910,
          857,
          388,
          570,
          null,
          22734,
          22449,
          5823,
          329,
          null,
          475,
          1283,
          734,
          19268,
          366,
          1074,
          2405,
          503,
          574,
          613,
          null,
          375,
          321,
          null,
          null,
          23276,
          null,
          13944,
          17665,
          533,
          null,
          478,
          null,
          null,
          1291,
          1051,
          544,
          18971,
          28491,
          634,
          485,
          195,
          118,
          41,
          16269,
          null,
          979,
          417,
          760,
          296,
          22251,
          1580,
          21926,
          null,
          null,
          1063,
          28214,
          24739,
          null,
          21777,
          18454,
          20225,
          609,
          22366,
          286,
          409,
          605,
          843,
          1943,
          22612,
          null,
          null,
          23954,
          null,
          241,
          22255,
          2,
          1803,
          null,
          null,
          487,
          598,
          25272,
          null,
          22823,
          31453,
          23880,
          52,
          null,
          null,
          572,
          null,
          149,
          1602,
          24682,
          null,
          null,
          17435,
          null,
          1123,
          22368,
          659,
          20613,
          1460,
          845,
          null
         ],
         "yaxis": "y"
        },
        {
         "hovertemplate": "Borough=Staten Island<br>Dispatch Response Time=%{x}<br>Incident Response Time=%{y}<extra></extra>",
         "legendgroup": "Staten Island",
         "marker": {
          "color": "#00cc96",
          "symbol": "circle"
         },
         "mode": "markers",
         "name": "Staten Island",
         "orientation": "v",
         "showlegend": true,
         "type": "scatter",
         "x": [
          35,
          null,
          null,
          29876,
          48,
          6,
          null,
          9260,
          null,
          74,
          null,
          47,
          10,
          null,
          null,
          null,
          22,
          44,
          17,
          20,
          null,
          null,
          null,
          4726,
          27,
          null,
          13115,
          null,
          null,
          21642,
          11566,
          19298,
          2157,
          37,
          null,
          56,
          9,
          16968,
          3998,
          9882,
          null,
          7732,
          13,
          17765,
          4206,
          12,
          17514,
          15,
          87,
          null,
          39,
          29,
          null,
          35,
          1628,
          20,
          null,
          null,
          null,
          66,
          170,
          null,
          28155,
          21,
          null,
          9,
          15226,
          7,
          62,
          16,
          17,
          10,
          12,
          14,
          125,
          null,
          20,
          31,
          null,
          11,
          11,
          5904,
          79,
          10,
          27,
          10,
          17,
          24949,
          23842,
          23859,
          26,
          16,
          null,
          15,
          null,
          22781,
          2972,
          21
         ],
         "xaxis": "x",
         "y": [
          2527,
          null,
          null,
          31047,
          1128,
          1807,
          null,
          9934,
          null,
          430,
          null,
          1344,
          1463,
          null,
          null,
          null,
          52,
          1075,
          258,
          535,
          null,
          null,
          null,
          4726,
          1589,
          null,
          16710,
          null,
          null,
          23765,
          11844,
          20730,
          2962,
          199,
          null,
          926,
          437,
          17227,
          4476,
          10321,
          null,
          8065,
          289,
          19539,
          4699,
          163,
          18581,
          2024,
          626,
          null,
          3834,
          662,
          null,
          1619,
          2344,
          1131,
          null,
          null,
          null,
          4112,
          170,
          null,
          28852,
          901,
          null,
          2268,
          17141,
          321,
          285,
          391,
          673,
          1481,
          467,
          607,
          610,
          null,
          372,
          1237,
          null,
          392,
          448,
          5904,
          684,
          706,
          241,
          373,
          1475,
          26255,
          26120,
          24760,
          934,
          187,
          null,
          405,
          null,
          26133,
          8371,
          1006
         ],
         "yaxis": "y"
        }
       ],
       "layout": {
        "legend": {
         "title": {
          "text": "Borough"
         },
         "tracegroupgap": 0
        },
        "template": {
         "data": {
          "bar": [
           {
            "error_x": {
             "color": "#2a3f5f"
            },
            "error_y": {
             "color": "#2a3f5f"
            },
            "marker": {
             "line": {
              "color": "#E5ECF6",
              "width": 0.5
             },
             "pattern": {
              "fillmode": "overlay",
              "size": 10,
              "solidity": 0.2
             }
            },
            "type": "bar"
           }
          ],
          "barpolar": [
           {
            "marker": {
             "line": {
              "color": "#E5ECF6",
              "width": 0.5
             },
             "pattern": {
              "fillmode": "overlay",
              "size": 10,
              "solidity": 0.2
             }
            },
            "type": "barpolar"
           }
          ],
          "carpet": [
           {
            "aaxis": {
             "endlinecolor": "#2a3f5f",
             "gridcolor": "white",
             "linecolor": "white",
             "minorgridcolor": "white",
             "startlinecolor": "#2a3f5f"
            },
            "baxis": {
             "endlinecolor": "#2a3f5f",
             "gridcolor": "white",
             "linecolor": "white",
             "minorgridcolor": "white",
             "startlinecolor": "#2a3f5f"
            },
            "type": "carpet"
           }
          ],
          "choropleth": [
           {
            "colorbar": {
             "outlinewidth": 0,
             "ticks": ""
            },
            "type": "choropleth"
           }
          ],
          "contour": [
           {
            "colorbar": {
             "outlinewidth": 0,
             "ticks": ""
            },
            "colorscale": [
             [
              0,
              "#0d0887"
             ],
             [
              0.1111111111111111,
              "#46039f"
             ],
             [
              0.2222222222222222,
              "#7201a8"
             ],
             [
              0.3333333333333333,
              "#9c179e"
             ],
             [
              0.4444444444444444,
              "#bd3786"
             ],
             [
              0.5555555555555556,
              "#d8576b"
             ],
             [
              0.6666666666666666,
              "#ed7953"
             ],
             [
              0.7777777777777778,
              "#fb9f3a"
             ],
             [
              0.8888888888888888,
              "#fdca26"
             ],
             [
              1,
              "#f0f921"
             ]
            ],
            "type": "contour"
           }
          ],
          "contourcarpet": [
           {
            "colorbar": {
             "outlinewidth": 0,
             "ticks": ""
            },
            "type": "contourcarpet"
           }
          ],
          "heatmap": [
           {
            "colorbar": {
             "outlinewidth": 0,
             "ticks": ""
            },
            "colorscale": [
             [
              0,
              "#0d0887"
             ],
             [
              0.1111111111111111,
              "#46039f"
             ],
             [
              0.2222222222222222,
              "#7201a8"
             ],
             [
              0.3333333333333333,
              "#9c179e"
             ],
             [
              0.4444444444444444,
              "#bd3786"
             ],
             [
              0.5555555555555556,
              "#d8576b"
             ],
             [
              0.6666666666666666,
              "#ed7953"
             ],
             [
              0.7777777777777778,
              "#fb9f3a"
             ],
             [
              0.8888888888888888,
              "#fdca26"
             ],
             [
              1,
              "#f0f921"
             ]
            ],
            "type": "heatmap"
           }
          ],
          "heatmapgl": [
           {
            "colorbar": {
             "outlinewidth": 0,
             "ticks": ""
            },
            "colorscale": [
             [
              0,
              "#0d0887"
             ],
             [
              0.1111111111111111,
              "#46039f"
             ],
             [
              0.2222222222222222,
              "#7201a8"
             ],
             [
              0.3333333333333333,
              "#9c179e"
             ],
             [
              0.4444444444444444,
              "#bd3786"
             ],
             [
              0.5555555555555556,
              "#d8576b"
             ],
             [
              0.6666666666666666,
              "#ed7953"
             ],
             [
              0.7777777777777778,
              "#fb9f3a"
             ],
             [
              0.8888888888888888,
              "#fdca26"
             ],
             [
              1,
              "#f0f921"
             ]
            ],
            "type": "heatmapgl"
           }
          ],
          "histogram": [
           {
            "marker": {
             "pattern": {
              "fillmode": "overlay",
              "size": 10,
              "solidity": 0.2
             }
            },
            "type": "histogram"
           }
          ],
          "histogram2d": [
           {
            "colorbar": {
             "outlinewidth": 0,
             "ticks": ""
            },
            "colorscale": [
             [
              0,
              "#0d0887"
             ],
             [
              0.1111111111111111,
              "#46039f"
             ],
             [
              0.2222222222222222,
              "#7201a8"
             ],
             [
              0.3333333333333333,
              "#9c179e"
             ],
             [
              0.4444444444444444,
              "#bd3786"
             ],
             [
              0.5555555555555556,
              "#d8576b"
             ],
             [
              0.6666666666666666,
              "#ed7953"
             ],
             [
              0.7777777777777778,
              "#fb9f3a"
             ],
             [
              0.8888888888888888,
              "#fdca26"
             ],
             [
              1,
              "#f0f921"
             ]
            ],
            "type": "histogram2d"
           }
          ],
          "histogram2dcontour": [
           {
            "colorbar": {
             "outlinewidth": 0,
             "ticks": ""
            },
            "colorscale": [
             [
              0,
              "#0d0887"
             ],
             [
              0.1111111111111111,
              "#46039f"
             ],
             [
              0.2222222222222222,
              "#7201a8"
             ],
             [
              0.3333333333333333,
              "#9c179e"
             ],
             [
              0.4444444444444444,
              "#bd3786"
             ],
             [
              0.5555555555555556,
              "#d8576b"
             ],
             [
              0.6666666666666666,
              "#ed7953"
             ],
             [
              0.7777777777777778,
              "#fb9f3a"
             ],
             [
              0.8888888888888888,
              "#fdca26"
             ],
             [
              1,
              "#f0f921"
             ]
            ],
            "type": "histogram2dcontour"
           }
          ],
          "mesh3d": [
           {
            "colorbar": {
             "outlinewidth": 0,
             "ticks": ""
            },
            "type": "mesh3d"
           }
          ],
          "parcoords": [
           {
            "line": {
             "colorbar": {
              "outlinewidth": 0,
              "ticks": ""
             }
            },
            "type": "parcoords"
           }
          ],
          "pie": [
           {
            "automargin": true,
            "type": "pie"
           }
          ],
          "scatter": [
           {
            "fillpattern": {
             "fillmode": "overlay",
             "size": 10,
             "solidity": 0.2
            },
            "type": "scatter"
           }
          ],
          "scatter3d": [
           {
            "line": {
             "colorbar": {
              "outlinewidth": 0,
              "ticks": ""
             }
            },
            "marker": {
             "colorbar": {
              "outlinewidth": 0,
              "ticks": ""
             }
            },
            "type": "scatter3d"
           }
          ],
          "scattercarpet": [
           {
            "marker": {
             "colorbar": {
              "outlinewidth": 0,
              "ticks": ""
             }
            },
            "type": "scattercarpet"
           }
          ],
          "scattergeo": [
           {
            "marker": {
             "colorbar": {
              "outlinewidth": 0,
              "ticks": ""
             }
            },
            "type": "scattergeo"
           }
          ],
          "scattergl": [
           {
            "marker": {
             "colorbar": {
              "outlinewidth": 0,
              "ticks": ""
             }
            },
            "type": "scattergl"
           }
          ],
          "scattermapbox": [
           {
            "marker": {
             "colorbar": {
              "outlinewidth": 0,
              "ticks": ""
             }
            },
            "type": "scattermapbox"
           }
          ],
          "scatterpolar": [
           {
            "marker": {
             "colorbar": {
              "outlinewidth": 0,
              "ticks": ""
             }
            },
            "type": "scatterpolar"
           }
          ],
          "scatterpolargl": [
           {
            "marker": {
             "colorbar": {
              "outlinewidth": 0,
              "ticks": ""
             }
            },
            "type": "scatterpolargl"
           }
          ],
          "scatterternary": [
           {
            "marker": {
             "colorbar": {
              "outlinewidth": 0,
              "ticks": ""
             }
            },
            "type": "scatterternary"
           }
          ],
          "surface": [
           {
            "colorbar": {
             "outlinewidth": 0,
             "ticks": ""
            },
            "colorscale": [
             [
              0,
              "#0d0887"
             ],
             [
              0.1111111111111111,
              "#46039f"
             ],
             [
              0.2222222222222222,
              "#7201a8"
             ],
             [
              0.3333333333333333,
              "#9c179e"
             ],
             [
              0.4444444444444444,
              "#bd3786"
             ],
             [
              0.5555555555555556,
              "#d8576b"
             ],
             [
              0.6666666666666666,
              "#ed7953"
             ],
             [
              0.7777777777777778,
              "#fb9f3a"
             ],
             [
              0.8888888888888888,
              "#fdca26"
             ],
             [
              1,
              "#f0f921"
             ]
            ],
            "type": "surface"
           }
          ],
          "table": [
           {
            "cells": {
             "fill": {
              "color": "#EBF0F8"
             },
             "line": {
              "color": "white"
             }
            },
            "header": {
             "fill": {
              "color": "#C8D4E3"
             },
             "line": {
              "color": "white"
             }
            },
            "type": "table"
           }
          ]
         },
         "layout": {
          "annotationdefaults": {
           "arrowcolor": "#2a3f5f",
           "arrowhead": 0,
           "arrowwidth": 1
          },
          "autotypenumbers": "strict",
          "coloraxis": {
           "colorbar": {
            "outlinewidth": 0,
            "ticks": ""
           }
          },
          "colorscale": {
           "diverging": [
            [
             0,
             "#8e0152"
            ],
            [
             0.1,
             "#c51b7d"
            ],
            [
             0.2,
             "#de77ae"
            ],
            [
             0.3,
             "#f1b6da"
            ],
            [
             0.4,
             "#fde0ef"
            ],
            [
             0.5,
             "#f7f7f7"
            ],
            [
             0.6,
             "#e6f5d0"
            ],
            [
             0.7,
             "#b8e186"
            ],
            [
             0.8,
             "#7fbc41"
            ],
            [
             0.9,
             "#4d9221"
            ],
            [
             1,
             "#276419"
            ]
           ],
           "sequential": [
            [
             0,
             "#0d0887"
            ],
            [
             0.1111111111111111,
             "#46039f"
            ],
            [
             0.2222222222222222,
             "#7201a8"
            ],
            [
             0.3333333333333333,
             "#9c179e"
            ],
            [
             0.4444444444444444,
             "#bd3786"
            ],
            [
             0.5555555555555556,
             "#d8576b"
            ],
            [
             0.6666666666666666,
             "#ed7953"
            ],
            [
             0.7777777777777778,
             "#fb9f3a"
            ],
            [
             0.8888888888888888,
             "#fdca26"
            ],
            [
             1,
             "#f0f921"
            ]
           ],
           "sequentialminus": [
            [
             0,
             "#0d0887"
            ],
            [
             0.1111111111111111,
             "#46039f"
            ],
            [
             0.2222222222222222,
             "#7201a8"
            ],
            [
             0.3333333333333333,
             "#9c179e"
            ],
            [
             0.4444444444444444,
             "#bd3786"
            ],
            [
             0.5555555555555556,
             "#d8576b"
            ],
            [
             0.6666666666666666,
             "#ed7953"
            ],
            [
             0.7777777777777778,
             "#fb9f3a"
            ],
            [
             0.8888888888888888,
             "#fdca26"
            ],
            [
             1,
             "#f0f921"
            ]
           ]
          },
          "colorway": [
           "#636efa",
           "#EF553B",
           "#00cc96",
           "#ab63fa",
           "#FFA15A",
           "#19d3f3",
           "#FF6692",
           "#B6E880",
           "#FF97FF",
           "#FECB52"
          ],
          "font": {
           "color": "#2a3f5f"
          },
          "geo": {
           "bgcolor": "white",
           "lakecolor": "white",
           "landcolor": "#E5ECF6",
           "showlakes": true,
           "showland": true,
           "subunitcolor": "white"
          },
          "hoverlabel": {
           "align": "left"
          },
          "hovermode": "closest",
          "mapbox": {
           "style": "light"
          },
          "paper_bgcolor": "white",
          "plot_bgcolor": "#E5ECF6",
          "polar": {
           "angularaxis": {
            "gridcolor": "white",
            "linecolor": "white",
            "ticks": ""
           },
           "bgcolor": "#E5ECF6",
           "radialaxis": {
            "gridcolor": "white",
            "linecolor": "white",
            "ticks": ""
           }
          },
          "scene": {
           "xaxis": {
            "backgroundcolor": "#E5ECF6",
            "gridcolor": "white",
            "gridwidth": 2,
            "linecolor": "white",
            "showbackground": true,
            "ticks": "",
            "zerolinecolor": "white"
           },
           "yaxis": {
            "backgroundcolor": "#E5ECF6",
            "gridcolor": "white",
            "gridwidth": 2,
            "linecolor": "white",
            "showbackground": true,
            "ticks": "",
            "zerolinecolor": "white"
           },
           "zaxis": {
            "backgroundcolor": "#E5ECF6",
            "gridcolor": "white",
            "gridwidth": 2,
            "linecolor": "white",
            "showbackground": true,
            "ticks": "",
            "zerolinecolor": "white"
           }
          },
          "shapedefaults": {
           "line": {
            "color": "#2a3f5f"
           }
          },
          "ternary": {
           "aaxis": {
            "gridcolor": "white",
            "linecolor": "white",
            "ticks": ""
           },
           "baxis": {
            "gridcolor": "white",
            "linecolor": "white",
            "ticks": ""
           },
           "bgcolor": "#E5ECF6",
           "caxis": {
            "gridcolor": "white",
            "linecolor": "white",
            "ticks": ""
           }
          },
          "title": {
           "x": 0.05
          },
          "xaxis": {
           "automargin": true,
           "gridcolor": "white",
           "linecolor": "white",
           "ticks": "",
           "title": {
            "standoff": 15
           },
           "zerolinecolor": "white",
           "zerolinewidth": 2
          },
          "yaxis": {
           "automargin": true,
           "gridcolor": "white",
           "linecolor": "white",
           "ticks": "",
           "title": {
            "standoff": 15
           },
           "zerolinecolor": "white",
           "zerolinewidth": 2
          }
         }
        },
        "title": {
         "text": "Dispatch vs. Response Times Per Case"
        },
        "xaxis": {
         "anchor": "y",
         "domain": [
          0,
          1
         ],
         "title": {
          "text": "Dispatch Response Time"
         }
        },
        "yaxis": {
         "anchor": "x",
         "domain": [
          0,
          1
         ],
         "title": {
          "text": "Incident Response Time"
         }
        }
       }
      },
      "text/html": [
       "<div>                            <div id=\"aae48119-94e3-4380-b994-f8bccb399019\" class=\"plotly-graph-div\" style=\"height:525px; width:100%;\"></div>            <script type=\"text/javascript\">                require([\"plotly\"], function(Plotly) {                    window.PLOTLYENV=window.PLOTLYENV || {};                                    if (document.getElementById(\"aae48119-94e3-4380-b994-f8bccb399019\")) {                    Plotly.newPlot(                        \"aae48119-94e3-4380-b994-f8bccb399019\",                        [{\"hovertemplate\":\"Borough=Bronx<br>Dispatch Response Time=%{x}<br>Incident Response Time=%{y}<extra></extra>\",\"legendgroup\":\"Bronx\",\"marker\":{\"color\":\"#636efa\",\"symbol\":\"circle\"},\"mode\":\"markers\",\"name\":\"Bronx\",\"orientation\":\"v\",\"showlegend\":true,\"x\":[null,13.0,23.0,12.0,16.0,null,null,45.0,10538.0,19521.0,null,11.0,23.0,26954.0,24318.0,20154.0,8.0,null,null,14.0,null,null,null,139.0,36.0,null,47.0,156.0,6.0,52.0,60.0,null,19.0,23.0,11.0,77.0,null,10.0,null,24.0,6.0,203.0,11.0,47.0,15.0,101.0,20.0,25.0,85.0,55.0,23.0,null,5.0,null,78.0,25.0,20.0,34.0,13.0,5.0,null,null,19.0,11.0,null,74.0,26.0,null,59.0,207.0,34.0,null,8548.0,13.0,null,null,15.0,15.0,128.0,34.0,null,22.0,12.0,10.0,7.0,32.0,57.0,6.0,29.0,43.0,31.0,18.0,66.0,null,17.0,106.0,77.0,null,76.0,10.0,15.0,8.0,405.0,88.0,13.0,44.0,null,13.0,47.0,23.0,36.0,12.0,7.0,12.0,null,null,11.0,36.0,47.0,8.0,23.0,12.0,null,12.0,109.0,35.0,4.0,287.0,20.0,5.0,7.0,14.0,null,5.0,110.0,7.0,19.0,48.0,7.0,null,25.0,12.0,14.0,20.0,57.0,7.0,16.0,13.0,9.0,40.0,7.0,15.0,14.0,21.0,18.0,82.0,21.0,29182.0,75.0,29.0,150.0,5.0,20.0,null,null,null,19.0,17.0,null,null,76.0,35.0,32.0,null,23.0,null,41.0,19.0,9.0,18.0,15.0,14.0,89.0,18.0,76.0,42.0,32.0,20953.0,27.0,11.0,31.0,185.0,15.0,10010.0,37.0,32.0,25.0,125.0,125.0,52.0,9.0,120.0,25.0,9.0,29.0,52.0,24.0,26.0,81.0,14497.0,25.0,187.0,null,26.0,null,34.0,108.0,74.0,29.0,null,22.0,32.0,37.0,63.0,9.0,38.0,10.0,13.0,15.0,46.0,24.0,null,70.0,null,28.0,13.0,null,29.0,16.0,184.0],\"xaxis\":\"x\",\"y\":[null,881.0,439.0,652.0,238.0,null,null,393.0,12092.0,22104.0,null,397.0,280.0,32230.0,26962.0,21480.0,61.0,null,null,592.0,null,null,null,641.0,371.0,null,765.0,656.0,262.0,428.0,493.0,null,263.0,287.0,289.0,461.0,null,847.0,null,24.0,370.0,468.0,923.0,267.0,181.0,2294.0,489.0,541.0,480.0,321.0,689.0,null,132.0,null,239.0,25.0,511.0,332.0,595.0,171.0,null,null,308.0,11.0,null,811.0,261.0,null,380.0,679.0,325.0,null,8923.0,391.0,null,null,472.0,535.0,531.0,212.0,null,304.0,302.0,637.0,133.0,209.0,243.0,580.0,781.0,607.0,192.0,423.0,511.0,null,443.0,344.0,478.0,null,255.0,653.0,108.0,152.0,713.0,350.0,1130.0,613.0,null,73.0,402.0,270.0,642.0,270.0,207.0,42.0,null,null,500.0,224.0,488.0,375.0,347.0,492.0,null,479.0,459.0,374.0,668.0,896.0,496.0,39.0,326.0,542.0,null,875.0,1048.0,586.0,422.0,432.0,172.0,null,335.0,424.0,120.0,708.0,767.0,403.0,432.0,741.0,239.0,494.0,1511.0,246.0,502.0,804.0,542.0,337.0,455.0,30581.0,678.0,700.0,1287.0,422.0,677.0,null,null,null,730.0,149.0,null,null,561.0,128.0,180.0,null,785.0,null,60.0,282.0,1448.0,116.0,845.0,199.0,405.0,441.0,451.0,307.0,704.0,22707.0,1008.0,512.0,671.0,562.0,124.0,10585.0,617.0,1038.0,1379.0,608.0,1009.0,380.0,300.0,566.0,529.0,713.0,1119.0,1267.0,348.0,582.0,337.0,14497.0,89.0,1505.0,null,203.0,null,349.0,337.0,451.0,328.0,null,767.0,924.0,381.0,463.0,554.0,104.0,511.0,123.0,388.0,862.0,701.0,null,298.0,null,322.0,873.0,null,771.0,3169.0,497.0],\"yaxis\":\"y\",\"type\":\"scatter\"},{\"hovertemplate\":\"Borough=Manhattan<br>Dispatch Response Time=%{x}<br>Incident Response Time=%{y}<extra></extra>\",\"legendgroup\":\"Manhattan\",\"marker\":{\"color\":\"#EF553B\",\"symbol\":\"circle\"},\"mode\":\"markers\",\"name\":\"Manhattan\",\"orientation\":\"v\",\"showlegend\":true,\"x\":[56.0,3325.0,null,96.0,25.0,11.0,19.0,22.0,25.0,108.0,null,32022.0,30.0,null,38.0,11.0,9.0,9873.0,143.0,25.0,null,24.0,231.0,null,30.0,null,9.0,23.0,17.0,21.0,null,11.0,6.0,22.0,7.0,8.0,23.0,31.0,null,38.0,64.0,23.0,34.0,18327.0,10.0,21.0,null,26.0,6.0,null,null,null,16082.0,null,null,91.0,null,null,null,193.0,30341.0,86.0,35.0,null,24052.0,null,16254.0,21782.0,35.0,5830.0,18.0,10.0,11.0,null,11.0,null,19.0,139.0,52.0,null,null,23.0,21.0,20.0,21104.0,5094.0,29.0,43.0,null,28.0,32.0,19812.0,36.0,null,37.0,32.0,34.0,20086.0,24907.0,22.0,50.0,20.0,44.0,45.0,23.0,7.0,34.0,23.0,null,15.0,544.0,24179.0,47.0,404.0,6.0,24760.0,23.0,52.0,8.0,6.0,34.0,17.0,38.0,20.0,39.0,21271.0,19583.0,20.0,39.0,18252.0,23.0,37.0,null,22.0,59.0,18152.0,25197.0,16591.0,24.0,null,22055.0,null,null,41.0,22456.0,13.0,16.0,11.0,11783.0,15357.0,19.0,18.0,22856.0,null,22896.0,null,null,null,46.0,null,null,46.0,21934.0,10.0,20523.0,20045.0,25113.0,15.0,12.0,null,21.0,null,26087.0,null,null,149.0,null,51.0,229.0,15.0,21485.0,17636.0,null,22453.0,25724.0,19.0,15.0,15.0,54.0,63.0,49.0,null,34.0,32.0,null,89.0,26.0,22069.0,null,6044.0,19712.0,12430.0,22021.0,19785.0,19860.0,19368.0,20553.0,null,23207.0,22661.0,20.0,141.0,19.0,21999.0,19536.0,33.0,28.0,49.0,17.0,38.0,2775.0,12.0,65.0,10.0,28.0,null,null,22548.0,18908.0,24.0,null,null,20944.0,64.0,18393.0,null,21.0,9.0,25.0,24.0,68.0,25991.0,null,22.0,null,null,27640.0,20984.0,18.0,36.0,22790.0,21998.0,null,27.0,12.0,32.0,22198.0,7.0,19.0,null,16.0,11.0,11.0,98.0,9.0,null,25.0,26.0,20723.0,10.0,null,23116.0,19.0,17.0,27166.0,30.0,null,19109.0,110.0,31.0,21.0,39.0,83.0,19734.0,57.0,34.0,26.0,32.0,45.0,null,13.0,null,null,null,null,46.0,null,null,null,null,25.0,20.0,null,null,null,null,null,null,42.0,null,null,null,19940.0,117.0,null,8655.0,23.0,null,83.0,73.0,22401.0,51.0,null,154.0,58.0,25517.0,45.0,26.0,27965.0,43.0,19517.0,19.0,null,18871.0,null,24449.0,23670.0,29.0,null,null,17444.0,76.0,null,29282.0,14.0,20405.0,71.0,21.0,8.0,null,22460.0,22424.0,5254.0,8.0,null,16.0,10.0,59.0,18571.0,9.0,8.0,427.0,7.0,11.0,47.0,null,20.0,7.0,null,null,22244.0,null,13944.0,16758.0,61.0,null,28.0,null,null,13.0,195.0,15.0,18785.0,28491.0,33.0,11.0,26.0,79.0,38.0,15270.0,null,24.0,39.0,56.0,64.0,22006.0,27.0,20041.0,null,null,18.0,27486.0,23816.0,null,20462.0,17441.0,19531.0,10.0,21134.0,22.0,18.0,26.0,14.0,63.0,21603.0,null,null,22603.0,null,13.0,21396.0,2.0,6.0,null,null,27.0,16.0,24792.0,null,22593.0,30716.0,22964.0,30.0,null,null,55.0,null,29.0,30.0,23425.0,null,null,17074.0,null,29.0,22368.0,90.0,19993.0,25.0,28.0,null],\"xaxis\":\"x\",\"y\":[56.0,4247.0,null,606.0,541.0,1824.0,168.0,2831.0,389.0,309.0,null,32022.0,1551.0,null,586.0,1019.0,441.0,10912.0,564.0,1509.0,null,971.0,674.0,null,49.0,null,259.0,97.0,1118.0,21.0,null,3781.0,816.0,200.0,1012.0,115.0,531.0,2012.0,null,469.0,353.0,62.0,1734.0,18327.0,1796.0,926.0,null,950.0,927.0,null,null,null,17099.0,null,null,548.0,null,null,null,1271.0,32373.0,567.0,239.0,null,24052.0,null,17844.0,22285.0,137.0,7552.0,466.0,924.0,934.0,null,804.0,null,455.0,297.0,1827.0,null,null,189.0,2397.0,100.0,22105.0,6378.0,107.0,427.0,null,369.0,4026.0,21499.0,5677.0,null,2441.0,728.0,606.0,21328.0,27573.0,1631.0,4224.0,89.0,728.0,579.0,23.0,1596.0,343.0,23.0,null,623.0,1691.0,26322.0,332.0,2577.0,284.0,24779.0,1233.0,2283.0,461.0,4688.0,674.0,203.0,618.0,315.0,103.0,22565.0,20010.0,471.0,1239.0,19978.0,305.0,136.0,null,1105.0,3112.0,18165.0,25197.0,18690.0,592.0,null,22982.0,null,null,2241.0,22456.0,369.0,290.0,1293.0,12514.0,15811.0,413.0,1097.0,23862.0,null,22907.0,null,null,null,413.0,null,null,781.0,22845.0,320.0,20523.0,22945.0,25393.0,1920.0,1678.0,null,115.0,null,26087.0,null,null,281.0,null,313.0,569.0,442.0,23148.0,18599.0,null,22453.0,29062.0,2475.0,1910.0,1297.0,521.0,355.0,153.0,null,879.0,2355.0,null,517.0,509.0,23424.0,null,8752.0,23795.0,14404.0,22479.0,21013.0,21313.0,21542.0,22369.0,null,23445.0,23072.0,441.0,550.0,404.0,22203.0,19817.0,240.0,408.0,569.0,1026.0,5327.0,3266.0,413.0,303.0,353.0,800.0,null,null,24262.0,20119.0,732.0,null,null,22661.0,1055.0,20513.0,null,115.0,383.0,982.0,1329.0,936.0,26954.0,null,1281.0,null,null,28487.0,21943.0,1795.0,403.0,23831.0,23147.0,null,401.0,298.0,383.0,22612.0,172.0,1021.0,null,520.0,1977.0,26.0,1039.0,980.0,null,447.0,972.0,24636.0,1030.0,null,23768.0,229.0,109.0,27551.0,254.0,null,22223.0,686.0,592.0,1071.0,459.0,296.0,21542.0,1013.0,468.0,3610.0,32.0,1068.0,null,520.0,null,null,null,null,2555.0,null,null,null,null,2239.0,1018.0,null,null,null,null,null,null,447.0,null,null,null,21305.0,600.0,null,9696.0,269.0,null,251.0,365.0,22943.0,3136.0,null,1056.0,280.0,27891.0,970.0,589.0,28895.0,381.0,23257.0,442.0,null,19991.0,null,26204.0,23983.0,740.0,null,null,17920.0,501.0,null,29282.0,486.0,20910.0,857.0,388.0,570.0,null,22734.0,22449.0,5823.0,329.0,null,475.0,1283.0,734.0,19268.0,366.0,1074.0,2405.0,503.0,574.0,613.0,null,375.0,321.0,null,null,23276.0,null,13944.0,17665.0,533.0,null,478.0,null,null,1291.0,1051.0,544.0,18971.0,28491.0,634.0,485.0,195.0,118.0,41.0,16269.0,null,979.0,417.0,760.0,296.0,22251.0,1580.0,21926.0,null,null,1063.0,28214.0,24739.0,null,21777.0,18454.0,20225.0,609.0,22366.0,286.0,409.0,605.0,843.0,1943.0,22612.0,null,null,23954.0,null,241.0,22255.0,2.0,1803.0,null,null,487.0,598.0,25272.0,null,22823.0,31453.0,23880.0,52.0,null,null,572.0,null,149.0,1602.0,24682.0,null,null,17435.0,null,1123.0,22368.0,659.0,20613.0,1460.0,845.0,null],\"yaxis\":\"y\",\"type\":\"scatter\"},{\"hovertemplate\":\"Borough=Staten Island<br>Dispatch Response Time=%{x}<br>Incident Response Time=%{y}<extra></extra>\",\"legendgroup\":\"Staten Island\",\"marker\":{\"color\":\"#00cc96\",\"symbol\":\"circle\"},\"mode\":\"markers\",\"name\":\"Staten Island\",\"orientation\":\"v\",\"showlegend\":true,\"x\":[35.0,null,null,29876.0,48.0,6.0,null,9260.0,null,74.0,null,47.0,10.0,null,null,null,22.0,44.0,17.0,20.0,null,null,null,4726.0,27.0,null,13115.0,null,null,21642.0,11566.0,19298.0,2157.0,37.0,null,56.0,9.0,16968.0,3998.0,9882.0,null,7732.0,13.0,17765.0,4206.0,12.0,17514.0,15.0,87.0,null,39.0,29.0,null,35.0,1628.0,20.0,null,null,null,66.0,170.0,null,28155.0,21.0,null,9.0,15226.0,7.0,62.0,16.0,17.0,10.0,12.0,14.0,125.0,null,20.0,31.0,null,11.0,11.0,5904.0,79.0,10.0,27.0,10.0,17.0,24949.0,23842.0,23859.0,26.0,16.0,null,15.0,null,22781.0,2972.0,21.0],\"xaxis\":\"x\",\"y\":[2527.0,null,null,31047.0,1128.0,1807.0,null,9934.0,null,430.0,null,1344.0,1463.0,null,null,null,52.0,1075.0,258.0,535.0,null,null,null,4726.0,1589.0,null,16710.0,null,null,23765.0,11844.0,20730.0,2962.0,199.0,null,926.0,437.0,17227.0,4476.0,10321.0,null,8065.0,289.0,19539.0,4699.0,163.0,18581.0,2024.0,626.0,null,3834.0,662.0,null,1619.0,2344.0,1131.0,null,null,null,4112.0,170.0,null,28852.0,901.0,null,2268.0,17141.0,321.0,285.0,391.0,673.0,1481.0,467.0,607.0,610.0,null,372.0,1237.0,null,392.0,448.0,5904.0,684.0,706.0,241.0,373.0,1475.0,26255.0,26120.0,24760.0,934.0,187.0,null,405.0,null,26133.0,8371.0,1006.0],\"yaxis\":\"y\",\"type\":\"scatter\"}],                        {\"template\":{\"data\":{\"histogram2dcontour\":[{\"type\":\"histogram2dcontour\",\"colorbar\":{\"outlinewidth\":0,\"ticks\":\"\"},\"colorscale\":[[0.0,\"#0d0887\"],[0.1111111111111111,\"#46039f\"],[0.2222222222222222,\"#7201a8\"],[0.3333333333333333,\"#9c179e\"],[0.4444444444444444,\"#bd3786\"],[0.5555555555555556,\"#d8576b\"],[0.6666666666666666,\"#ed7953\"],[0.7777777777777778,\"#fb9f3a\"],[0.8888888888888888,\"#fdca26\"],[1.0,\"#f0f921\"]]}],\"choropleth\":[{\"type\":\"choropleth\",\"colorbar\":{\"outlinewidth\":0,\"ticks\":\"\"}}],\"histogram2d\":[{\"type\":\"histogram2d\",\"colorbar\":{\"outlinewidth\":0,\"ticks\":\"\"},\"colorscale\":[[0.0,\"#0d0887\"],[0.1111111111111111,\"#46039f\"],[0.2222222222222222,\"#7201a8\"],[0.3333333333333333,\"#9c179e\"],[0.4444444444444444,\"#bd3786\"],[0.5555555555555556,\"#d8576b\"],[0.6666666666666666,\"#ed7953\"],[0.7777777777777778,\"#fb9f3a\"],[0.8888888888888888,\"#fdca26\"],[1.0,\"#f0f921\"]]}],\"heatmap\":[{\"type\":\"heatmap\",\"colorbar\":{\"outlinewidth\":0,\"ticks\":\"\"},\"colorscale\":[[0.0,\"#0d0887\"],[0.1111111111111111,\"#46039f\"],[0.2222222222222222,\"#7201a8\"],[0.3333333333333333,\"#9c179e\"],[0.4444444444444444,\"#bd3786\"],[0.5555555555555556,\"#d8576b\"],[0.6666666666666666,\"#ed7953\"],[0.7777777777777778,\"#fb9f3a\"],[0.8888888888888888,\"#fdca26\"],[1.0,\"#f0f921\"]]}],\"heatmapgl\":[{\"type\":\"heatmapgl\",\"colorbar\":{\"outlinewidth\":0,\"ticks\":\"\"},\"colorscale\":[[0.0,\"#0d0887\"],[0.1111111111111111,\"#46039f\"],[0.2222222222222222,\"#7201a8\"],[0.3333333333333333,\"#9c179e\"],[0.4444444444444444,\"#bd3786\"],[0.5555555555555556,\"#d8576b\"],[0.6666666666666666,\"#ed7953\"],[0.7777777777777778,\"#fb9f3a\"],[0.8888888888888888,\"#fdca26\"],[1.0,\"#f0f921\"]]}],\"contourcarpet\":[{\"type\":\"contourcarpet\",\"colorbar\":{\"outlinewidth\":0,\"ticks\":\"\"}}],\"contour\":[{\"type\":\"contour\",\"colorbar\":{\"outlinewidth\":0,\"ticks\":\"\"},\"colorscale\":[[0.0,\"#0d0887\"],[0.1111111111111111,\"#46039f\"],[0.2222222222222222,\"#7201a8\"],[0.3333333333333333,\"#9c179e\"],[0.4444444444444444,\"#bd3786\"],[0.5555555555555556,\"#d8576b\"],[0.6666666666666666,\"#ed7953\"],[0.7777777777777778,\"#fb9f3a\"],[0.8888888888888888,\"#fdca26\"],[1.0,\"#f0f921\"]]}],\"surface\":[{\"type\":\"surface\",\"colorbar\":{\"outlinewidth\":0,\"ticks\":\"\"},\"colorscale\":[[0.0,\"#0d0887\"],[0.1111111111111111,\"#46039f\"],[0.2222222222222222,\"#7201a8\"],[0.3333333333333333,\"#9c179e\"],[0.4444444444444444,\"#bd3786\"],[0.5555555555555556,\"#d8576b\"],[0.6666666666666666,\"#ed7953\"],[0.7777777777777778,\"#fb9f3a\"],[0.8888888888888888,\"#fdca26\"],[1.0,\"#f0f921\"]]}],\"mesh3d\":[{\"type\":\"mesh3d\",\"colorbar\":{\"outlinewidth\":0,\"ticks\":\"\"}}],\"scatter\":[{\"fillpattern\":{\"fillmode\":\"overlay\",\"size\":10,\"solidity\":0.2},\"type\":\"scatter\"}],\"parcoords\":[{\"type\":\"parcoords\",\"line\":{\"colorbar\":{\"outlinewidth\":0,\"ticks\":\"\"}}}],\"scatterpolargl\":[{\"type\":\"scatterpolargl\",\"marker\":{\"colorbar\":{\"outlinewidth\":0,\"ticks\":\"\"}}}],\"bar\":[{\"error_x\":{\"color\":\"#2a3f5f\"},\"error_y\":{\"color\":\"#2a3f5f\"},\"marker\":{\"line\":{\"color\":\"#E5ECF6\",\"width\":0.5},\"pattern\":{\"fillmode\":\"overlay\",\"size\":10,\"solidity\":0.2}},\"type\":\"bar\"}],\"scattergeo\":[{\"type\":\"scattergeo\",\"marker\":{\"colorbar\":{\"outlinewidth\":0,\"ticks\":\"\"}}}],\"scatterpolar\":[{\"type\":\"scatterpolar\",\"marker\":{\"colorbar\":{\"outlinewidth\":0,\"ticks\":\"\"}}}],\"histogram\":[{\"marker\":{\"pattern\":{\"fillmode\":\"overlay\",\"size\":10,\"solidity\":0.2}},\"type\":\"histogram\"}],\"scattergl\":[{\"type\":\"scattergl\",\"marker\":{\"colorbar\":{\"outlinewidth\":0,\"ticks\":\"\"}}}],\"scatter3d\":[{\"type\":\"scatter3d\",\"line\":{\"colorbar\":{\"outlinewidth\":0,\"ticks\":\"\"}},\"marker\":{\"colorbar\":{\"outlinewidth\":0,\"ticks\":\"\"}}}],\"scattermapbox\":[{\"type\":\"scattermapbox\",\"marker\":{\"colorbar\":{\"outlinewidth\":0,\"ticks\":\"\"}}}],\"scatterternary\":[{\"type\":\"scatterternary\",\"marker\":{\"colorbar\":{\"outlinewidth\":0,\"ticks\":\"\"}}}],\"scattercarpet\":[{\"type\":\"scattercarpet\",\"marker\":{\"colorbar\":{\"outlinewidth\":0,\"ticks\":\"\"}}}],\"carpet\":[{\"aaxis\":{\"endlinecolor\":\"#2a3f5f\",\"gridcolor\":\"white\",\"linecolor\":\"white\",\"minorgridcolor\":\"white\",\"startlinecolor\":\"#2a3f5f\"},\"baxis\":{\"endlinecolor\":\"#2a3f5f\",\"gridcolor\":\"white\",\"linecolor\":\"white\",\"minorgridcolor\":\"white\",\"startlinecolor\":\"#2a3f5f\"},\"type\":\"carpet\"}],\"table\":[{\"cells\":{\"fill\":{\"color\":\"#EBF0F8\"},\"line\":{\"color\":\"white\"}},\"header\":{\"fill\":{\"color\":\"#C8D4E3\"},\"line\":{\"color\":\"white\"}},\"type\":\"table\"}],\"barpolar\":[{\"marker\":{\"line\":{\"color\":\"#E5ECF6\",\"width\":0.5},\"pattern\":{\"fillmode\":\"overlay\",\"size\":10,\"solidity\":0.2}},\"type\":\"barpolar\"}],\"pie\":[{\"automargin\":true,\"type\":\"pie\"}]},\"layout\":{\"autotypenumbers\":\"strict\",\"colorway\":[\"#636efa\",\"#EF553B\",\"#00cc96\",\"#ab63fa\",\"#FFA15A\",\"#19d3f3\",\"#FF6692\",\"#B6E880\",\"#FF97FF\",\"#FECB52\"],\"font\":{\"color\":\"#2a3f5f\"},\"hovermode\":\"closest\",\"hoverlabel\":{\"align\":\"left\"},\"paper_bgcolor\":\"white\",\"plot_bgcolor\":\"#E5ECF6\",\"polar\":{\"bgcolor\":\"#E5ECF6\",\"angularaxis\":{\"gridcolor\":\"white\",\"linecolor\":\"white\",\"ticks\":\"\"},\"radialaxis\":{\"gridcolor\":\"white\",\"linecolor\":\"white\",\"ticks\":\"\"}},\"ternary\":{\"bgcolor\":\"#E5ECF6\",\"aaxis\":{\"gridcolor\":\"white\",\"linecolor\":\"white\",\"ticks\":\"\"},\"baxis\":{\"gridcolor\":\"white\",\"linecolor\":\"white\",\"ticks\":\"\"},\"caxis\":{\"gridcolor\":\"white\",\"linecolor\":\"white\",\"ticks\":\"\"}},\"coloraxis\":{\"colorbar\":{\"outlinewidth\":0,\"ticks\":\"\"}},\"colorscale\":{\"sequential\":[[0.0,\"#0d0887\"],[0.1111111111111111,\"#46039f\"],[0.2222222222222222,\"#7201a8\"],[0.3333333333333333,\"#9c179e\"],[0.4444444444444444,\"#bd3786\"],[0.5555555555555556,\"#d8576b\"],[0.6666666666666666,\"#ed7953\"],[0.7777777777777778,\"#fb9f3a\"],[0.8888888888888888,\"#fdca26\"],[1.0,\"#f0f921\"]],\"sequentialminus\":[[0.0,\"#0d0887\"],[0.1111111111111111,\"#46039f\"],[0.2222222222222222,\"#7201a8\"],[0.3333333333333333,\"#9c179e\"],[0.4444444444444444,\"#bd3786\"],[0.5555555555555556,\"#d8576b\"],[0.6666666666666666,\"#ed7953\"],[0.7777777777777778,\"#fb9f3a\"],[0.8888888888888888,\"#fdca26\"],[1.0,\"#f0f921\"]],\"diverging\":[[0,\"#8e0152\"],[0.1,\"#c51b7d\"],[0.2,\"#de77ae\"],[0.3,\"#f1b6da\"],[0.4,\"#fde0ef\"],[0.5,\"#f7f7f7\"],[0.6,\"#e6f5d0\"],[0.7,\"#b8e186\"],[0.8,\"#7fbc41\"],[0.9,\"#4d9221\"],[1,\"#276419\"]]},\"xaxis\":{\"gridcolor\":\"white\",\"linecolor\":\"white\",\"ticks\":\"\",\"title\":{\"standoff\":15},\"zerolinecolor\":\"white\",\"automargin\":true,\"zerolinewidth\":2},\"yaxis\":{\"gridcolor\":\"white\",\"linecolor\":\"white\",\"ticks\":\"\",\"title\":{\"standoff\":15},\"zerolinecolor\":\"white\",\"automargin\":true,\"zerolinewidth\":2},\"scene\":{\"xaxis\":{\"backgroundcolor\":\"#E5ECF6\",\"gridcolor\":\"white\",\"linecolor\":\"white\",\"showbackground\":true,\"ticks\":\"\",\"zerolinecolor\":\"white\",\"gridwidth\":2},\"yaxis\":{\"backgroundcolor\":\"#E5ECF6\",\"gridcolor\":\"white\",\"linecolor\":\"white\",\"showbackground\":true,\"ticks\":\"\",\"zerolinecolor\":\"white\",\"gridwidth\":2},\"zaxis\":{\"backgroundcolor\":\"#E5ECF6\",\"gridcolor\":\"white\",\"linecolor\":\"white\",\"showbackground\":true,\"ticks\":\"\",\"zerolinecolor\":\"white\",\"gridwidth\":2}},\"shapedefaults\":{\"line\":{\"color\":\"#2a3f5f\"}},\"annotationdefaults\":{\"arrowcolor\":\"#2a3f5f\",\"arrowhead\":0,\"arrowwidth\":1},\"geo\":{\"bgcolor\":\"white\",\"landcolor\":\"#E5ECF6\",\"subunitcolor\":\"white\",\"showland\":true,\"showlakes\":true,\"lakecolor\":\"white\"},\"title\":{\"x\":0.05},\"mapbox\":{\"style\":\"light\"}}},\"xaxis\":{\"anchor\":\"y\",\"domain\":[0.0,1.0],\"title\":{\"text\":\"Dispatch Response Time\"}},\"yaxis\":{\"anchor\":\"x\",\"domain\":[0.0,1.0],\"title\":{\"text\":\"Incident Response Time\"}},\"legend\":{\"title\":{\"text\":\"Borough\"},\"tracegroupgap\":0},\"title\":{\"text\":\"Dispatch vs. Response Times Per Case\"}},                        {\"responsive\": true}                    ).then(function(){\n",
       "                            \n",
       "var gd = document.getElementById('aae48119-94e3-4380-b994-f8bccb399019');\n",
       "var x = new MutationObserver(function (mutations, observer) {{\n",
       "        var display = window.getComputedStyle(gd).display;\n",
       "        if (!display || display === 'none') {{\n",
       "            console.log([gd, 'removed!']);\n",
       "            Plotly.purge(gd);\n",
       "            observer.disconnect();\n",
       "        }}\n",
       "}});\n",
       "\n",
       "// Listen for the removal of the full notebook cells\n",
       "var notebookContainer = gd.closest('#notebook-container');\n",
       "if (notebookContainer) {{\n",
       "    x.observe(notebookContainer, {childList: true});\n",
       "}}\n",
       "\n",
       "// Listen for the clearing of the current output cell\n",
       "var outputEl = gd.closest('.output');\n",
       "if (outputEl) {{\n",
       "    x.observe(outputEl, {childList: true});\n",
       "}}\n",
       "\n",
       "                        })                };                });            </script>        </div>"
      ]
     },
     "metadata": {},
     "output_type": "display_data"
    }
   ],
   "source": [
    "def visual2():\n",
    "    data = pd.read_csv(\"2021_ems_data.csv\")\n",
    "    bronx = data[data[\"Borough\"]==\"Bronx\"]\n",
    "#     brooklyn = data[data[\"Borough\"] ==\"Brooklyn\"]\n",
    "    manhattan = data[data[\"Borough\"] ==\"Manhattan\"]\n",
    "#     queens = data[data[\"Borough\"]==\"Queens\"]\n",
    "    staten_island = data[data[\"Borough\"] == \"Staten Island\"]\n",
    "    \n",
    "    combined = pd.concat([bronx, manhattan, staten_island], ignore_index = True)\n",
    "    fig = px.scatter(combined, x = 'Dispatch Response Time', y = 'Incident Response Time', color = 'Borough', title = \"Dispatch vs. Response Times Per Case\")\n",
    "    fig.show()\n",
    "\n",
    "\n",
    "############ Function Call ############\n",
    "visual2()"
   ]
  },
  {
   "cell_type": "code",
   "execution_count": 107,
   "metadata": {
    "id": "hbq6zDSuxg3b"
   },
   "outputs": [],
   "source": [
    "### Visualization 2 Explanation\n",
    "\n",
    "# This visualization substantiates the regression in insight 3. As we can tell, dispatch response time and incident\n",
    "# response time have a strong, positive linear correlation. Response times by boroughs are concentrated along this linear \n",
    "# scatter plot, with Staten Island being most clustered at the bottom, Manhattan being spread throughout, and the Bronx \n",
    "# ahving the most sporadic spread. "
   ]
  },
  {
   "cell_type": "code",
   "execution_count": 108,
   "metadata": {
    "id": "mOyKClx1xXOt"
   },
   "outputs": [
    {
     "data": {
      "application/vnd.plotly.v1+json": {
       "config": {
        "plotlyServerURL": "https://plot.ly"
       },
       "data": [
        {
         "alignmentgroup": "True",
         "hovertemplate": "Borough=%{x}<br>Incident Response Time (seconds)=%{y}<extra></extra>",
         "legendgroup": "Bronx",
         "marker": {
          "color": "#636efa"
         },
         "name": "Bronx",
         "notched": false,
         "offsetgroup": "Bronx",
         "orientation": "v",
         "showlegend": true,
         "type": "box",
         "x": [
          "Bronx",
          "Bronx",
          "Bronx",
          "Bronx",
          "Bronx",
          "Bronx",
          "Bronx",
          "Bronx",
          "Bronx",
          "Bronx",
          "Bronx",
          "Bronx"
         ],
         "x0": " ",
         "xaxis": "x",
         "y": [
          565.0215310708595,
          601.845925657065,
          578.259098577189,
          573.1923470264585,
          588.6609824451515,
          607.783205773525,
          605.654994215368,
          661.0382581466611,
          642.89907008056,
          597.2441333031275,
          605.2125163054391,
          662.784251348997
         ],
         "y0": " ",
         "yaxis": "y"
        },
        {
         "alignmentgroup": "True",
         "hovertemplate": "Borough=%{x}<br>Incident Response Time (seconds)=%{y}<extra></extra>",
         "legendgroup": "Brooklyn",
         "marker": {
          "color": "#EF553B"
         },
         "name": "Brooklyn",
         "notched": false,
         "offsetgroup": "Brooklyn",
         "orientation": "v",
         "showlegend": true,
         "type": "box",
         "x": [
          "Brooklyn",
          "Brooklyn",
          "Brooklyn",
          "Brooklyn",
          "Brooklyn",
          "Brooklyn",
          "Brooklyn",
          "Brooklyn",
          "Brooklyn",
          "Brooklyn",
          "Brooklyn",
          "Brooklyn"
         ],
         "x0": " ",
         "xaxis": "x",
         "y": [
          534.3804527684256,
          563.8736523399409,
          536.9810451356316,
          537.6803598651505,
          557.5867974890715,
          566.1526034950571,
          568.3805353480185,
          612.0765405801645,
          595.0541436388655,
          581.2882240177839,
          572.248900832611,
          629.0283002015185
         ],
         "y0": " ",
         "yaxis": "y"
        },
        {
         "alignmentgroup": "True",
         "hovertemplate": "Borough=%{x}<br>Incident Response Time (seconds)=%{y}<extra></extra>",
         "legendgroup": "Manhattan",
         "marker": {
          "color": "#00cc96"
         },
         "name": "Manhattan",
         "notched": false,
         "offsetgroup": "Manhattan",
         "orientation": "v",
         "showlegend": true,
         "type": "box",
         "x": [
          "Manhattan",
          "Manhattan",
          "Manhattan",
          "Manhattan",
          "Manhattan",
          "Manhattan",
          "Manhattan",
          "Manhattan",
          "Manhattan",
          "Manhattan",
          "Manhattan",
          "Manhattan"
         ],
         "x0": " ",
         "xaxis": "x",
         "y": [
          548.760145143089,
          564.1274185959255,
          543.6182964096965,
          551.129183062523,
          554.083040102113,
          577.0137853057761,
          562.532337996794,
          595.4109494162485,
          597.011097760845,
          575.2918183322624,
          575.4818342499054,
          591.6320877993851
         ],
         "y0": " ",
         "yaxis": "y"
        },
        {
         "alignmentgroup": "True",
         "hovertemplate": "Borough=%{x}<br>Incident Response Time (seconds)=%{y}<extra></extra>",
         "legendgroup": "Queens",
         "marker": {
          "color": "#ab63fa"
         },
         "name": "Queens",
         "notched": false,
         "offsetgroup": "Queens",
         "orientation": "v",
         "showlegend": true,
         "type": "box",
         "x": [
          "Queens",
          "Queens",
          "Queens",
          "Queens",
          "Queens",
          "Queens",
          "Queens",
          "Queens",
          "Queens",
          "Queens",
          "Queens",
          "Queens"
         ],
         "x0": " ",
         "xaxis": "x",
         "y": [
          559.172598535965,
          601.1997671972285,
          575.567826336582,
          568.1785266910535,
          576.2300243465791,
          584.934304990193,
          581.354605655123,
          618.5000431618425,
          640.371018418925,
          595.7750498038711,
          599.759129069186,
          626.5682501763205
         ],
         "y0": " ",
         "yaxis": "y"
        },
        {
         "alignmentgroup": "True",
         "hovertemplate": "Borough=%{x}<br>Incident Response Time (seconds)=%{y}<extra></extra>",
         "legendgroup": "Staten Island",
         "marker": {
          "color": "#FFA15A"
         },
         "name": "Staten Island",
         "notched": false,
         "offsetgroup": "Staten Island",
         "orientation": "v",
         "showlegend": true,
         "type": "box",
         "x": [
          "Staten Island",
          "Staten Island",
          "Staten Island",
          "Staten Island",
          "Staten Island",
          "Staten Island",
          "Staten Island",
          "Staten Island",
          "Staten Island",
          "Staten Island",
          "Staten Island",
          "Staten Island"
         ],
         "x0": " ",
         "xaxis": "x",
         "y": [
          547.2069989003675,
          568.09553389542,
          566.4452520891025,
          560.428035851294,
          557.6638953351645,
          568.2423818683064,
          556.4063332984435,
          613.6929843417095,
          611.3584006215406,
          575.9924464414939,
          583.0843973087444,
          617.715414047749
         ],
         "y0": " ",
         "yaxis": "y"
        }
       ],
       "layout": {
        "boxmode": "overlay",
        "legend": {
         "title": {
          "text": "Borough"
         },
         "tracegroupgap": 0
        },
        "margin": {
         "t": 60
        },
        "template": {
         "data": {
          "bar": [
           {
            "error_x": {
             "color": "#2a3f5f"
            },
            "error_y": {
             "color": "#2a3f5f"
            },
            "marker": {
             "line": {
              "color": "#E5ECF6",
              "width": 0.5
             },
             "pattern": {
              "fillmode": "overlay",
              "size": 10,
              "solidity": 0.2
             }
            },
            "type": "bar"
           }
          ],
          "barpolar": [
           {
            "marker": {
             "line": {
              "color": "#E5ECF6",
              "width": 0.5
             },
             "pattern": {
              "fillmode": "overlay",
              "size": 10,
              "solidity": 0.2
             }
            },
            "type": "barpolar"
           }
          ],
          "carpet": [
           {
            "aaxis": {
             "endlinecolor": "#2a3f5f",
             "gridcolor": "white",
             "linecolor": "white",
             "minorgridcolor": "white",
             "startlinecolor": "#2a3f5f"
            },
            "baxis": {
             "endlinecolor": "#2a3f5f",
             "gridcolor": "white",
             "linecolor": "white",
             "minorgridcolor": "white",
             "startlinecolor": "#2a3f5f"
            },
            "type": "carpet"
           }
          ],
          "choropleth": [
           {
            "colorbar": {
             "outlinewidth": 0,
             "ticks": ""
            },
            "type": "choropleth"
           }
          ],
          "contour": [
           {
            "colorbar": {
             "outlinewidth": 0,
             "ticks": ""
            },
            "colorscale": [
             [
              0,
              "#0d0887"
             ],
             [
              0.1111111111111111,
              "#46039f"
             ],
             [
              0.2222222222222222,
              "#7201a8"
             ],
             [
              0.3333333333333333,
              "#9c179e"
             ],
             [
              0.4444444444444444,
              "#bd3786"
             ],
             [
              0.5555555555555556,
              "#d8576b"
             ],
             [
              0.6666666666666666,
              "#ed7953"
             ],
             [
              0.7777777777777778,
              "#fb9f3a"
             ],
             [
              0.8888888888888888,
              "#fdca26"
             ],
             [
              1,
              "#f0f921"
             ]
            ],
            "type": "contour"
           }
          ],
          "contourcarpet": [
           {
            "colorbar": {
             "outlinewidth": 0,
             "ticks": ""
            },
            "type": "contourcarpet"
           }
          ],
          "heatmap": [
           {
            "colorbar": {
             "outlinewidth": 0,
             "ticks": ""
            },
            "colorscale": [
             [
              0,
              "#0d0887"
             ],
             [
              0.1111111111111111,
              "#46039f"
             ],
             [
              0.2222222222222222,
              "#7201a8"
             ],
             [
              0.3333333333333333,
              "#9c179e"
             ],
             [
              0.4444444444444444,
              "#bd3786"
             ],
             [
              0.5555555555555556,
              "#d8576b"
             ],
             [
              0.6666666666666666,
              "#ed7953"
             ],
             [
              0.7777777777777778,
              "#fb9f3a"
             ],
             [
              0.8888888888888888,
              "#fdca26"
             ],
             [
              1,
              "#f0f921"
             ]
            ],
            "type": "heatmap"
           }
          ],
          "heatmapgl": [
           {
            "colorbar": {
             "outlinewidth": 0,
             "ticks": ""
            },
            "colorscale": [
             [
              0,
              "#0d0887"
             ],
             [
              0.1111111111111111,
              "#46039f"
             ],
             [
              0.2222222222222222,
              "#7201a8"
             ],
             [
              0.3333333333333333,
              "#9c179e"
             ],
             [
              0.4444444444444444,
              "#bd3786"
             ],
             [
              0.5555555555555556,
              "#d8576b"
             ],
             [
              0.6666666666666666,
              "#ed7953"
             ],
             [
              0.7777777777777778,
              "#fb9f3a"
             ],
             [
              0.8888888888888888,
              "#fdca26"
             ],
             [
              1,
              "#f0f921"
             ]
            ],
            "type": "heatmapgl"
           }
          ],
          "histogram": [
           {
            "marker": {
             "pattern": {
              "fillmode": "overlay",
              "size": 10,
              "solidity": 0.2
             }
            },
            "type": "histogram"
           }
          ],
          "histogram2d": [
           {
            "colorbar": {
             "outlinewidth": 0,
             "ticks": ""
            },
            "colorscale": [
             [
              0,
              "#0d0887"
             ],
             [
              0.1111111111111111,
              "#46039f"
             ],
             [
              0.2222222222222222,
              "#7201a8"
             ],
             [
              0.3333333333333333,
              "#9c179e"
             ],
             [
              0.4444444444444444,
              "#bd3786"
             ],
             [
              0.5555555555555556,
              "#d8576b"
             ],
             [
              0.6666666666666666,
              "#ed7953"
             ],
             [
              0.7777777777777778,
              "#fb9f3a"
             ],
             [
              0.8888888888888888,
              "#fdca26"
             ],
             [
              1,
              "#f0f921"
             ]
            ],
            "type": "histogram2d"
           }
          ],
          "histogram2dcontour": [
           {
            "colorbar": {
             "outlinewidth": 0,
             "ticks": ""
            },
            "colorscale": [
             [
              0,
              "#0d0887"
             ],
             [
              0.1111111111111111,
              "#46039f"
             ],
             [
              0.2222222222222222,
              "#7201a8"
             ],
             [
              0.3333333333333333,
              "#9c179e"
             ],
             [
              0.4444444444444444,
              "#bd3786"
             ],
             [
              0.5555555555555556,
              "#d8576b"
             ],
             [
              0.6666666666666666,
              "#ed7953"
             ],
             [
              0.7777777777777778,
              "#fb9f3a"
             ],
             [
              0.8888888888888888,
              "#fdca26"
             ],
             [
              1,
              "#f0f921"
             ]
            ],
            "type": "histogram2dcontour"
           }
          ],
          "mesh3d": [
           {
            "colorbar": {
             "outlinewidth": 0,
             "ticks": ""
            },
            "type": "mesh3d"
           }
          ],
          "parcoords": [
           {
            "line": {
             "colorbar": {
              "outlinewidth": 0,
              "ticks": ""
             }
            },
            "type": "parcoords"
           }
          ],
          "pie": [
           {
            "automargin": true,
            "type": "pie"
           }
          ],
          "scatter": [
           {
            "fillpattern": {
             "fillmode": "overlay",
             "size": 10,
             "solidity": 0.2
            },
            "type": "scatter"
           }
          ],
          "scatter3d": [
           {
            "line": {
             "colorbar": {
              "outlinewidth": 0,
              "ticks": ""
             }
            },
            "marker": {
             "colorbar": {
              "outlinewidth": 0,
              "ticks": ""
             }
            },
            "type": "scatter3d"
           }
          ],
          "scattercarpet": [
           {
            "marker": {
             "colorbar": {
              "outlinewidth": 0,
              "ticks": ""
             }
            },
            "type": "scattercarpet"
           }
          ],
          "scattergeo": [
           {
            "marker": {
             "colorbar": {
              "outlinewidth": 0,
              "ticks": ""
             }
            },
            "type": "scattergeo"
           }
          ],
          "scattergl": [
           {
            "marker": {
             "colorbar": {
              "outlinewidth": 0,
              "ticks": ""
             }
            },
            "type": "scattergl"
           }
          ],
          "scattermapbox": [
           {
            "marker": {
             "colorbar": {
              "outlinewidth": 0,
              "ticks": ""
             }
            },
            "type": "scattermapbox"
           }
          ],
          "scatterpolar": [
           {
            "marker": {
             "colorbar": {
              "outlinewidth": 0,
              "ticks": ""
             }
            },
            "type": "scatterpolar"
           }
          ],
          "scatterpolargl": [
           {
            "marker": {
             "colorbar": {
              "outlinewidth": 0,
              "ticks": ""
             }
            },
            "type": "scatterpolargl"
           }
          ],
          "scatterternary": [
           {
            "marker": {
             "colorbar": {
              "outlinewidth": 0,
              "ticks": ""
             }
            },
            "type": "scatterternary"
           }
          ],
          "surface": [
           {
            "colorbar": {
             "outlinewidth": 0,
             "ticks": ""
            },
            "colorscale": [
             [
              0,
              "#0d0887"
             ],
             [
              0.1111111111111111,
              "#46039f"
             ],
             [
              0.2222222222222222,
              "#7201a8"
             ],
             [
              0.3333333333333333,
              "#9c179e"
             ],
             [
              0.4444444444444444,
              "#bd3786"
             ],
             [
              0.5555555555555556,
              "#d8576b"
             ],
             [
              0.6666666666666666,
              "#ed7953"
             ],
             [
              0.7777777777777778,
              "#fb9f3a"
             ],
             [
              0.8888888888888888,
              "#fdca26"
             ],
             [
              1,
              "#f0f921"
             ]
            ],
            "type": "surface"
           }
          ],
          "table": [
           {
            "cells": {
             "fill": {
              "color": "#EBF0F8"
             },
             "line": {
              "color": "white"
             }
            },
            "header": {
             "fill": {
              "color": "#C8D4E3"
             },
             "line": {
              "color": "white"
             }
            },
            "type": "table"
           }
          ]
         },
         "layout": {
          "annotationdefaults": {
           "arrowcolor": "#2a3f5f",
           "arrowhead": 0,
           "arrowwidth": 1
          },
          "autotypenumbers": "strict",
          "coloraxis": {
           "colorbar": {
            "outlinewidth": 0,
            "ticks": ""
           }
          },
          "colorscale": {
           "diverging": [
            [
             0,
             "#8e0152"
            ],
            [
             0.1,
             "#c51b7d"
            ],
            [
             0.2,
             "#de77ae"
            ],
            [
             0.3,
             "#f1b6da"
            ],
            [
             0.4,
             "#fde0ef"
            ],
            [
             0.5,
             "#f7f7f7"
            ],
            [
             0.6,
             "#e6f5d0"
            ],
            [
             0.7,
             "#b8e186"
            ],
            [
             0.8,
             "#7fbc41"
            ],
            [
             0.9,
             "#4d9221"
            ],
            [
             1,
             "#276419"
            ]
           ],
           "sequential": [
            [
             0,
             "#0d0887"
            ],
            [
             0.1111111111111111,
             "#46039f"
            ],
            [
             0.2222222222222222,
             "#7201a8"
            ],
            [
             0.3333333333333333,
             "#9c179e"
            ],
            [
             0.4444444444444444,
             "#bd3786"
            ],
            [
             0.5555555555555556,
             "#d8576b"
            ],
            [
             0.6666666666666666,
             "#ed7953"
            ],
            [
             0.7777777777777778,
             "#fb9f3a"
            ],
            [
             0.8888888888888888,
             "#fdca26"
            ],
            [
             1,
             "#f0f921"
            ]
           ],
           "sequentialminus": [
            [
             0,
             "#0d0887"
            ],
            [
             0.1111111111111111,
             "#46039f"
            ],
            [
             0.2222222222222222,
             "#7201a8"
            ],
            [
             0.3333333333333333,
             "#9c179e"
            ],
            [
             0.4444444444444444,
             "#bd3786"
            ],
            [
             0.5555555555555556,
             "#d8576b"
            ],
            [
             0.6666666666666666,
             "#ed7953"
            ],
            [
             0.7777777777777778,
             "#fb9f3a"
            ],
            [
             0.8888888888888888,
             "#fdca26"
            ],
            [
             1,
             "#f0f921"
            ]
           ]
          },
          "colorway": [
           "#636efa",
           "#EF553B",
           "#00cc96",
           "#ab63fa",
           "#FFA15A",
           "#19d3f3",
           "#FF6692",
           "#B6E880",
           "#FF97FF",
           "#FECB52"
          ],
          "font": {
           "color": "#2a3f5f"
          },
          "geo": {
           "bgcolor": "white",
           "lakecolor": "white",
           "landcolor": "#E5ECF6",
           "showlakes": true,
           "showland": true,
           "subunitcolor": "white"
          },
          "hoverlabel": {
           "align": "left"
          },
          "hovermode": "closest",
          "mapbox": {
           "style": "light"
          },
          "paper_bgcolor": "white",
          "plot_bgcolor": "#E5ECF6",
          "polar": {
           "angularaxis": {
            "gridcolor": "white",
            "linecolor": "white",
            "ticks": ""
           },
           "bgcolor": "#E5ECF6",
           "radialaxis": {
            "gridcolor": "white",
            "linecolor": "white",
            "ticks": ""
           }
          },
          "scene": {
           "xaxis": {
            "backgroundcolor": "#E5ECF6",
            "gridcolor": "white",
            "gridwidth": 2,
            "linecolor": "white",
            "showbackground": true,
            "ticks": "",
            "zerolinecolor": "white"
           },
           "yaxis": {
            "backgroundcolor": "#E5ECF6",
            "gridcolor": "white",
            "gridwidth": 2,
            "linecolor": "white",
            "showbackground": true,
            "ticks": "",
            "zerolinecolor": "white"
           },
           "zaxis": {
            "backgroundcolor": "#E5ECF6",
            "gridcolor": "white",
            "gridwidth": 2,
            "linecolor": "white",
            "showbackground": true,
            "ticks": "",
            "zerolinecolor": "white"
           }
          },
          "shapedefaults": {
           "line": {
            "color": "#2a3f5f"
           }
          },
          "ternary": {
           "aaxis": {
            "gridcolor": "white",
            "linecolor": "white",
            "ticks": ""
           },
           "baxis": {
            "gridcolor": "white",
            "linecolor": "white",
            "ticks": ""
           },
           "bgcolor": "#E5ECF6",
           "caxis": {
            "gridcolor": "white",
            "linecolor": "white",
            "ticks": ""
           }
          },
          "title": {
           "x": 0.05
          },
          "xaxis": {
           "automargin": true,
           "gridcolor": "white",
           "linecolor": "white",
           "ticks": "",
           "title": {
            "standoff": 15
           },
           "zerolinecolor": "white",
           "zerolinewidth": 2
          },
          "yaxis": {
           "automargin": true,
           "gridcolor": "white",
           "linecolor": "white",
           "ticks": "",
           "title": {
            "standoff": 15
           },
           "zerolinecolor": "white",
           "zerolinewidth": 2
          }
         }
        },
        "xaxis": {
         "anchor": "y",
         "categoryarray": [
          "Bronx",
          "Brooklyn",
          "Manhattan",
          "Queens",
          "Staten Island"
         ],
         "categoryorder": "array",
         "domain": [
          0,
          1
         ],
         "title": {
          "text": "Borough"
         }
        },
        "yaxis": {
         "anchor": "x",
         "domain": [
          0,
          1
         ],
         "title": {
          "text": "Incident Response Time (seconds)"
         }
        }
       }
      },
      "text/html": [
       "<div>                            <div id=\"03b8bcb9-e7ac-4360-9eb2-21ea049ed4be\" class=\"plotly-graph-div\" style=\"height:525px; width:100%;\"></div>            <script type=\"text/javascript\">                require([\"plotly\"], function(Plotly) {                    window.PLOTLYENV=window.PLOTLYENV || {};                                    if (document.getElementById(\"03b8bcb9-e7ac-4360-9eb2-21ea049ed4be\")) {                    Plotly.newPlot(                        \"03b8bcb9-e7ac-4360-9eb2-21ea049ed4be\",                        [{\"alignmentgroup\":\"True\",\"hovertemplate\":\"Borough=%{x}<br>Incident Response Time (seconds)=%{y}<extra></extra>\",\"legendgroup\":\"Bronx\",\"marker\":{\"color\":\"#636efa\"},\"name\":\"Bronx\",\"notched\":false,\"offsetgroup\":\"Bronx\",\"orientation\":\"v\",\"showlegend\":true,\"x\":[\"Bronx\",\"Bronx\",\"Bronx\",\"Bronx\",\"Bronx\",\"Bronx\",\"Bronx\",\"Bronx\",\"Bronx\",\"Bronx\",\"Bronx\",\"Bronx\"],\"x0\":\" \",\"xaxis\":\"x\",\"y\":[565.0215310708595,601.845925657065,578.259098577189,573.1923470264585,588.6609824451515,607.783205773525,605.654994215368,661.0382581466611,642.89907008056,597.2441333031275,605.2125163054391,662.784251348997],\"y0\":\" \",\"yaxis\":\"y\",\"type\":\"box\"},{\"alignmentgroup\":\"True\",\"hovertemplate\":\"Borough=%{x}<br>Incident Response Time (seconds)=%{y}<extra></extra>\",\"legendgroup\":\"Brooklyn\",\"marker\":{\"color\":\"#EF553B\"},\"name\":\"Brooklyn\",\"notched\":false,\"offsetgroup\":\"Brooklyn\",\"orientation\":\"v\",\"showlegend\":true,\"x\":[\"Brooklyn\",\"Brooklyn\",\"Brooklyn\",\"Brooklyn\",\"Brooklyn\",\"Brooklyn\",\"Brooklyn\",\"Brooklyn\",\"Brooklyn\",\"Brooklyn\",\"Brooklyn\",\"Brooklyn\"],\"x0\":\" \",\"xaxis\":\"x\",\"y\":[534.3804527684256,563.8736523399409,536.9810451356316,537.6803598651505,557.5867974890715,566.1526034950571,568.3805353480185,612.0765405801645,595.0541436388655,581.2882240177839,572.248900832611,629.0283002015185],\"y0\":\" \",\"yaxis\":\"y\",\"type\":\"box\"},{\"alignmentgroup\":\"True\",\"hovertemplate\":\"Borough=%{x}<br>Incident Response Time (seconds)=%{y}<extra></extra>\",\"legendgroup\":\"Manhattan\",\"marker\":{\"color\":\"#00cc96\"},\"name\":\"Manhattan\",\"notched\":false,\"offsetgroup\":\"Manhattan\",\"orientation\":\"v\",\"showlegend\":true,\"x\":[\"Manhattan\",\"Manhattan\",\"Manhattan\",\"Manhattan\",\"Manhattan\",\"Manhattan\",\"Manhattan\",\"Manhattan\",\"Manhattan\",\"Manhattan\",\"Manhattan\",\"Manhattan\"],\"x0\":\" \",\"xaxis\":\"x\",\"y\":[548.760145143089,564.1274185959255,543.6182964096965,551.129183062523,554.083040102113,577.0137853057761,562.532337996794,595.4109494162485,597.011097760845,575.2918183322624,575.4818342499054,591.6320877993851],\"y0\":\" \",\"yaxis\":\"y\",\"type\":\"box\"},{\"alignmentgroup\":\"True\",\"hovertemplate\":\"Borough=%{x}<br>Incident Response Time (seconds)=%{y}<extra></extra>\",\"legendgroup\":\"Queens\",\"marker\":{\"color\":\"#ab63fa\"},\"name\":\"Queens\",\"notched\":false,\"offsetgroup\":\"Queens\",\"orientation\":\"v\",\"showlegend\":true,\"x\":[\"Queens\",\"Queens\",\"Queens\",\"Queens\",\"Queens\",\"Queens\",\"Queens\",\"Queens\",\"Queens\",\"Queens\",\"Queens\",\"Queens\"],\"x0\":\" \",\"xaxis\":\"x\",\"y\":[559.172598535965,601.1997671972285,575.567826336582,568.1785266910535,576.2300243465791,584.934304990193,581.354605655123,618.5000431618425,640.371018418925,595.7750498038711,599.759129069186,626.5682501763205],\"y0\":\" \",\"yaxis\":\"y\",\"type\":\"box\"},{\"alignmentgroup\":\"True\",\"hovertemplate\":\"Borough=%{x}<br>Incident Response Time (seconds)=%{y}<extra></extra>\",\"legendgroup\":\"Staten Island\",\"marker\":{\"color\":\"#FFA15A\"},\"name\":\"Staten Island\",\"notched\":false,\"offsetgroup\":\"Staten Island\",\"orientation\":\"v\",\"showlegend\":true,\"x\":[\"Staten Island\",\"Staten Island\",\"Staten Island\",\"Staten Island\",\"Staten Island\",\"Staten Island\",\"Staten Island\",\"Staten Island\",\"Staten Island\",\"Staten Island\",\"Staten Island\",\"Staten Island\"],\"x0\":\" \",\"xaxis\":\"x\",\"y\":[547.2069989003675,568.09553389542,566.4452520891025,560.428035851294,557.6638953351645,568.2423818683064,556.4063332984435,613.6929843417095,611.3584006215406,575.9924464414939,583.0843973087444,617.715414047749],\"y0\":\" \",\"yaxis\":\"y\",\"type\":\"box\"}],                        {\"template\":{\"data\":{\"histogram2dcontour\":[{\"type\":\"histogram2dcontour\",\"colorbar\":{\"outlinewidth\":0,\"ticks\":\"\"},\"colorscale\":[[0.0,\"#0d0887\"],[0.1111111111111111,\"#46039f\"],[0.2222222222222222,\"#7201a8\"],[0.3333333333333333,\"#9c179e\"],[0.4444444444444444,\"#bd3786\"],[0.5555555555555556,\"#d8576b\"],[0.6666666666666666,\"#ed7953\"],[0.7777777777777778,\"#fb9f3a\"],[0.8888888888888888,\"#fdca26\"],[1.0,\"#f0f921\"]]}],\"choropleth\":[{\"type\":\"choropleth\",\"colorbar\":{\"outlinewidth\":0,\"ticks\":\"\"}}],\"histogram2d\":[{\"type\":\"histogram2d\",\"colorbar\":{\"outlinewidth\":0,\"ticks\":\"\"},\"colorscale\":[[0.0,\"#0d0887\"],[0.1111111111111111,\"#46039f\"],[0.2222222222222222,\"#7201a8\"],[0.3333333333333333,\"#9c179e\"],[0.4444444444444444,\"#bd3786\"],[0.5555555555555556,\"#d8576b\"],[0.6666666666666666,\"#ed7953\"],[0.7777777777777778,\"#fb9f3a\"],[0.8888888888888888,\"#fdca26\"],[1.0,\"#f0f921\"]]}],\"heatmap\":[{\"type\":\"heatmap\",\"colorbar\":{\"outlinewidth\":0,\"ticks\":\"\"},\"colorscale\":[[0.0,\"#0d0887\"],[0.1111111111111111,\"#46039f\"],[0.2222222222222222,\"#7201a8\"],[0.3333333333333333,\"#9c179e\"],[0.4444444444444444,\"#bd3786\"],[0.5555555555555556,\"#d8576b\"],[0.6666666666666666,\"#ed7953\"],[0.7777777777777778,\"#fb9f3a\"],[0.8888888888888888,\"#fdca26\"],[1.0,\"#f0f921\"]]}],\"heatmapgl\":[{\"type\":\"heatmapgl\",\"colorbar\":{\"outlinewidth\":0,\"ticks\":\"\"},\"colorscale\":[[0.0,\"#0d0887\"],[0.1111111111111111,\"#46039f\"],[0.2222222222222222,\"#7201a8\"],[0.3333333333333333,\"#9c179e\"],[0.4444444444444444,\"#bd3786\"],[0.5555555555555556,\"#d8576b\"],[0.6666666666666666,\"#ed7953\"],[0.7777777777777778,\"#fb9f3a\"],[0.8888888888888888,\"#fdca26\"],[1.0,\"#f0f921\"]]}],\"contourcarpet\":[{\"type\":\"contourcarpet\",\"colorbar\":{\"outlinewidth\":0,\"ticks\":\"\"}}],\"contour\":[{\"type\":\"contour\",\"colorbar\":{\"outlinewidth\":0,\"ticks\":\"\"},\"colorscale\":[[0.0,\"#0d0887\"],[0.1111111111111111,\"#46039f\"],[0.2222222222222222,\"#7201a8\"],[0.3333333333333333,\"#9c179e\"],[0.4444444444444444,\"#bd3786\"],[0.5555555555555556,\"#d8576b\"],[0.6666666666666666,\"#ed7953\"],[0.7777777777777778,\"#fb9f3a\"],[0.8888888888888888,\"#fdca26\"],[1.0,\"#f0f921\"]]}],\"surface\":[{\"type\":\"surface\",\"colorbar\":{\"outlinewidth\":0,\"ticks\":\"\"},\"colorscale\":[[0.0,\"#0d0887\"],[0.1111111111111111,\"#46039f\"],[0.2222222222222222,\"#7201a8\"],[0.3333333333333333,\"#9c179e\"],[0.4444444444444444,\"#bd3786\"],[0.5555555555555556,\"#d8576b\"],[0.6666666666666666,\"#ed7953\"],[0.7777777777777778,\"#fb9f3a\"],[0.8888888888888888,\"#fdca26\"],[1.0,\"#f0f921\"]]}],\"mesh3d\":[{\"type\":\"mesh3d\",\"colorbar\":{\"outlinewidth\":0,\"ticks\":\"\"}}],\"scatter\":[{\"fillpattern\":{\"fillmode\":\"overlay\",\"size\":10,\"solidity\":0.2},\"type\":\"scatter\"}],\"parcoords\":[{\"type\":\"parcoords\",\"line\":{\"colorbar\":{\"outlinewidth\":0,\"ticks\":\"\"}}}],\"scatterpolargl\":[{\"type\":\"scatterpolargl\",\"marker\":{\"colorbar\":{\"outlinewidth\":0,\"ticks\":\"\"}}}],\"bar\":[{\"error_x\":{\"color\":\"#2a3f5f\"},\"error_y\":{\"color\":\"#2a3f5f\"},\"marker\":{\"line\":{\"color\":\"#E5ECF6\",\"width\":0.5},\"pattern\":{\"fillmode\":\"overlay\",\"size\":10,\"solidity\":0.2}},\"type\":\"bar\"}],\"scattergeo\":[{\"type\":\"scattergeo\",\"marker\":{\"colorbar\":{\"outlinewidth\":0,\"ticks\":\"\"}}}],\"scatterpolar\":[{\"type\":\"scatterpolar\",\"marker\":{\"colorbar\":{\"outlinewidth\":0,\"ticks\":\"\"}}}],\"histogram\":[{\"marker\":{\"pattern\":{\"fillmode\":\"overlay\",\"size\":10,\"solidity\":0.2}},\"type\":\"histogram\"}],\"scattergl\":[{\"type\":\"scattergl\",\"marker\":{\"colorbar\":{\"outlinewidth\":0,\"ticks\":\"\"}}}],\"scatter3d\":[{\"type\":\"scatter3d\",\"line\":{\"colorbar\":{\"outlinewidth\":0,\"ticks\":\"\"}},\"marker\":{\"colorbar\":{\"outlinewidth\":0,\"ticks\":\"\"}}}],\"scattermapbox\":[{\"type\":\"scattermapbox\",\"marker\":{\"colorbar\":{\"outlinewidth\":0,\"ticks\":\"\"}}}],\"scatterternary\":[{\"type\":\"scatterternary\",\"marker\":{\"colorbar\":{\"outlinewidth\":0,\"ticks\":\"\"}}}],\"scattercarpet\":[{\"type\":\"scattercarpet\",\"marker\":{\"colorbar\":{\"outlinewidth\":0,\"ticks\":\"\"}}}],\"carpet\":[{\"aaxis\":{\"endlinecolor\":\"#2a3f5f\",\"gridcolor\":\"white\",\"linecolor\":\"white\",\"minorgridcolor\":\"white\",\"startlinecolor\":\"#2a3f5f\"},\"baxis\":{\"endlinecolor\":\"#2a3f5f\",\"gridcolor\":\"white\",\"linecolor\":\"white\",\"minorgridcolor\":\"white\",\"startlinecolor\":\"#2a3f5f\"},\"type\":\"carpet\"}],\"table\":[{\"cells\":{\"fill\":{\"color\":\"#EBF0F8\"},\"line\":{\"color\":\"white\"}},\"header\":{\"fill\":{\"color\":\"#C8D4E3\"},\"line\":{\"color\":\"white\"}},\"type\":\"table\"}],\"barpolar\":[{\"marker\":{\"line\":{\"color\":\"#E5ECF6\",\"width\":0.5},\"pattern\":{\"fillmode\":\"overlay\",\"size\":10,\"solidity\":0.2}},\"type\":\"barpolar\"}],\"pie\":[{\"automargin\":true,\"type\":\"pie\"}]},\"layout\":{\"autotypenumbers\":\"strict\",\"colorway\":[\"#636efa\",\"#EF553B\",\"#00cc96\",\"#ab63fa\",\"#FFA15A\",\"#19d3f3\",\"#FF6692\",\"#B6E880\",\"#FF97FF\",\"#FECB52\"],\"font\":{\"color\":\"#2a3f5f\"},\"hovermode\":\"closest\",\"hoverlabel\":{\"align\":\"left\"},\"paper_bgcolor\":\"white\",\"plot_bgcolor\":\"#E5ECF6\",\"polar\":{\"bgcolor\":\"#E5ECF6\",\"angularaxis\":{\"gridcolor\":\"white\",\"linecolor\":\"white\",\"ticks\":\"\"},\"radialaxis\":{\"gridcolor\":\"white\",\"linecolor\":\"white\",\"ticks\":\"\"}},\"ternary\":{\"bgcolor\":\"#E5ECF6\",\"aaxis\":{\"gridcolor\":\"white\",\"linecolor\":\"white\",\"ticks\":\"\"},\"baxis\":{\"gridcolor\":\"white\",\"linecolor\":\"white\",\"ticks\":\"\"},\"caxis\":{\"gridcolor\":\"white\",\"linecolor\":\"white\",\"ticks\":\"\"}},\"coloraxis\":{\"colorbar\":{\"outlinewidth\":0,\"ticks\":\"\"}},\"colorscale\":{\"sequential\":[[0.0,\"#0d0887\"],[0.1111111111111111,\"#46039f\"],[0.2222222222222222,\"#7201a8\"],[0.3333333333333333,\"#9c179e\"],[0.4444444444444444,\"#bd3786\"],[0.5555555555555556,\"#d8576b\"],[0.6666666666666666,\"#ed7953\"],[0.7777777777777778,\"#fb9f3a\"],[0.8888888888888888,\"#fdca26\"],[1.0,\"#f0f921\"]],\"sequentialminus\":[[0.0,\"#0d0887\"],[0.1111111111111111,\"#46039f\"],[0.2222222222222222,\"#7201a8\"],[0.3333333333333333,\"#9c179e\"],[0.4444444444444444,\"#bd3786\"],[0.5555555555555556,\"#d8576b\"],[0.6666666666666666,\"#ed7953\"],[0.7777777777777778,\"#fb9f3a\"],[0.8888888888888888,\"#fdca26\"],[1.0,\"#f0f921\"]],\"diverging\":[[0,\"#8e0152\"],[0.1,\"#c51b7d\"],[0.2,\"#de77ae\"],[0.3,\"#f1b6da\"],[0.4,\"#fde0ef\"],[0.5,\"#f7f7f7\"],[0.6,\"#e6f5d0\"],[0.7,\"#b8e186\"],[0.8,\"#7fbc41\"],[0.9,\"#4d9221\"],[1,\"#276419\"]]},\"xaxis\":{\"gridcolor\":\"white\",\"linecolor\":\"white\",\"ticks\":\"\",\"title\":{\"standoff\":15},\"zerolinecolor\":\"white\",\"automargin\":true,\"zerolinewidth\":2},\"yaxis\":{\"gridcolor\":\"white\",\"linecolor\":\"white\",\"ticks\":\"\",\"title\":{\"standoff\":15},\"zerolinecolor\":\"white\",\"automargin\":true,\"zerolinewidth\":2},\"scene\":{\"xaxis\":{\"backgroundcolor\":\"#E5ECF6\",\"gridcolor\":\"white\",\"linecolor\":\"white\",\"showbackground\":true,\"ticks\":\"\",\"zerolinecolor\":\"white\",\"gridwidth\":2},\"yaxis\":{\"backgroundcolor\":\"#E5ECF6\",\"gridcolor\":\"white\",\"linecolor\":\"white\",\"showbackground\":true,\"ticks\":\"\",\"zerolinecolor\":\"white\",\"gridwidth\":2},\"zaxis\":{\"backgroundcolor\":\"#E5ECF6\",\"gridcolor\":\"white\",\"linecolor\":\"white\",\"showbackground\":true,\"ticks\":\"\",\"zerolinecolor\":\"white\",\"gridwidth\":2}},\"shapedefaults\":{\"line\":{\"color\":\"#2a3f5f\"}},\"annotationdefaults\":{\"arrowcolor\":\"#2a3f5f\",\"arrowhead\":0,\"arrowwidth\":1},\"geo\":{\"bgcolor\":\"white\",\"landcolor\":\"#E5ECF6\",\"subunitcolor\":\"white\",\"showland\":true,\"showlakes\":true,\"lakecolor\":\"white\"},\"title\":{\"x\":0.05},\"mapbox\":{\"style\":\"light\"}}},\"xaxis\":{\"anchor\":\"y\",\"domain\":[0.0,1.0],\"title\":{\"text\":\"Borough\"},\"categoryorder\":\"array\",\"categoryarray\":[\"Bronx\",\"Brooklyn\",\"Manhattan\",\"Queens\",\"Staten Island\"]},\"yaxis\":{\"anchor\":\"x\",\"domain\":[0.0,1.0],\"title\":{\"text\":\"Incident Response Time (seconds)\"}},\"legend\":{\"title\":{\"text\":\"Borough\"},\"tracegroupgap\":0},\"margin\":{\"t\":60},\"boxmode\":\"overlay\"},                        {\"responsive\": true}                    ).then(function(){\n",
       "                            \n",
       "var gd = document.getElementById('03b8bcb9-e7ac-4360-9eb2-21ea049ed4be');\n",
       "var x = new MutationObserver(function (mutations, observer) {{\n",
       "        var display = window.getComputedStyle(gd).display;\n",
       "        if (!display || display === 'none') {{\n",
       "            console.log([gd, 'removed!']);\n",
       "            Plotly.purge(gd);\n",
       "            observer.disconnect();\n",
       "        }}\n",
       "}});\n",
       "\n",
       "// Listen for the removal of the full notebook cells\n",
       "var notebookContainer = gd.closest('#notebook-container');\n",
       "if (notebookContainer) {{\n",
       "    x.observe(notebookContainer, {childList: true});\n",
       "}}\n",
       "\n",
       "// Listen for the clearing of the current output cell\n",
       "var outputEl = gd.closest('.output');\n",
       "if (outputEl) {{\n",
       "    x.observe(outputEl, {childList: true});\n",
       "}}\n",
       "\n",
       "                        })                };                });            </script>        </div>"
      ]
     },
     "metadata": {},
     "output_type": "display_data"
    }
   ],
   "source": [
    "def visual3():\n",
    "    df = pd.read_csv(\"cleaned_response_times.csv\")\n",
    "    fig = px.box(df, x = \"Borough\", y = \"Incident Response Time\", color = \"Borough\", labels = {\"Borough\": \"Borough\",\"Incident Response Time\": \"Incident Response Time (seconds)\"})\n",
    "    return fig.show()\n",
    "   \n",
    "############ Function Call ############\n",
    "visual3() "
   ]
  },
  {
   "cell_type": "code",
   "execution_count": 109,
   "metadata": {
    "id": "YLZvX6Plxhhs"
   },
   "outputs": [],
   "source": [
    "### Visualization 3 Explanation\n",
    "\n",
    "# This visualization substantiates insight 4 and insight 5, where we respectively calculated measures of center and measures \n",
    "# of spread for each borough's incident response times. As you can tell the median response time is higher in the Bronx \n",
    "# and lower in Staten Island by the middle line in each box plot. However, Brooklyn's median incident response time is close\n",
    "# to that of Staten Island despite being significantly lower income with high poverty rates. This might be because of denser\n",
    "# population. The variability for lower income boroughs like the Bronx and Brooklymn is much higher than that of higher income \n",
    "# boroughs like Manhattan and Staten Island, however, as indicated by the spread of the box plots."
   ]
  },
  {
   "cell_type": "code",
   "execution_count": 110,
   "metadata": {
    "id": "vw5PqFI8xs0B"
   },
   "outputs": [],
   "source": [
    "## Summary Files"
   ]
  },
  {
   "cell_type": "code",
   "execution_count": 87,
   "metadata": {
    "id": "1U36oIX5xvlR"
   },
   "outputs": [
    {
     "name": "stderr",
     "output_type": "stream",
     "text": [
      "C:\\Users\\diyam\\AppData\\Local\\Temp\\ipykernel_25844\\1911405007.py:12: FutureWarning:\n",
      "\n",
      "The default value of regex will change from True to False in a future version.\n",
      "\n",
      "C:\\Users\\diyam\\AppData\\Local\\Temp\\ipykernel_25844\\1911405007.py:14: FutureWarning:\n",
      "\n",
      "The default value of regex will change from True to False in a future version.\n",
      "\n",
      "C:\\Users\\diyam\\AppData\\Local\\Temp\\ipykernel_25844\\1911405007.py:43: FutureWarning:\n",
      "\n",
      "The default value of regex will change from True to False in a future version.\n",
      "\n",
      "C:\\Users\\diyam\\AppData\\Local\\Temp\\ipykernel_25844\\1911405007.py:45: FutureWarning:\n",
      "\n",
      "The default value of regex will change from True to False in a future version.\n",
      "\n",
      "C:\\Users\\diyam\\AppData\\Local\\Temp\\ipykernel_25844\\1911405007.py:74: FutureWarning:\n",
      "\n",
      "The default value of regex will change from True to False in a future version.\n",
      "\n",
      "C:\\Users\\diyam\\AppData\\Local\\Temp\\ipykernel_25844\\1911405007.py:76: FutureWarning:\n",
      "\n",
      "The default value of regex will change from True to False in a future version.\n",
      "\n",
      "C:\\Users\\diyam\\AppData\\Local\\Temp\\ipykernel_25844\\1911405007.py:106: FutureWarning:\n",
      "\n",
      "The default value of regex will change from True to False in a future version.\n",
      "\n",
      "C:\\Users\\diyam\\AppData\\Local\\Temp\\ipykernel_25844\\1911405007.py:108: FutureWarning:\n",
      "\n",
      "The default value of regex will change from True to False in a future version.\n",
      "\n",
      "C:\\Users\\diyam\\AppData\\Local\\Temp\\ipykernel_25844\\1911405007.py:138: FutureWarning:\n",
      "\n",
      "The default value of regex will change from True to False in a future version.\n",
      "\n",
      "C:\\Users\\diyam\\AppData\\Local\\Temp\\ipykernel_25844\\1911405007.py:140: FutureWarning:\n",
      "\n",
      "The default value of regex will change from True to False in a future version.\n",
      "\n",
      "C:\\Users\\diyam\\Documents\\miniconda\\lib\\site-packages\\xlsxwriter\\workbook.py:339: UserWarning:\n",
      "\n",
      "Calling close() on already closed file.\n",
      "\n"
     ]
    }
   ],
   "source": [
    "def summary1(final_demographic, in2, final, in4, response_stats, data, dfs, df):\n",
    "    summary_file = pd.ExcelWriter(\"summary.xlsx\", engine = \"xlsxwriter\")\n",
    "    final_demographic.to_excel(summary_file, sheet_name = \"Insight 1\") \n",
    "    in2.to_excel(summary_file, sheet_name = \"Insight 2\")\n",
    "    final.to_excel(summary_file, sheet_name = \"Insight 3\")\n",
    "    in4.to_excel(summary_file, sheet_name = \"Insight 4\")\n",
    "    response_stats.to_excel(summary_file, sheet_name = \"Insight 5\")\n",
    "    data.to_excel(summary_file, sheet_name = \"Cleaned CSV\")\n",
    "    df.to_excel(summary_file, sheet_name = \"Cleaned JSON\")\n",
    "    summary_file.save()\n",
    "    \n",
    " \n",
    "    \n",
    "# Due to the nature of the cleaned API being in the format of a list of dataframes, we were unable to add it to the summary\n",
    "# file.\n",
    "\n",
    "############ Function Call ############\n",
    "a = insight1()\n",
    "b = insight2()\n",
    "c = insight3()\n",
    "d = insight4()\n",
    "e = insight5()\n",
    "f = chunked_ems_data()\n",
    "g = borough_data()\n",
    "h = response_times()\n",
    "summary1(a, b, c, d, e, f, g, h)\n"
   ]
  },
  {
   "cell_type": "code",
   "execution_count": 111,
   "metadata": {
    "id": "kd74HqEPx8zh"
   },
   "outputs": [],
   "source": [
    "# Cited Sources\n",
    "\n",
    "# If you used any additional sources to complete your Data Analysis section, list them here:\n",
    "\n",
    "# Insight #1: https://www.geeksforgeeks.org/linear-regression-python-implementation/\n",
    "# Insight #3: https://realpython.com/linear-regression-in-python/\n",
    "\n",
    "\n",
    "# *   Example Module Documentation\n",
    "# *   Example Stack Overflow Assistance\n",
    "\n"
   ]
  },
  {
   "cell_type": "code",
   "execution_count": 112,
   "metadata": {
    "id": "iuYbFQplyXK2"
   },
   "outputs": [],
   "source": [
    "\n",
    "\n",
    "# *   Video Presentation Link:\n",
    "\n",
    "\n",
    "# https://youtu.be/SCM-gqhSW4I\n",
    "\n"
   ]
  },
  {
   "cell_type": "code",
   "execution_count": 113,
   "metadata": {
    "id": "mZENd-i9cinj"
   },
   "outputs": [],
   "source": [
    "# Submission\n",
    "\n",
    "# Prior to submitting your notebook to Gradescope, be sure to <b>run all functions within this file</b>. We will not run your functions ourselves, so we must see your outputs within this file in order to receive full credit.\n"
   ]
  },
  {
   "cell_type": "code",
   "execution_count": null,
   "metadata": {},
   "outputs": [],
   "source": []
  }
 ],
 "metadata": {
  "colab": {
   "collapsed_sections": [],
   "name": "PhaseIII.ipynb",
   "provenance": []
  },
  "kernelspec": {
   "display_name": "Python 3 (ipykernel)",
   "language": "python",
   "name": "python3"
  },
  "language_info": {
   "codemirror_mode": {
    "name": "ipython",
    "version": 3
   },
   "file_extension": ".py",
   "mimetype": "text/x-python",
   "name": "python",
   "nbconvert_exporter": "python",
   "pygments_lexer": "ipython3",
   "version": "3.9.12"
  }
 },
 "nbformat": 4,
 "nbformat_minor": 1
}
